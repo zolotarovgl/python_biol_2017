{
 "cells": [
  {
   "cell_type": "code",
   "execution_count": 1,
   "metadata": {
    "collapsed": true
   },
   "outputs": [],
   "source": [
    "string='Král řekl Honzovi: \"Ta saň má 7 hlav! Zabij ji a dostaneš 1/2 království.\"'"
   ]
  },
  {
   "cell_type": "code",
   "execution_count": 2,
   "metadata": {
    "collapsed": true
   },
   "outputs": [],
   "source": [
    "#the list of all letters used in Czech alphabet was downloaded from: https://cs.wikipedia.org/wiki/Česká_abeceda"
   ]
  },
  {
   "cell_type": "code",
   "execution_count": 3,
   "metadata": {
    "collapsed": true
   },
   "outputs": [],
   "source": [
    "letters='a, á, b, c, č, d, ď, e, é, ě, f, g, h, ch, i, í, j, k, l, m, n, ň, o, ó, p, q, r, ř, s, š, t, ť, u, ú, ů, v, w, x, y, ý, z, ž'"
   ]
  },
  {
   "cell_type": "code",
   "execution_count": 4,
   "metadata": {},
   "outputs": [
    {
     "data": {
      "text/plain": [
       "'a, á, b, c, č, d, ď, e, é, ě, f, g, h, ch, i, í, j, k, l, m, n, ň, o, ó, p, q, r, ř, s, š, t, ť, u, ú, ů, v, w, x, y, ý, z, ž'"
      ]
     },
     "execution_count": 4,
     "metadata": {},
     "output_type": "execute_result"
    }
   ],
   "source": [
    "letters"
   ]
  },
  {
   "cell_type": "code",
   "execution_count": 5,
   "metadata": {
    "collapsed": true
   },
   "outputs": [],
   "source": [
    "letters=letters.replace(' ','')\n",
    "letters=letters.replace(',','')"
   ]
  },
  {
   "cell_type": "code",
   "execution_count": 6,
   "metadata": {
    "collapsed": true
   },
   "outputs": [],
   "source": [
    "numbers='1234567890' #i wanted to make the list of numbers via range() but smth went wrong"
   ]
  },
  {
   "cell_type": "code",
   "execution_count": 7,
   "metadata": {},
   "outputs": [
    {
     "name": "stdout",
     "output_type": "stream",
     "text": [
      "Počet písmen: 52\n"
     ]
    }
   ],
   "source": [
    "sum=0\n",
    "for letter in string.lower():\n",
    "    if letter in letters:\n",
    "        sum=sum+1\n",
    "print('Počet písmen:',sum)    "
   ]
  },
  {
   "cell_type": "code",
   "execution_count": 8,
   "metadata": {},
   "outputs": [
    {
     "name": "stdout",
     "output_type": "stream",
     "text": [
      "Počet čísel:  3\n"
     ]
    }
   ],
   "source": [
    "sum=0\n",
    "for letter in string.lower():\n",
    "    if letter in numbers:\n",
    "        sum=sum+1\n",
    "print('Počet čísel: ',sum)  "
   ]
  },
  {
   "cell_type": "code",
   "execution_count": 9,
   "metadata": {},
   "outputs": [
    {
     "name": "stdout",
     "output_type": "stream",
     "text": [
      "Počet jiných znaků:  19\n"
     ]
    }
   ],
   "source": [
    "sum=0\n",
    "for letter in string.lower():\n",
    "    if letter in numbers or letter in letters:\n",
    "        sum=sum\n",
    "    else:\n",
    "        sum=sum+1\n",
    "print('Počet jiných znaků: ',sum) "
   ]
  },
  {
   "cell_type": "code",
   "execution_count": 3,
   "metadata": {},
   "outputs": [
    {
     "name": "stdout",
     "output_type": "stream",
     "text": [
      "input age: 83\n",
      "mikes =  83\n",
      "mikes_lidsky_vek =  430\n"
     ]
    }
   ],
   "source": [
    "age = int(input('input age: '))\n",
    "if age ==1:\n",
    "    print('mikes = ',age)\n",
    "    print('mikes_lidsky_vek = ',18)\n",
    "elif age ==2:\n",
    "    print('mikes = ',age)\n",
    "    print('mikes_lidsky_vek = ',18+5)\n",
    "elif age>2:\n",
    "    new_age=18+7+5*(age-2) \n",
    "    print('mikes = ',age)\n",
    "    print('mikes_lidsky_vek = ',new_age)\n",
    "else:\n",
    "    print('Please,input natural number')"
   ]
  },
  {
   "cell_type": "code",
   "execution_count": null,
   "metadata": {
    "collapsed": true
   },
   "outputs": [],
   "source": []
  }
 ],
 "metadata": {
  "kernelspec": {
   "display_name": "Python 3",
   "language": "python",
   "name": "python3"
  },
  "language_info": {
   "codemirror_mode": {
    "name": "ipython",
    "version": 3
   },
   "file_extension": ".py",
   "mimetype": "text/x-python",
   "name": "python",
   "nbconvert_exporter": "python",
   "pygments_lexer": "ipython3",
   "version": "3.6.1"
  }
 },
 "nbformat": 4,
 "nbformat_minor": 2
}
