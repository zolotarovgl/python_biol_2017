{
 "cells": [
  {
   "cell_type": "code",
   "execution_count": 256,
   "metadata": {
    "collapsed": true
   },
   "outputs": [],
   "source": [
    "from plotly import __version__\n",
    "from plotly.offline import download_plotlyjs, init_notebook_mode, plot, iplot"
   ]
  },
  {
   "cell_type": "code",
   "execution_count": 107,
   "metadata": {
    "collapsed": true
   },
   "outputs": [],
   "source": [
    "from urllib.request import urlopen \n",
    "url = 'https://raw.github.com/vincentarelbundock/Rdatasets/master/csv/mosaicData/Birthdays.csv'\n",
    "birthdays_csv = urlopen(url)\n",
    " \n",
    "df = pd.read_csv(birthdays_csv, index_col=0, parse_dates=True)\n"
   ]
  },
  {
   "cell_type": "code",
   "execution_count": 108,
   "metadata": {
    "scrolled": true
   },
   "outputs": [],
   "source": [
    "states1=df.groupby('state').births.mean()"
   ]
  },
  {
   "cell_type": "code",
   "execution_count": 109,
   "metadata": {},
   "outputs": [],
   "source": [
    "states2=df.groupby('state').births.sum()"
   ]
  },
  {
   "cell_type": "code",
   "execution_count": 131,
   "metadata": {},
   "outputs": [],
   "source": [
    "states=pd.DataFrame({'mean': states1,'sum':states2,'code':states1.index})"
   ]
  },
  {
   "cell_type": "code",
   "execution_count": null,
   "metadata": {
    "collapsed": true
   },
   "outputs": [],
   "source": []
  },
  {
   "cell_type": "code",
   "execution_count": null,
   "metadata": {
    "collapsed": true
   },
   "outputs": [],
   "source": []
  },
  {
   "cell_type": "code",
   "execution_count": null,
   "metadata": {
    "collapsed": true
   },
   "outputs": [],
   "source": []
  },
  {
   "cell_type": "code",
   "execution_count": 134,
   "metadata": {},
   "outputs": [
    {
     "data": {
      "text/html": [
       "<div>\n",
       "<style>\n",
       "    .dataframe thead tr:only-child th {\n",
       "        text-align: right;\n",
       "    }\n",
       "\n",
       "    .dataframe thead th {\n",
       "        text-align: left;\n",
       "    }\n",
       "\n",
       "    .dataframe tbody tr th {\n",
       "        vertical-align: top;\n",
       "    }\n",
       "</style>\n",
       "<table border=\"1\" class=\"dataframe\">\n",
       "  <thead>\n",
       "    <tr style=\"text-align: right;\">\n",
       "      <th></th>\n",
       "      <th>code</th>\n",
       "      <th>mean</th>\n",
       "      <th>sum</th>\n",
       "    </tr>\n",
       "    <tr>\n",
       "      <th>state</th>\n",
       "      <th></th>\n",
       "      <th></th>\n",
       "      <th></th>\n",
       "    </tr>\n",
       "  </thead>\n",
       "  <tbody>\n",
       "    <tr>\n",
       "      <th>AK</th>\n",
       "      <td>AK</td>\n",
       "      <td>25.374350</td>\n",
       "      <td>185385</td>\n",
       "    </tr>\n",
       "    <tr>\n",
       "      <th>AL</th>\n",
       "      <td>AL</td>\n",
       "      <td>165.039934</td>\n",
       "      <td>1206772</td>\n",
       "    </tr>\n",
       "    <tr>\n",
       "      <th>AR</th>\n",
       "      <td>AR</td>\n",
       "      <td>93.600547</td>\n",
       "      <td>684220</td>\n",
       "    </tr>\n",
       "    <tr>\n",
       "      <th>AZ</th>\n",
       "      <td>AZ</td>\n",
       "      <td>129.580575</td>\n",
       "      <td>947234</td>\n",
       "    </tr>\n",
       "    <tr>\n",
       "      <th>CA</th>\n",
       "      <td>CA</td>\n",
       "      <td>1067.956997</td>\n",
       "      <td>7822785</td>\n",
       "    </tr>\n",
       "    <tr>\n",
       "      <th>CO</th>\n",
       "      <td>CO</td>\n",
       "      <td>129.552088</td>\n",
       "      <td>946378</td>\n",
       "    </tr>\n",
       "    <tr>\n",
       "      <th>CT</th>\n",
       "      <td>CT</td>\n",
       "      <td>112.737691</td>\n",
       "      <td>824338</td>\n",
       "    </tr>\n",
       "    <tr>\n",
       "      <th>DC</th>\n",
       "      <td>DC</td>\n",
       "      <td>58.195732</td>\n",
       "      <td>425469</td>\n",
       "    </tr>\n",
       "    <tr>\n",
       "      <th>DE</th>\n",
       "      <td>DE</td>\n",
       "      <td>25.825236</td>\n",
       "      <td>188705</td>\n",
       "    </tr>\n",
       "    <tr>\n",
       "      <th>FL</th>\n",
       "      <td>FL</td>\n",
       "      <td>359.148898</td>\n",
       "      <td>2624301</td>\n",
       "    </tr>\n",
       "    <tr>\n",
       "      <th>GA</th>\n",
       "      <td>GA</td>\n",
       "      <td>251.521739</td>\n",
       "      <td>1839630</td>\n",
       "    </tr>\n",
       "    <tr>\n",
       "      <th>HI</th>\n",
       "      <td>HI</td>\n",
       "      <td>47.265125</td>\n",
       "      <td>345319</td>\n",
       "    </tr>\n",
       "    <tr>\n",
       "      <th>IA</th>\n",
       "      <td>IA</td>\n",
       "      <td>119.108815</td>\n",
       "      <td>870209</td>\n",
       "    </tr>\n",
       "    <tr>\n",
       "      <th>ID</th>\n",
       "      <td>ID</td>\n",
       "      <td>45.567068</td>\n",
       "      <td>332913</td>\n",
       "    </tr>\n",
       "    <tr>\n",
       "      <th>IL</th>\n",
       "      <td>IL</td>\n",
       "      <td>488.039923</td>\n",
       "      <td>3569524</td>\n",
       "    </tr>\n",
       "    <tr>\n",
       "      <th>IN</th>\n",
       "      <td>IN</td>\n",
       "      <td>233.006976</td>\n",
       "      <td>1703514</td>\n",
       "    </tr>\n",
       "    <tr>\n",
       "      <th>KS</th>\n",
       "      <td>KS</td>\n",
       "      <td>98.729449</td>\n",
       "      <td>721811</td>\n",
       "    </tr>\n",
       "    <tr>\n",
       "      <th>KY</th>\n",
       "      <td>KY</td>\n",
       "      <td>153.559415</td>\n",
       "      <td>1122980</td>\n",
       "    </tr>\n",
       "    <tr>\n",
       "      <th>LA</th>\n",
       "      <td>LA</td>\n",
       "      <td>207.178137</td>\n",
       "      <td>1514265</td>\n",
       "    </tr>\n",
       "    <tr>\n",
       "      <th>MA</th>\n",
       "      <td>MA</td>\n",
       "      <td>216.457553</td>\n",
       "      <td>1583387</td>\n",
       "    </tr>\n",
       "    <tr>\n",
       "      <th>MD</th>\n",
       "      <td>MD</td>\n",
       "      <td>150.657366</td>\n",
       "      <td>1101456</td>\n",
       "    </tr>\n",
       "    <tr>\n",
       "      <th>ME</th>\n",
       "      <td>ME</td>\n",
       "      <td>43.806950</td>\n",
       "      <td>320185</td>\n",
       "    </tr>\n",
       "    <tr>\n",
       "      <th>MI</th>\n",
       "      <td>MI</td>\n",
       "      <td>387.427694</td>\n",
       "      <td>2837133</td>\n",
       "    </tr>\n",
       "    <tr>\n",
       "      <th>MN</th>\n",
       "      <td>MN</td>\n",
       "      <td>173.539029</td>\n",
       "      <td>1269438</td>\n",
       "    </tr>\n",
       "    <tr>\n",
       "      <th>MO</th>\n",
       "      <td>MO</td>\n",
       "      <td>210.423998</td>\n",
       "      <td>1537989</td>\n",
       "    </tr>\n",
       "    <tr>\n",
       "      <th>MS</th>\n",
       "      <td>MS</td>\n",
       "      <td>121.646101</td>\n",
       "      <td>889233</td>\n",
       "    </tr>\n",
       "    <tr>\n",
       "      <th>MT</th>\n",
       "      <td>MT</td>\n",
       "      <td>34.754825</td>\n",
       "      <td>253884</td>\n",
       "    </tr>\n",
       "    <tr>\n",
       "      <th>NC</th>\n",
       "      <td>NC</td>\n",
       "      <td>240.947448</td>\n",
       "      <td>1760603</td>\n",
       "    </tr>\n",
       "    <tr>\n",
       "      <th>ND</th>\n",
       "      <td>ND</td>\n",
       "      <td>32.675702</td>\n",
       "      <td>238696</td>\n",
       "    </tr>\n",
       "    <tr>\n",
       "      <th>NE</th>\n",
       "      <td>NE</td>\n",
       "      <td>69.408077</td>\n",
       "      <td>507026</td>\n",
       "    </tr>\n",
       "    <tr>\n",
       "      <th>NH</th>\n",
       "      <td>NH</td>\n",
       "      <td>36.259442</td>\n",
       "      <td>264984</td>\n",
       "    </tr>\n",
       "    <tr>\n",
       "      <th>NJ</th>\n",
       "      <td>NJ</td>\n",
       "      <td>271.122797</td>\n",
       "      <td>1984890</td>\n",
       "    </tr>\n",
       "    <tr>\n",
       "      <th>NM</th>\n",
       "      <td>NM</td>\n",
       "      <td>65.893404</td>\n",
       "      <td>481549</td>\n",
       "    </tr>\n",
       "    <tr>\n",
       "      <th>NV</th>\n",
       "      <td>NV</td>\n",
       "      <td>33.046394</td>\n",
       "      <td>241470</td>\n",
       "    </tr>\n",
       "    <tr>\n",
       "      <th>NY</th>\n",
       "      <td>NY</td>\n",
       "      <td>702.754534</td>\n",
       "      <td>5153299</td>\n",
       "    </tr>\n",
       "    <tr>\n",
       "      <th>OH</th>\n",
       "      <td>OH</td>\n",
       "      <td>455.844514</td>\n",
       "      <td>3336326</td>\n",
       "    </tr>\n",
       "    <tr>\n",
       "      <th>OK</th>\n",
       "      <td>OK</td>\n",
       "      <td>127.695182</td>\n",
       "      <td>932941</td>\n",
       "    </tr>\n",
       "    <tr>\n",
       "      <th>OR</th>\n",
       "      <td>OR</td>\n",
       "      <td>105.074997</td>\n",
       "      <td>767783</td>\n",
       "    </tr>\n",
       "    <tr>\n",
       "      <th>PA</th>\n",
       "      <td>PA</td>\n",
       "      <td>444.353615</td>\n",
       "      <td>3257112</td>\n",
       "    </tr>\n",
       "    <tr>\n",
       "      <th>RI</th>\n",
       "      <td>RI</td>\n",
       "      <td>36.281725</td>\n",
       "      <td>265038</td>\n",
       "    </tr>\n",
       "    <tr>\n",
       "      <th>SC</th>\n",
       "      <td>SC</td>\n",
       "      <td>133.788214</td>\n",
       "      <td>978527</td>\n",
       "    </tr>\n",
       "    <tr>\n",
       "      <th>SD</th>\n",
       "      <td>SD</td>\n",
       "      <td>32.270226</td>\n",
       "      <td>235734</td>\n",
       "    </tr>\n",
       "    <tr>\n",
       "      <th>TN</th>\n",
       "      <td>TN</td>\n",
       "      <td>194.070744</td>\n",
       "      <td>1418269</td>\n",
       "    </tr>\n",
       "    <tr>\n",
       "      <th>TX</th>\n",
       "      <td>TX</td>\n",
       "      <td>718.072715</td>\n",
       "      <td>5263473</td>\n",
       "    </tr>\n",
       "    <tr>\n",
       "      <th>UT</th>\n",
       "      <td>UT</td>\n",
       "      <td>97.681538</td>\n",
       "      <td>713759</td>\n",
       "    </tr>\n",
       "    <tr>\n",
       "      <th>VA</th>\n",
       "      <td>VA</td>\n",
       "      <td>209.090287</td>\n",
       "      <td>1528450</td>\n",
       "    </tr>\n",
       "    <tr>\n",
       "      <th>VT</th>\n",
       "      <td>VT</td>\n",
       "      <td>20.244490</td>\n",
       "      <td>147886</td>\n",
       "    </tr>\n",
       "    <tr>\n",
       "      <th>WA</th>\n",
       "      <td>WA</td>\n",
       "      <td>167.277443</td>\n",
       "      <td>1222129</td>\n",
       "    </tr>\n",
       "    <tr>\n",
       "      <th>WI</th>\n",
       "      <td>WI</td>\n",
       "      <td>192.362878</td>\n",
       "      <td>1406365</td>\n",
       "    </tr>\n",
       "    <tr>\n",
       "      <th>WV</th>\n",
       "      <td>WV</td>\n",
       "      <td>76.300000</td>\n",
       "      <td>557753</td>\n",
       "    </tr>\n",
       "    <tr>\n",
       "      <th>WY</th>\n",
       "      <td>WY</td>\n",
       "      <td>21.084052</td>\n",
       "      <td>154019</td>\n",
       "    </tr>\n",
       "  </tbody>\n",
       "</table>\n",
       "</div>"
      ],
      "text/plain": [
       "      code         mean      sum\n",
       "state                           \n",
       "AK      AK    25.374350   185385\n",
       "AL      AL   165.039934  1206772\n",
       "AR      AR    93.600547   684220\n",
       "AZ      AZ   129.580575   947234\n",
       "CA      CA  1067.956997  7822785\n",
       "CO      CO   129.552088   946378\n",
       "CT      CT   112.737691   824338\n",
       "DC      DC    58.195732   425469\n",
       "DE      DE    25.825236   188705\n",
       "FL      FL   359.148898  2624301\n",
       "GA      GA   251.521739  1839630\n",
       "HI      HI    47.265125   345319\n",
       "IA      IA   119.108815   870209\n",
       "ID      ID    45.567068   332913\n",
       "IL      IL   488.039923  3569524\n",
       "IN      IN   233.006976  1703514\n",
       "KS      KS    98.729449   721811\n",
       "KY      KY   153.559415  1122980\n",
       "LA      LA   207.178137  1514265\n",
       "MA      MA   216.457553  1583387\n",
       "MD      MD   150.657366  1101456\n",
       "ME      ME    43.806950   320185\n",
       "MI      MI   387.427694  2837133\n",
       "MN      MN   173.539029  1269438\n",
       "MO      MO   210.423998  1537989\n",
       "MS      MS   121.646101   889233\n",
       "MT      MT    34.754825   253884\n",
       "NC      NC   240.947448  1760603\n",
       "ND      ND    32.675702   238696\n",
       "NE      NE    69.408077   507026\n",
       "NH      NH    36.259442   264984\n",
       "NJ      NJ   271.122797  1984890\n",
       "NM      NM    65.893404   481549\n",
       "NV      NV    33.046394   241470\n",
       "NY      NY   702.754534  5153299\n",
       "OH      OH   455.844514  3336326\n",
       "OK      OK   127.695182   932941\n",
       "OR      OR   105.074997   767783\n",
       "PA      PA   444.353615  3257112\n",
       "RI      RI    36.281725   265038\n",
       "SC      SC   133.788214   978527\n",
       "SD      SD    32.270226   235734\n",
       "TN      TN   194.070744  1418269\n",
       "TX      TX   718.072715  5263473\n",
       "UT      UT    97.681538   713759\n",
       "VA      VA   209.090287  1528450\n",
       "VT      VT    20.244490   147886\n",
       "WA      WA   167.277443  1222129\n",
       "WI      WI   192.362878  1406365\n",
       "WV      WV    76.300000   557753\n",
       "WY      WY    21.084052   154019"
      ]
     },
     "execution_count": 134,
     "metadata": {},
     "output_type": "execute_result"
    }
   ],
   "source": [
    "states"
   ]
  },
  {
   "cell_type": "code",
   "execution_count": 127,
   "metadata": {},
   "outputs": [],
   "source": [
    "\n",
    "for col in states.columns:\n",
    "    states[col] = states[col].astype(str)\n",
    "scl = [[0.0, 'rgb(242,240,247)'],[0.2, 'rgb(218,218,235)'],[0.4, 'rgb(188,189,220)'],\\\n",
    "            [0.6, 'rgb(158,154,200)'],[0.8, 'rgb(117,107,177)'],[1.0, 'rgb(84,39,143)']]\n",
    "\n"
   ]
  },
  {
   "cell_type": "code",
   "execution_count": 250,
   "metadata": {
    "scrolled": true
   },
   "outputs": [],
   "source": [
    "states['text'] = states['code'] + '<br>' +\\\n",
    "    'Births '+ list(map(str,states['mean'].reset_index()['mean'].values  ))\n",
    "\n"
   ]
  },
  {
   "cell_type": "code",
   "execution_count": 258,
   "metadata": {},
   "outputs": [],
   "source": [
    "data = [ dict(\n",
    "        type='choropleth',\n",
    "        colorscale = scl,\n",
    "        autocolorscale = False,\n",
    "        locations = states['code'],\n",
    "        z = states['mean'].astype(float),\n",
    "        locationmode = 'USA-states',\n",
    "        text = states['text'],\n",
    "        marker = dict(\n",
    "            line = dict (\n",
    "                color = 'rgb(0,0,0)',\n",
    "                width = 1\n",
    "            ) ),\n",
    "        colorbar = dict(\n",
    "            title = \"births mean per day\")\n",
    "        ) ]"
   ]
  },
  {
   "cell_type": "code",
   "execution_count": 263,
   "metadata": {
    "collapsed": true
   },
   "outputs": [],
   "source": [
    "layout = dict(\n",
    "        title = 'US births 69-88',\n",
    "        geo = dict(\n",
    "            scope='usa',\n",
    "            projection=dict( type='albers usa' ),\n",
    "            showlakes = True,\n",
    "            lakecolor = 'rgb(255, 255, 255)'),\n",
    "             )"
   ]
  },
  {
   "cell_type": "code",
   "execution_count": 264,
   "metadata": {
    "collapsed": true
   },
   "outputs": [],
   "source": [
    "fig = dict( data=data, layout=layout )"
   ]
  },
  {
   "cell_type": "code",
   "execution_count": 265,
   "metadata": {
    "scrolled": false
   },
   "outputs": [
    {
     "data": {
      "application/vnd.plotly.v1+json": {
       "data": [
        {
         "autocolorscale": false,
         "colorbar": {
          "title": "births mean per day"
         },
         "colorscale": [
          [
           0,
           "rgb(242,240,247)"
          ],
          [
           0.2,
           "rgb(218,218,235)"
          ],
          [
           0.4,
           "rgb(188,189,220)"
          ],
          [
           0.6,
           "rgb(158,154,200)"
          ],
          [
           0.8,
           "rgb(117,107,177)"
          ],
          [
           1,
           "rgb(84,39,143)"
          ]
         ],
         "locationmode": "USA-states",
         "locations": [
          "AK",
          "AL",
          "AR",
          "AZ",
          "CA",
          "CO",
          "CT",
          "DC",
          "DE",
          "FL",
          "GA",
          "HI",
          "IA",
          "ID",
          "IL",
          "IN",
          "KS",
          "KY",
          "LA",
          "MA",
          "MD",
          "ME",
          "MI",
          "MN",
          "MO",
          "MS",
          "MT",
          "NC",
          "ND",
          "NE",
          "NH",
          "NJ",
          "NM",
          "NV",
          "NY",
          "OH",
          "OK",
          "OR",
          "PA",
          "RI",
          "SC",
          "SD",
          "TN",
          "TX",
          "UT",
          "VA",
          "VT",
          "WA",
          "WI",
          "WV",
          "WY"
         ],
         "marker": {
          "line": {
           "color": "rgb(0,0,0)",
           "width": 1
          }
         },
         "text": [
          "AK<br>Births 25.3743498494",
          "AL<br>Births 165.039934354",
          "AR<br>Births 93.6005471956",
          "AZ<br>Births 129.580574555",
          "CA<br>Births 1067.95699659",
          "CO<br>Births 129.552087611",
          "CT<br>Births 112.737691466",
          "DC<br>Births 58.1957324579",
          "DE<br>Births 25.825236075",
          "FL<br>Births 359.148898317",
          "GA<br>Births 251.52173913",
          "HI<br>Births 47.2651245552",
          "IA<br>Births 119.108814673",
          "ID<br>Births 45.5670681632",
          "IL<br>Births 488.039923435",
          "IN<br>Births 233.00697579",
          "KS<br>Births 98.7294487758",
          "KY<br>Births 153.559414741",
          "LA<br>Births 207.178136544",
          "MA<br>Births 216.457552973",
          "MD<br>Births 150.657365613",
          "ME<br>Births 43.8069503352",
          "MI<br>Births 387.427693568",
          "MN<br>Births 173.539029392",
          "MO<br>Births 210.423997811",
          "MS<br>Births 121.646101231",
          "MT<br>Births 34.754825462",
          "NC<br>Births 240.947447653",
          "ND<br>Births 32.6757015743",
          "NE<br>Births 69.4080766598",
          "NH<br>Births 36.2594417077",
          "NJ<br>Births 271.122797432",
          "NM<br>Births 65.8934044882",
          "NV<br>Births 33.0463938689",
          "NY<br>Births 702.754534297",
          "OH<br>Births 455.844514278",
          "OK<br>Births 127.695182042",
          "OR<br>Births 105.074996579",
          "PA<br>Births 444.35361528",
          "RI<br>Births 36.281724846",
          "SC<br>Births 133.788214383",
          "SD<br>Births 32.2702258727",
          "TN<br>Births 194.07074439",
          "TX<br>Births 718.07271487",
          "UT<br>Births 97.681538251",
          "VA<br>Births 209.090287278",
          "VT<br>Births 20.2444900753",
          "WA<br>Births 167.277443197",
          "WI<br>Births 192.362877855",
          "WV<br>Births 76.3",
          "WY<br>Births 21.0840520192"
         ],
         "type": "choropleth",
         "z": [
          25.37434984943882,
          165.03993435448578,
          93.60054719562244,
          129.58057455540356,
          1067.9569965870307,
          129.55208761122518,
          112.73769146608315,
          58.19573245794009,
          25.825236074996578,
          359.1488983166826,
          251.52173913043478,
          47.26512455516014,
          119.10881467287162,
          45.56706816315357,
          488.03992343450915,
          233.00697578990562,
          98.72944877581726,
          153.55941474087243,
          207.17813654398685,
          216.45755297334244,
          150.65736561345918,
          43.806950335203176,
          387.42769356820975,
          173.53902939166096,
          210.42399781091805,
          121.64610123119014,
          34.75482546201232,
          240.94744765293555,
          32.6757015742642,
          69.40807665982204,
          36.25944170771757,
          271.1227974320448,
          65.89340448823208,
          33.04639386889284,
          702.7545342970135,
          455.8445142779068,
          127.69518204215713,
          105.07499657862324,
          444.35361527967257,
          36.281724845995896,
          133.78821438337434,
          32.27022587268994,
          194.07074438970992,
          718.0727148703957,
          97.6815382509922,
          209.09028727770178,
          20.244490075290898,
          167.27744319737204,
          192.36287785528654,
          76.3,
          21.084052019164954
         ]
        }
       ],
       "layout": {
        "geo": {
         "lakecolor": "rgb(255, 255, 255)",
         "projection": {
          "type": "albers usa"
         },
         "scope": "usa",
         "showlakes": true
        },
        "title": "US births 69-88"
       }
      },
      "text/html": [
       "<div id=\"065eb14c-017f-4f81-bbff-f7cd77458964\" style=\"height: 525px; width: 100%;\" class=\"plotly-graph-div\"></div><script type=\"text/javascript\">require([\"plotly\"], function(Plotly) { window.PLOTLYENV=window.PLOTLYENV || {};window.PLOTLYENV.BASE_URL=\"https://plot.ly\";Plotly.newPlot(\"065eb14c-017f-4f81-bbff-f7cd77458964\", [{\"type\": \"choropleth\", \"colorscale\": [[0.0, \"rgb(242,240,247)\"], [0.2, \"rgb(218,218,235)\"], [0.4, \"rgb(188,189,220)\"], [0.6, \"rgb(158,154,200)\"], [0.8, \"rgb(117,107,177)\"], [1.0, \"rgb(84,39,143)\"]], \"autocolorscale\": false, \"locations\": [\"AK\", \"AL\", \"AR\", \"AZ\", \"CA\", \"CO\", \"CT\", \"DC\", \"DE\", \"FL\", \"GA\", \"HI\", \"IA\", \"ID\", \"IL\", \"IN\", \"KS\", \"KY\", \"LA\", \"MA\", \"MD\", \"ME\", \"MI\", \"MN\", \"MO\", \"MS\", \"MT\", \"NC\", \"ND\", \"NE\", \"NH\", \"NJ\", \"NM\", \"NV\", \"NY\", \"OH\", \"OK\", \"OR\", \"PA\", \"RI\", \"SC\", \"SD\", \"TN\", \"TX\", \"UT\", \"VA\", \"VT\", \"WA\", \"WI\", \"WV\", \"WY\"], \"z\": [25.37434984943882, 165.03993435448578, 93.60054719562244, 129.58057455540356, 1067.9569965870307, 129.55208761122518, 112.73769146608315, 58.19573245794009, 25.825236074996578, 359.1488983166826, 251.52173913043478, 47.26512455516014, 119.10881467287162, 45.56706816315357, 488.03992343450915, 233.00697578990562, 98.72944877581726, 153.55941474087243, 207.17813654398685, 216.45755297334244, 150.65736561345918, 43.806950335203176, 387.42769356820975, 173.53902939166096, 210.42399781091805, 121.64610123119014, 34.75482546201232, 240.94744765293555, 32.6757015742642, 69.40807665982204, 36.25944170771757, 271.1227974320448, 65.89340448823208, 33.04639386889284, 702.7545342970135, 455.8445142779068, 127.69518204215713, 105.07499657862324, 444.35361527967257, 36.281724845995896, 133.78821438337434, 32.27022587268994, 194.07074438970992, 718.0727148703957, 97.6815382509922, 209.09028727770178, 20.244490075290898, 167.27744319737204, 192.36287785528654, 76.3, 21.084052019164954], \"locationmode\": \"USA-states\", \"text\": [\"AK<br>Births 25.3743498494\", \"AL<br>Births 165.039934354\", \"AR<br>Births 93.6005471956\", \"AZ<br>Births 129.580574555\", \"CA<br>Births 1067.95699659\", \"CO<br>Births 129.552087611\", \"CT<br>Births 112.737691466\", \"DC<br>Births 58.1957324579\", \"DE<br>Births 25.825236075\", \"FL<br>Births 359.148898317\", \"GA<br>Births 251.52173913\", \"HI<br>Births 47.2651245552\", \"IA<br>Births 119.108814673\", \"ID<br>Births 45.5670681632\", \"IL<br>Births 488.039923435\", \"IN<br>Births 233.00697579\", \"KS<br>Births 98.7294487758\", \"KY<br>Births 153.559414741\", \"LA<br>Births 207.178136544\", \"MA<br>Births 216.457552973\", \"MD<br>Births 150.657365613\", \"ME<br>Births 43.8069503352\", \"MI<br>Births 387.427693568\", \"MN<br>Births 173.539029392\", \"MO<br>Births 210.423997811\", \"MS<br>Births 121.646101231\", \"MT<br>Births 34.754825462\", \"NC<br>Births 240.947447653\", \"ND<br>Births 32.6757015743\", \"NE<br>Births 69.4080766598\", \"NH<br>Births 36.2594417077\", \"NJ<br>Births 271.122797432\", \"NM<br>Births 65.8934044882\", \"NV<br>Births 33.0463938689\", \"NY<br>Births 702.754534297\", \"OH<br>Births 455.844514278\", \"OK<br>Births 127.695182042\", \"OR<br>Births 105.074996579\", \"PA<br>Births 444.35361528\", \"RI<br>Births 36.281724846\", \"SC<br>Births 133.788214383\", \"SD<br>Births 32.2702258727\", \"TN<br>Births 194.07074439\", \"TX<br>Births 718.07271487\", \"UT<br>Births 97.681538251\", \"VA<br>Births 209.090287278\", \"VT<br>Births 20.2444900753\", \"WA<br>Births 167.277443197\", \"WI<br>Births 192.362877855\", \"WV<br>Births 76.3\", \"WY<br>Births 21.0840520192\"], \"marker\": {\"line\": {\"color\": \"rgb(0,0,0)\", \"width\": 1}}, \"colorbar\": {\"title\": \"births mean per day\"}}], {\"title\": \"US births 69-88\", \"geo\": {\"scope\": \"usa\", \"projection\": {\"type\": \"albers usa\"}, \"showlakes\": true, \"lakecolor\": \"rgb(255, 255, 255)\"}}, {\"showLink\": true, \"linkText\": \"Export to plot.ly\"})});</script>"
      ],
      "text/vnd.plotly.v1+html": [
       "<div id=\"065eb14c-017f-4f81-bbff-f7cd77458964\" style=\"height: 525px; width: 100%;\" class=\"plotly-graph-div\"></div><script type=\"text/javascript\">require([\"plotly\"], function(Plotly) { window.PLOTLYENV=window.PLOTLYENV || {};window.PLOTLYENV.BASE_URL=\"https://plot.ly\";Plotly.newPlot(\"065eb14c-017f-4f81-bbff-f7cd77458964\", [{\"type\": \"choropleth\", \"colorscale\": [[0.0, \"rgb(242,240,247)\"], [0.2, \"rgb(218,218,235)\"], [0.4, \"rgb(188,189,220)\"], [0.6, \"rgb(158,154,200)\"], [0.8, \"rgb(117,107,177)\"], [1.0, \"rgb(84,39,143)\"]], \"autocolorscale\": false, \"locations\": [\"AK\", \"AL\", \"AR\", \"AZ\", \"CA\", \"CO\", \"CT\", \"DC\", \"DE\", \"FL\", \"GA\", \"HI\", \"IA\", \"ID\", \"IL\", \"IN\", \"KS\", \"KY\", \"LA\", \"MA\", \"MD\", \"ME\", \"MI\", \"MN\", \"MO\", \"MS\", \"MT\", \"NC\", \"ND\", \"NE\", \"NH\", \"NJ\", \"NM\", \"NV\", \"NY\", \"OH\", \"OK\", \"OR\", \"PA\", \"RI\", \"SC\", \"SD\", \"TN\", \"TX\", \"UT\", \"VA\", \"VT\", \"WA\", \"WI\", \"WV\", \"WY\"], \"z\": [25.37434984943882, 165.03993435448578, 93.60054719562244, 129.58057455540356, 1067.9569965870307, 129.55208761122518, 112.73769146608315, 58.19573245794009, 25.825236074996578, 359.1488983166826, 251.52173913043478, 47.26512455516014, 119.10881467287162, 45.56706816315357, 488.03992343450915, 233.00697578990562, 98.72944877581726, 153.55941474087243, 207.17813654398685, 216.45755297334244, 150.65736561345918, 43.806950335203176, 387.42769356820975, 173.53902939166096, 210.42399781091805, 121.64610123119014, 34.75482546201232, 240.94744765293555, 32.6757015742642, 69.40807665982204, 36.25944170771757, 271.1227974320448, 65.89340448823208, 33.04639386889284, 702.7545342970135, 455.8445142779068, 127.69518204215713, 105.07499657862324, 444.35361527967257, 36.281724845995896, 133.78821438337434, 32.27022587268994, 194.07074438970992, 718.0727148703957, 97.6815382509922, 209.09028727770178, 20.244490075290898, 167.27744319737204, 192.36287785528654, 76.3, 21.084052019164954], \"locationmode\": \"USA-states\", \"text\": [\"AK<br>Births 25.3743498494\", \"AL<br>Births 165.039934354\", \"AR<br>Births 93.6005471956\", \"AZ<br>Births 129.580574555\", \"CA<br>Births 1067.95699659\", \"CO<br>Births 129.552087611\", \"CT<br>Births 112.737691466\", \"DC<br>Births 58.1957324579\", \"DE<br>Births 25.825236075\", \"FL<br>Births 359.148898317\", \"GA<br>Births 251.52173913\", \"HI<br>Births 47.2651245552\", \"IA<br>Births 119.108814673\", \"ID<br>Births 45.5670681632\", \"IL<br>Births 488.039923435\", \"IN<br>Births 233.00697579\", \"KS<br>Births 98.7294487758\", \"KY<br>Births 153.559414741\", \"LA<br>Births 207.178136544\", \"MA<br>Births 216.457552973\", \"MD<br>Births 150.657365613\", \"ME<br>Births 43.8069503352\", \"MI<br>Births 387.427693568\", \"MN<br>Births 173.539029392\", \"MO<br>Births 210.423997811\", \"MS<br>Births 121.646101231\", \"MT<br>Births 34.754825462\", \"NC<br>Births 240.947447653\", \"ND<br>Births 32.6757015743\", \"NE<br>Births 69.4080766598\", \"NH<br>Births 36.2594417077\", \"NJ<br>Births 271.122797432\", \"NM<br>Births 65.8934044882\", \"NV<br>Births 33.0463938689\", \"NY<br>Births 702.754534297\", \"OH<br>Births 455.844514278\", \"OK<br>Births 127.695182042\", \"OR<br>Births 105.074996579\", \"PA<br>Births 444.35361528\", \"RI<br>Births 36.281724846\", \"SC<br>Births 133.788214383\", \"SD<br>Births 32.2702258727\", \"TN<br>Births 194.07074439\", \"TX<br>Births 718.07271487\", \"UT<br>Births 97.681538251\", \"VA<br>Births 209.090287278\", \"VT<br>Births 20.2444900753\", \"WA<br>Births 167.277443197\", \"WI<br>Births 192.362877855\", \"WV<br>Births 76.3\", \"WY<br>Births 21.0840520192\"], \"marker\": {\"line\": {\"color\": \"rgb(0,0,0)\", \"width\": 1}}, \"colorbar\": {\"title\": \"births mean per day\"}}], {\"title\": \"US births 69-88\", \"geo\": {\"scope\": \"usa\", \"projection\": {\"type\": \"albers usa\"}, \"showlakes\": true, \"lakecolor\": \"rgb(255, 255, 255)\"}}, {\"showLink\": true, \"linkText\": \"Export to plot.ly\"})});</script>"
      ]
     },
     "metadata": {},
     "output_type": "display_data"
    }
   ],
   "source": [
    "iplot( fig, filename='d3-cloropleth-map' )"
   ]
  },
  {
   "cell_type": "code",
   "execution_count": null,
   "metadata": {
    "collapsed": true
   },
   "outputs": [],
   "source": []
  },
  {
   "cell_type": "code",
   "execution_count": null,
   "metadata": {
    "collapsed": true
   },
   "outputs": [],
   "source": []
  },
  {
   "cell_type": "code",
   "execution_count": null,
   "metadata": {
    "collapsed": true
   },
   "outputs": [],
   "source": [
    "#line plots for multiple states"
   ]
  },
  {
   "cell_type": "code",
   "execution_count": 312,
   "metadata": {},
   "outputs": [],
   "source": [
    "df['births']=df['births'].astype(int)"
   ]
  },
  {
   "cell_type": "code",
   "execution_count": 338,
   "metadata": {
    "collapsed": true
   },
   "outputs": [],
   "source": [
    "df['year']=df['year'].astype(int)"
   ]
  },
  {
   "cell_type": "code",
   "execution_count": 568,
   "metadata": {},
   "outputs": [],
   "source": [
    "x = list(df['state'].unique())\n",
    "dct = {}\n",
    "for i in range(len(x)):\n",
    "    data=df.groupby('state').get_group(x[i])\n",
    "    data1=data.groupby('year').births.sum()\n",
    "    data2=pd.DataFrame({'year':data1.index, 'births':data1.values})\n",
    "    trace = go.Scatter(\n",
    "    x = list(data2['year'].values),\n",
    "    y = list(data2['births'].values))\n",
    "    data = trace\n",
    "    dct['trace%s' % i] = data\n",
    "locals().update(dct)"
   ]
  },
  {
   "cell_type": "code",
   "execution_count": 583,
   "metadata": {
    "scrolled": false
   },
   "outputs": [
    {
     "name": "stdout",
     "output_type": "stream",
     "text": [
      "This is the format of your plot grid:\n",
      "[ (1,1) x1,y1 ]     [ (1,2) x2,y2 ]     [ (1,3) x3,y3 ]     [ (1,4) x4,y4 ]     [ (1,5) x5,y5 ]     [ (1,6) x6,y6 ]   \n",
      "[ (2,1) x7,y7 ]     [ (2,2) x8,y8 ]     [ (2,3) x9,y9 ]     [ (2,4) x10,y10 ]   [ (2,5) x11,y11 ]   [ (2,6) x12,y12 ] \n",
      "[ (3,1) x13,y13 ]   [ (3,2) x14,y14 ]   [ (3,3) x15,y15 ]   [ (3,4) x16,y16 ]   [ (3,5) x17,y17 ]   [ (3,6) x18,y18 ] \n",
      "[ (4,1) x19,y19 ]   [ (4,2) x20,y20 ]   [ (4,3) x21,y21 ]   [ (4,4) x22,y22 ]   [ (4,5) x23,y23 ]   [ (4,6) x24,y24 ] \n",
      "[ (5,1) x25,y25 ]   [ (5,2) x26,y26 ]   [ (5,3) x27,y27 ]   [ (5,4) x28,y28 ]   [ (5,5) x29,y29 ]   [ (5,6) x30,y30 ] \n",
      "[ (6,1) x31,y31 ]   [ (6,2) x32,y32 ]   [ (6,3) x33,y33 ]   [ (6,4) x34,y34 ]   [ (6,5) x35,y35 ]   [ (6,6) x36,y36 ] \n",
      "[ (7,1) x37,y37 ]   [ (7,2) x38,y38 ]   [ (7,3) x39,y39 ]   [ (7,4) x40,y40 ]   [ (7,5) x41,y41 ]   [ (7,6) x42,y42 ] \n",
      "[ (8,1) x43,y43 ]   [ (8,2) x44,y44 ]   [ (8,3) x45,y45 ]   [ (8,4) x46,y46 ]   [ (8,5) x47,y47 ]   [ (8,6) x48,y48 ] \n",
      "[ (9,1) x49,y49 ]   [ (9,2) x50,y50 ]   [ (9,3) x51,y51 ]   [ (9,4) x52,y52 ]   [ (9,5) x53,y53 ]   [ (9,6) x54,y54 ] \n",
      "[ (10,1) x55,y55 ]  [ (10,2) x56,y56 ]  [ (10,3) x57,y57 ]  [ (10,4) x58,y58 ]  [ (10,5) x59,y59 ]  [ (10,6) x60,y60 ]\n",
      "\n"
     ]
    },
    {
     "data": {
      "application/vnd.plotly.v1+json": {
       "data": [
        {
         "type": "scatter",
         "x": [
          1969,
          1970,
          1971,
          1972,
          1973,
          1974,
          1975,
          1976,
          1977,
          1978,
          1979,
          1980,
          1981,
          1982,
          1983,
          1984,
          1985,
          1986,
          1987,
          1988
         ],
         "xaxis": "x1",
         "y": [
          6824,
          7464,
          7244,
          6892,
          6566,
          7014,
          7392,
          7816,
          8286,
          8752,
          9005,
          9462,
          9985,
          11146,
          11868,
          12324,
          12693,
          12007,
          11540,
          11105
         ],
         "yaxis": "y1"
        },
        {
         "type": "scatter",
         "x": [
          1969,
          1970,
          1971,
          1972,
          1973,
          1974,
          1975,
          1976,
          1977,
          1978,
          1979,
          1980,
          1981,
          1982,
          1983,
          1984,
          1985,
          1986,
          1987,
          1988
         ],
         "xaxis": "x2",
         "y": [
          64068,
          66878,
          66188,
          61206,
          58944,
          58920,
          57498,
          57282,
          61076,
          59185,
          61688,
          62370,
          60592,
          59229,
          58105,
          58169,
          58622,
          58204,
          58631,
          59917
         ],
         "yaxis": "y2"
        },
        {
         "type": "scatter",
         "x": [
          1969,
          1970,
          1971,
          1972,
          1973,
          1974,
          1975,
          1976,
          1977,
          1978,
          1979,
          1980,
          1981,
          1982,
          1983,
          1984,
          1985,
          1986,
          1987,
          1988
         ],
         "xaxis": "x3",
         "y": [
          33400,
          34746,
          35040,
          33040,
          32764,
          33856,
          33628,
          33292,
          34702,
          33822,
          35406,
          36338,
          34716,
          34325,
          34261,
          34331,
          34514,
          33877,
          34023,
          34139
         ],
         "yaxis": "y3"
        },
        {
         "type": "scatter",
         "x": [
          1969,
          1970,
          1971,
          1972,
          1973,
          1974,
          1975,
          1976,
          1977,
          1978,
          1979,
          1980,
          1981,
          1982,
          1983,
          1984,
          1985,
          1986,
          1987,
          1988
         ],
         "xaxis": "x4",
         "y": [
          34064,
          37362,
          38296,
          37278,
          37852,
          39846,
          39416,
          40038,
          41816,
          43012,
          46714,
          50078,
          51624,
          52394,
          53464,
          54862,
          59319,
          60800,
          63344,
          65655
         ],
         "yaxis": "y4"
        },
        {
         "type": "scatter",
         "x": [
          1969,
          1970,
          1971,
          1972,
          1973,
          1974,
          1975,
          1976,
          1977,
          1978,
          1979,
          1980,
          1981,
          1982,
          1983,
          1984,
          1985,
          1986,
          1987,
          1988
         ],
         "xaxis": "x5",
         "y": [
          352858,
          362682,
          329816,
          306538,
          298062,
          312018,
          317598,
          332220,
          347428,
          356180,
          379212,
          403014,
          420892,
          429864,
          436060,
          447574,
          471155,
          482530,
          503655,
          533429
         ],
         "yaxis": "y5"
        },
        {
         "type": "scatter",
         "x": [
          1969,
          1970,
          1971,
          1972,
          1973,
          1974,
          1975,
          1976,
          1977,
          1978,
          1979,
          1980,
          1981,
          1982,
          1983,
          1984,
          1985,
          1986,
          1987,
          1988
         ],
         "xaxis": "x6",
         "y": [
          40100,
          42544,
          41148,
          39480,
          39460,
          39815,
          40623,
          41345,
          43544,
          44511,
          47741,
          50167,
          52504,
          55202,
          55015,
          54569,
          55440,
          55556,
          54096,
          53518
         ],
         "yaxis": "y6"
        },
        {
         "type": "scatter",
         "x": [
          1969,
          1970,
          1971,
          1972,
          1973,
          1974,
          1975,
          1976,
          1977,
          1978,
          1979,
          1980,
          1981,
          1982,
          1983,
          1984,
          1985,
          1986,
          1987,
          1988
         ],
         "xaxis": "x7",
         "y": [
          49184,
          49852,
          44856,
          39142,
          37014,
          36360,
          35626,
          35398,
          36302,
          36996,
          38445,
          38523,
          39761,
          40141,
          40954,
          42064,
          43815,
          44767,
          46986,
          48152
         ],
         "yaxis": "y7"
        },
        {
         "type": "scatter",
         "x": [
          1969,
          1970,
          1971,
          1972,
          1973,
          1974,
          1975,
          1976,
          1977,
          1978,
          1979,
          1980,
          1981,
          1982,
          1983,
          1984,
          1985,
          1986,
          1987,
          1988
         ],
         "xaxis": "x8",
         "y": [
          27780,
          28202,
          25926,
          22602,
          20652,
          19850,
          19772,
          19904,
          20666,
          19660,
          20232,
          20262,
          19726,
          19824,
          19050,
          19616,
          19938,
          19927,
          20529,
          21351
         ],
         "yaxis": "y8"
        },
        {
         "type": "scatter",
         "x": [
          1969,
          1970,
          1971,
          1972,
          1973,
          1974,
          1975,
          1976,
          1977,
          1978,
          1979,
          1980,
          1981,
          1982,
          1983,
          1984,
          1985,
          1986,
          1987,
          1988
         ],
         "xaxis": "x9",
         "y": [
          10116,
          10476,
          9896,
          8878,
          8282,
          8438,
          8412,
          8300,
          8794,
          8958,
          9184,
          9574,
          9442,
          9526,
          9542,
          9550,
          9882,
          10098,
          10398,
          10959
         ],
         "yaxis": "y9"
        },
        {
         "type": "scatter",
         "x": [
          1969,
          1970,
          1971,
          1972,
          1973,
          1974,
          1975,
          1976,
          1977,
          1978,
          1979,
          1980,
          1981,
          1982,
          1983,
          1984,
          1985,
          1986,
          1987,
          1988
         ],
         "xaxis": "x10",
         "y": [
          106926,
          114484,
          115744,
          109186,
          107174,
          109780,
          105116,
          104005,
          110395,
          112933,
          120774,
          131470,
          138121,
          144182,
          148677,
          155199,
          163611,
          167518,
          175038,
          183968
         ],
         "yaxis": "y10"
        },
        {
         "type": "scatter",
         "x": [
          1969,
          1970,
          1971,
          1972,
          1973,
          1974,
          1975,
          1976,
          1977,
          1978,
          1979,
          1980,
          1981,
          1982,
          1983,
          1984,
          1985,
          1986,
          1987,
          1988
         ],
         "xaxis": "x11",
         "y": [
          91622,
          96918,
          95050,
          88472,
          86464,
          84676,
          81444,
          80864,
          86306,
          85996,
          89582,
          93976,
          91738,
          91984,
          91682,
          93768,
          98033,
          100151,
          103881,
          107023
         ],
         "yaxis": "y11"
        },
        {
         "type": "scatter",
         "x": [
          1969,
          1970,
          1971,
          1972,
          1973,
          1974,
          1975,
          1976,
          1977,
          1978,
          1979,
          1980,
          1981,
          1982,
          1983,
          1984,
          1985,
          1986,
          1987,
          1988
         ],
         "xaxis": "x12",
         "y": [
          15750,
          16488,
          15836,
          15410,
          15356,
          15512,
          15758,
          16402,
          16976,
          16752,
          17568,
          18217,
          18230,
          18734,
          19164,
          18756,
          18329,
          18341,
          18689,
          19051
         ],
         "yaxis": "y12"
        },
        {
         "type": "scatter",
         "x": [
          1969,
          1970,
          1971,
          1972,
          1973,
          1974,
          1975,
          1976,
          1977,
          1978,
          1979,
          1980,
          1981,
          1982,
          1983,
          1984,
          1985,
          1986,
          1987,
          1988
         ],
         "xaxis": "x13",
         "y": [
          47896,
          49096,
          45724,
          41294,
          39250,
          40562,
          41771,
          42131,
          45351,
          44979,
          47321,
          48378,
          46607,
          45427,
          43838,
          42921,
          41743,
          39203,
          38356,
          38361
         ],
         "yaxis": "y13"
        },
        {
         "type": "scatter",
         "x": [
          1969,
          1970,
          1971,
          1972,
          1973,
          1974,
          1975,
          1976,
          1977,
          1978,
          1979,
          1980,
          1981,
          1982,
          1983,
          1984,
          1985,
          1986,
          1987,
          1988
         ],
         "xaxis": "x14",
         "y": [
          13072,
          14078,
          13924,
          13704,
          14102,
          15160,
          15860,
          16884,
          18292,
          18878,
          19533,
          19657,
          19229,
          19287,
          18480,
          17804,
          17326,
          16344,
          15736,
          15563
         ],
         "yaxis": "y14"
        },
        {
         "type": "scatter",
         "x": [
          1969,
          1970,
          1971,
          1972,
          1973,
          1974,
          1975,
          1976,
          1977,
          1978,
          1979,
          1980,
          1981,
          1982,
          1983,
          1984,
          1985,
          1986,
          1987,
          1988
         ],
         "xaxis": "x15",
         "y": [
          193136,
          202388,
          192694,
          175588,
          166700,
          166532,
          166882,
          167679,
          174441,
          171710,
          181153,
          186773,
          181856,
          180227,
          175648,
          176088,
          177447,
          173430,
          177473,
          181679
         ],
         "yaxis": "y15"
        },
        {
         "type": "scatter",
         "x": [
          1969,
          1970,
          1971,
          1972,
          1973,
          1974,
          1975,
          1976,
          1977,
          1978,
          1979,
          1980,
          1981,
          1982,
          1983,
          1984,
          1985,
          1986,
          1987,
          1988
         ],
         "xaxis": "x16",
         "y": [
          94562,
          100006,
          96142,
          87600,
          84096,
          83428,
          82484,
          80610,
          85314,
          83513,
          87380,
          88560,
          84511,
          84014,
          80812,
          80095,
          80957,
          79286,
          78509,
          81635
         ],
         "yaxis": "y16"
        },
        {
         "type": "scatter",
         "x": [
          1969,
          1970,
          1971,
          1972,
          1973,
          1974,
          1975,
          1976,
          1977,
          1978,
          1979,
          1980,
          1981,
          1982,
          1983,
          1984,
          1985,
          1986,
          1987,
          1988
         ],
         "xaxis": "x17",
         "y": [
          35456,
          36264,
          34252,
          31500,
          30662,
          31295,
          32363,
          33538,
          34932,
          34795,
          37419,
          39468,
          40135,
          39910,
          39409,
          38935,
          38500,
          38083,
          37321,
          37574
         ],
         "yaxis": "y17"
        },
        {
         "type": "scatter",
         "x": [
          1969,
          1970,
          1971,
          1972,
          1973,
          1974,
          1975,
          1976,
          1977,
          1978,
          1979,
          1980,
          1981,
          1982,
          1983,
          1984,
          1985,
          1986,
          1987,
          1988
         ],
         "xaxis": "x18",
         "y": [
          58276,
          61164,
          61632,
          56372,
          54966,
          54326,
          55980,
          56964,
          59923,
          58295,
          60030,
          60312,
          57988,
          57147,
          53854,
          52119,
          51856,
          50790,
          50605,
          50381
         ],
         "yaxis": "y18"
        },
        {
         "type": "scatter",
         "x": [
          1969,
          1970,
          1971,
          1972,
          1973,
          1974,
          1975,
          1976,
          1977,
          1978,
          1979,
          1980,
          1981,
          1982,
          1983,
          1984,
          1985,
          1986,
          1987,
          1988
         ],
         "xaxis": "x19",
         "y": [
          75092,
          74920,
          73398,
          68714,
          66766,
          65982,
          68136,
          70002,
          75571,
          75029,
          79365,
          82208,
          82206,
          84637,
          82453,
          81496,
          81649,
          78093,
          74312,
          74236
         ],
         "yaxis": "y19"
        },
        {
         "type": "scatter",
         "x": [
          1969,
          1970,
          1971,
          1972,
          1973,
          1974,
          1975,
          1976,
          1977,
          1978,
          1979,
          1980,
          1981,
          1982,
          1983,
          1984,
          1985,
          1986,
          1987,
          1988
         ],
         "xaxis": "x20",
         "y": [
          94852,
          96312,
          89452,
          79160,
          74140,
          71882,
          69744,
          67656,
          69559,
          70311,
          72283,
          74254,
          75545,
          77451,
          77750,
          79750,
          83307,
          83801,
          86220,
          89958
         ],
         "yaxis": "y20"
        },
        {
         "type": "scatter",
         "x": [
          1969,
          1970,
          1971,
          1972,
          1973,
          1974,
          1975,
          1976,
          1977,
          1978,
          1979,
          1980,
          1981,
          1982,
          1983,
          1984,
          1985,
          1986,
          1987,
          1988
         ],
         "xaxis": "x21",
         "y": [
          60326,
          60558,
          57492,
          51038,
          47332,
          46710,
          45807,
          45514,
          48341,
          48227,
          50980,
          52570,
          54327,
          57184,
          57930,
          59302,
          61530,
          62859,
          65346,
          68083
         ],
         "yaxis": "y21"
        },
        {
         "type": "scatter",
         "x": [
          1969,
          1970,
          1971,
          1972,
          1973,
          1974,
          1975,
          1976,
          1977,
          1978,
          1979,
          1980,
          1981,
          1982,
          1983,
          1984,
          1985,
          1986,
          1987,
          1988
         ],
         "xaxis": "x22",
         "y": [
          17296,
          17690,
          17742,
          16229,
          15604,
          14753,
          14771,
          14519,
          15590,
          15297,
          15810,
          15875,
          15875,
          16055,
          16044,
          16134,
          16244,
          16026,
          16111,
          16520
         ],
         "yaxis": "y22"
        },
        {
         "type": "scatter",
         "x": [
          1969,
          1970,
          1971,
          1972,
          1973,
          1974,
          1975,
          1976,
          1977,
          1978,
          1979,
          1980,
          1981,
          1982,
          1983,
          1984,
          1985,
          1986,
          1987,
          1988
         ],
         "xaxis": "x23",
         "y": [
          163940,
          170754,
          161144,
          146026,
          140370,
          136421,
          132783,
          130259,
          137143,
          137900,
          143237,
          144077,
          139412,
          137128,
          131836,
          134871,
          136757,
          136193,
          138917,
          137965
         ],
         "yaxis": "y23"
        },
        {
         "type": "scatter",
         "x": [
          1969,
          1970,
          1971,
          1972,
          1973,
          1974,
          1975,
          1976,
          1977,
          1978,
          1979,
          1980,
          1981,
          1982,
          1983,
          1984,
          1985,
          1986,
          1987,
          1988
         ],
         "xaxis": "x24",
         "y": [
          65958,
          68196,
          62584,
          56516,
          53872,
          55844,
          56764,
          56939,
          60654,
          62387,
          65744,
          68289,
          68974,
          68995,
          65976,
          67040,
          67523,
          65790,
          64984,
          66409
         ],
         "yaxis": "y24"
        },
        {
         "type": "scatter",
         "x": [
          1969,
          1970,
          1971,
          1972,
          1973,
          1974,
          1975,
          1976,
          1977,
          1978,
          1979,
          1980,
          1981,
          1982,
          1983,
          1984,
          1985,
          1986,
          1987,
          1988
         ],
         "xaxis": "x25",
         "y": [
          81266,
          83730,
          81364,
          75135,
          70839,
          71915,
          70787,
          71319,
          75688,
          75283,
          78562,
          80770,
          78538,
          78334,
          77061,
          76293,
          78760,
          77105,
          76909,
          78331
         ],
         "yaxis": "y25"
        },
        {
         "type": "scatter",
         "x": [
          1969,
          1970,
          1971,
          1972,
          1973,
          1974,
          1975,
          1976,
          1977,
          1978,
          1979,
          1980,
          1981,
          1982,
          1983,
          1984,
          1985,
          1986,
          1987,
          1988
         ],
         "xaxis": "x26",
         "y": [
          47102,
          48034,
          48334,
          45560,
          44128,
          43562,
          43400,
          42676,
          45292,
          44148,
          45628,
          47399,
          45782,
          45537,
          43689,
          43358,
          42719,
          41242,
          40374,
          41269
         ],
         "yaxis": "y26"
        },
        {
         "type": "scatter",
         "x": [
          1969,
          1970,
          1971,
          1972,
          1973,
          1974,
          1975,
          1976,
          1977,
          1978,
          1979,
          1980,
          1981,
          1982,
          1983,
          1984,
          1985,
          1986,
          1987,
          1988
         ],
         "xaxis": "x27",
         "y": [
          11620,
          12444,
          12234,
          11314,
          11232,
          12084,
          11815,
          12360,
          13055,
          13243,
          13804,
          13874,
          13999,
          14236,
          13739,
          13866,
          13217,
          12431,
          11924,
          11393
         ],
         "yaxis": "y27"
        },
        {
         "type": "scatter",
         "x": [
          1969,
          1970,
          1971,
          1972,
          1973,
          1974,
          1975,
          1976,
          1977,
          1978,
          1979,
          1980,
          1981,
          1982,
          1983,
          1984,
          1985,
          1986,
          1987,
          1988
         ],
         "xaxis": "x28",
         "y": [
          93956,
          98404,
          95752,
          89340,
          85828,
          84288,
          80806,
          80583,
          84872,
          82801,
          84249,
          85102,
          84463,
          86603,
          84566,
          86625,
          89980,
          90649,
          93868,
          97868
         ],
         "yaxis": "y28"
        },
        {
         "type": "scatter",
         "x": [
          1969,
          1970,
          1971,
          1972,
          1973,
          1974,
          1975,
          1976,
          1977,
          1978,
          1979,
          1980,
          1981,
          1982,
          1983,
          1984,
          1985,
          1986,
          1987,
          1988
         ],
         "xaxis": "x29",
         "y": [
          11276,
          11558,
          10900,
          10578,
          10388,
          10712,
          11272,
          11394,
          12232,
          12126,
          12752,
          12960,
          13388,
          13622,
          13197,
          12729,
          12734,
          11892,
          11545,
          11441
         ],
         "yaxis": "y29"
        },
        {
         "type": "scatter",
         "x": [
          1969,
          1970,
          1971,
          1972,
          1973,
          1974,
          1975,
          1976,
          1977,
          1978,
          1979,
          1980,
          1981,
          1982,
          1983,
          1984,
          1985,
          1986,
          1987,
          1988
         ],
         "xaxis": "x30",
         "y": [
          24806,
          25948,
          25670,
          23686,
          22994,
          23962,
          23908,
          24019,
          25558,
          25424,
          26566,
          27672,
          27514,
          27243,
          26599,
          26449,
          25884,
          24752,
          24106,
          24266
         ],
         "yaxis": "y30"
        },
        {
         "type": "scatter",
         "x": [
          1969,
          1970,
          1971,
          1972,
          1973,
          1974,
          1975,
          1976,
          1977,
          1978,
          1979,
          1980,
          1981,
          1982,
          1983,
          1984,
          1985,
          1986,
          1987,
          1988
         ],
         "xaxis": "x31",
         "y": [
          12288,
          12870,
          12578,
          11387,
          10959,
          11428,
          11073,
          11087,
          12130,
          12357,
          12819,
          13718,
          13714,
          14147,
          13680,
          14075,
          15308,
          15628,
          16685,
          17053
         ],
         "yaxis": "y31"
        },
        {
         "type": "scatter",
         "x": [
          1969,
          1970,
          1971,
          1972,
          1973,
          1974,
          1975,
          1976,
          1977,
          1978,
          1979,
          1980,
          1981,
          1982,
          1983,
          1984,
          1985,
          1986,
          1987,
          1988
         ],
         "xaxis": "x32",
         "y": [
          113754,
          116838,
          109546,
          97760,
          92774,
          91862,
          89014,
          87764,
          91196,
          90676,
          93370,
          93724,
          93428,
          95575,
          96130,
          98214,
          102426,
          105916,
          110338,
          114585
         ],
         "yaxis": "y32"
        },
        {
         "type": "scatter",
         "x": [
          1969,
          1970,
          1971,
          1972,
          1973,
          1974,
          1975,
          1976,
          1977,
          1978,
          1979,
          1980,
          1981,
          1982,
          1983,
          1984,
          1985,
          1986,
          1987,
          1988
         ],
         "xaxis": "x33",
         "y": [
          21316,
          21820,
          22120,
          20650,
          20470,
          21112,
          20840,
          21646,
          22600,
          23264,
          24768,
          25476,
          26084,
          27203,
          27121,
          27084,
          27296,
          27061,
          26932,
          26686
         ],
         "yaxis": "y33"
        },
        {
         "type": "scatter",
         "x": [
          1969,
          1970,
          1971,
          1972,
          1973,
          1974,
          1975,
          1976,
          1977,
          1978,
          1979,
          1980,
          1981,
          1982,
          1983,
          1984,
          1985,
          1986,
          1987,
          1988
         ],
         "xaxis": "x34",
         "y": [
          8902,
          9390,
          9598,
          8868,
          8500,
          8782,
          8844,
          9530,
          10091,
          10811,
          12293,
          13191,
          13881,
          14400,
          14166,
          14769,
          15216,
          15787,
          16557,
          17894
         ],
         "yaxis": "y34"
        },
        {
         "type": "scatter",
         "x": [
          1969,
          1970,
          1971,
          1972,
          1973,
          1974,
          1975,
          1976,
          1977,
          1978,
          1979,
          1980,
          1981,
          1982,
          1983,
          1984,
          1985,
          1986,
          1987,
          1988
         ],
         "xaxis": "x35",
         "y": [
          311984,
          318968,
          285780,
          254946,
          240315,
          241011,
          237683,
          237034,
          241450,
          235024,
          236975,
          239993,
          243252,
          248145,
          249381,
          251862,
          260287,
          264805,
          272835,
          281569
         ],
         "yaxis": "y35"
        },
        {
         "type": "scatter",
         "x": [
          1969,
          1970,
          1971,
          1972,
          1973,
          1974,
          1975,
          1976,
          1977,
          1978,
          1979,
          1980,
          1981,
          1982,
          1983,
          1984,
          1985,
          1986,
          1987,
          1988
         ],
         "xaxis": "x36",
         "y": [
          189544,
          199682,
          190100,
          169284,
          160714,
          160846,
          158936,
          155524,
          161924,
          161049,
          167117,
          169581,
          167584,
          165261,
          159298,
          159202,
          161232,
          158931,
          158870,
          161647
         ],
         "yaxis": "y36"
        },
        {
         "type": "scatter",
         "x": [
          1969,
          1970,
          1971,
          1972,
          1973,
          1974,
          1975,
          1976,
          1977,
          1978,
          1979,
          1980,
          1981,
          1982,
          1983,
          1984,
          1985,
          1986,
          1987,
          1988
         ],
         "xaxis": "x37",
         "y": [
          41756,
          43682,
          44102,
          41094,
          39488,
          40952,
          41315,
          42264,
          43905,
          44266,
          47389,
          50472,
          52091,
          57230,
          55427,
          53081,
          51874,
          49374,
          46778,
          46401
         ],
         "yaxis": "y37"
        },
        {
         "type": "scatter",
         "x": [
          1969,
          1970,
          1971,
          1972,
          1973,
          1974,
          1975,
          1976,
          1977,
          1978,
          1979,
          1980,
          1981,
          1982,
          1983,
          1984,
          1985,
          1986,
          1987,
          1988
         ],
         "xaxis": "x38",
         "y": [
          34486,
          36006,
          34174,
          32132,
          31724,
          33438,
          34312,
          35613,
          38448,
          40015,
          42870,
          44221,
          44150,
          42093,
          41047,
          40842,
          40778,
          40093,
          39996,
          41345
         ],
         "yaxis": "y38"
        },
        {
         "type": "scatter",
         "x": [
          1969,
          1970,
          1971,
          1972,
          1973,
          1974,
          1975,
          1976,
          1977,
          1978,
          1979,
          1980,
          1981,
          1982,
          1983,
          1984,
          1985,
          1986,
          1987,
          1988
         ],
         "xaxis": "x39",
         "y": [
          186692,
          193412,
          182012,
          164094,
          154398,
          152534,
          149900,
          149296,
          154714,
          153304,
          159073,
          160244,
          161800,
          163198,
          159416,
          158548,
          161951,
          162059,
          163696,
          166771
         ],
         "yaxis": "y39"
        },
        {
         "type": "scatter",
         "x": [
          1969,
          1970,
          1971,
          1972,
          1973,
          1974,
          1975,
          1976,
          1977,
          1978,
          1979,
          1980,
          1981,
          1982,
          1983,
          1984,
          1985,
          1986,
          1987,
          1988
         ],
         "xaxis": "x40",
         "y": [
          15854,
          16176,
          15168,
          13495,
          12647,
          11696,
          10957,
          11102,
          11937,
          11785,
          12251,
          12574,
          12866,
          13032,
          13092,
          13290,
          13674,
          14084,
          14669,
          14689
         ],
         "yaxis": "y40"
        },
        {
         "type": "scatter",
         "x": [
          1969,
          1970,
          1971,
          1972,
          1973,
          1974,
          1975,
          1976,
          1977,
          1978,
          1979,
          1980,
          1981,
          1982,
          1983,
          1984,
          1985,
          1986,
          1987,
          1988
         ],
         "xaxis": "x41",
         "y": [
          49182,
          50856,
          51680,
          48598,
          47636,
          47005,
          45147,
          46082,
          47974,
          47654,
          48631,
          49810,
          49473,
          49287,
          48484,
          48296,
          49510,
          49557,
          50662,
          53003
         ],
         "yaxis": "y41"
        },
        {
         "type": "scatter",
         "x": [
          1969,
          1970,
          1971,
          1972,
          1973,
          1974,
          1975,
          1976,
          1977,
          1978,
          1979,
          1980,
          1981,
          1982,
          1983,
          1984,
          1985,
          1986,
          1987,
          1988
         ],
         "xaxis": "x42",
         "y": [
          11276,
          11592,
          11408,
          10672,
          10510,
          10962,
          11128,
          11488,
          11860,
          12104,
          12858,
          13158,
          12674,
          12722,
          12515,
          12328,
          12056,
          11633,
          11537,
          11253
         ],
         "yaxis": "y42"
        },
        {
         "type": "scatter",
         "x": [
          1969,
          1970,
          1971,
          1972,
          1973,
          1974,
          1975,
          1976,
          1977,
          1978,
          1979,
          1980,
          1981,
          1982,
          1983,
          1984,
          1985,
          1986,
          1987,
          1988
         ],
         "xaxis": "x43",
         "y": [
          73248,
          75740,
          74998,
          69492,
          67802,
          67986,
          65752,
          65653,
          70019,
          70248,
          72148,
          72909,
          70753,
          71089,
          70159,
          69713,
          71506,
          70784,
          72675,
          75595
         ],
         "yaxis": "y43"
        },
        {
         "type": "scatter",
         "x": [
          1969,
          1970,
          1971,
          1972,
          1973,
          1974,
          1975,
          1976,
          1977,
          1978,
          1979,
          1980,
          1981,
          1982,
          1983,
          1984,
          1985,
          1986,
          1987,
          1988
         ],
         "xaxis": "x44",
         "y": [
          226868,
          237114,
          236178,
          222006,
          218726,
          221256,
          224754,
          227409,
          234985,
          242548,
          260561,
          279785,
          288362,
          303016,
          299649,
          303569,
          312598,
          311006,
          305520,
          307563
         ],
         "yaxis": "y44"
        },
        {
         "type": "scatter",
         "x": [
          1969,
          1970,
          1971,
          1972,
          1973,
          1974,
          1975,
          1976,
          1977,
          1978,
          1979,
          1980,
          1981,
          1982,
          1983,
          1984,
          1985,
          1986,
          1987,
          1988
         ],
         "xaxis": "x45",
         "y": [
          24810,
          27564,
          28192,
          27548,
          28656,
          30648,
          32406,
          36220,
          38814,
          39758,
          42095,
          42801,
          42384,
          42761,
          40612,
          39390,
          38443,
          37371,
          36265,
          37021
         ],
         "yaxis": "y45"
        },
        {
         "type": "scatter",
         "x": [
          1969,
          1970,
          1971,
          1972,
          1973,
          1974,
          1975,
          1976,
          1977,
          1978,
          1979,
          1980,
          1981,
          1982,
          1983,
          1984,
          1985,
          1986,
          1987,
          1988
         ],
         "xaxis": "x46",
         "y": [
          78364,
          81310,
          78564,
          71548,
          68470,
          67970,
          67378,
          67246,
          71526,
          70651,
          73949,
          75330,
          76231,
          77830,
          77512,
          79365,
          82952,
          84350,
          87613,
          90291
         ],
         "yaxis": "y46"
        },
        {
         "type": "scatter",
         "x": [
          1969,
          1970,
          1971,
          1972,
          1973,
          1974,
          1975,
          1976,
          1977,
          1978,
          1979,
          1980,
          1981,
          1982,
          1983,
          1984,
          1985,
          1986,
          1987,
          1988
         ],
         "xaxis": "x47",
         "y": [
          7778,
          8182,
          7770,
          7137,
          6519,
          6550,
          6438,
          6444,
          6746,
          6910,
          7292,
          7690,
          7636,
          7766,
          7741,
          7805,
          7825,
          7898,
          7888,
          7871
         ],
         "yaxis": "y47"
        },
        {
         "type": "scatter",
         "x": [
          1969,
          1970,
          1971,
          1972,
          1973,
          1974,
          1975,
          1976,
          1977,
          1978,
          1979,
          1980,
          1981,
          1982,
          1983,
          1984,
          1985,
          1986,
          1987,
          1988
         ],
         "xaxis": "x48",
         "y": [
          59238,
          60284,
          54956,
          47928,
          47186,
          49670,
          50424,
          52804,
          57086,
          58421,
          63819,
          67492,
          69141,
          68988,
          68073,
          68080,
          69297,
          68500,
          69346,
          71396
         ],
         "yaxis": "y48"
        },
        {
         "type": "scatter",
         "x": [
          1969,
          1970,
          1971,
          1972,
          1973,
          1974,
          1975,
          1976,
          1977,
          1978,
          1979,
          1980,
          1981,
          1982,
          1983,
          1984,
          1985,
          1986,
          1987,
          1988
         ],
         "xaxis": "x49",
         "y": [
          74044,
          76764,
          71392,
          64214,
          62542,
          65112,
          65000,
          64696,
          68379,
          68387,
          72839,
          74365,
          73821,
          73932,
          72132,
          72763,
          73302,
          71839,
          70457,
          70385
         ],
         "yaxis": "y49"
        },
        {
         "type": "scatter",
         "x": [
          1969,
          1970,
          1971,
          1972,
          1973,
          1974,
          1975,
          1976,
          1977,
          1978,
          1979,
          1980,
          1981,
          1982,
          1983,
          1984,
          1985,
          1986,
          1987,
          1988
         ],
         "xaxis": "x50",
         "y": [
          29198,
          30656,
          31372,
          29696,
          27868,
          27722,
          27888,
          28583,
          30467,
          29732,
          30198,
          29952,
          28371,
          27937,
          26872,
          25504,
          25259,
          24256,
          23421,
          22801
         ],
         "yaxis": "y50"
        }
       ],
       "layout": {
        "annotations": [
         {
          "font": {
           "size": 16
          },
          "showarrow": false,
          "text": "AK",
          "x": 0.06944444444444445,
          "xanchor": "center",
          "xref": "paper",
          "y": 1,
          "yanchor": "bottom",
          "yref": "paper"
         },
         {
          "font": {
           "size": 16
          },
          "showarrow": false,
          "text": "AL",
          "x": 0.24166666666666667,
          "xanchor": "center",
          "xref": "paper",
          "y": 1,
          "yanchor": "bottom",
          "yref": "paper"
         },
         {
          "font": {
           "size": 16
          },
          "showarrow": false,
          "text": "AR",
          "x": 0.41388888888888886,
          "xanchor": "center",
          "xref": "paper",
          "y": 1,
          "yanchor": "bottom",
          "yref": "paper"
         },
         {
          "font": {
           "size": 16
          },
          "showarrow": false,
          "text": "AZ",
          "x": 0.586111111111111,
          "xanchor": "center",
          "xref": "paper",
          "y": 1,
          "yanchor": "bottom",
          "yref": "paper"
         },
         {
          "font": {
           "size": 16
          },
          "showarrow": false,
          "text": "CA",
          "x": 0.7583333333333333,
          "xanchor": "center",
          "xref": "paper",
          "y": 1,
          "yanchor": "bottom",
          "yref": "paper"
         },
         {
          "font": {
           "size": 16
          },
          "showarrow": false,
          "text": "CO",
          "x": 0.9305555555555556,
          "xanchor": "center",
          "xref": "paper",
          "y": 1,
          "yanchor": "bottom",
          "yref": "paper"
         },
         {
          "font": {
           "size": 16
          },
          "showarrow": false,
          "text": "CT",
          "x": 0.06944444444444445,
          "xanchor": "center",
          "xref": "paper",
          "y": 0.8950000000000001,
          "yanchor": "bottom",
          "yref": "paper"
         },
         {
          "font": {
           "size": 16
          },
          "showarrow": false,
          "text": "DC",
          "x": 0.24166666666666667,
          "xanchor": "center",
          "xref": "paper",
          "y": 0.8950000000000001,
          "yanchor": "bottom",
          "yref": "paper"
         },
         {
          "font": {
           "size": 16
          },
          "showarrow": false,
          "text": "DE",
          "x": 0.41388888888888886,
          "xanchor": "center",
          "xref": "paper",
          "y": 0.8950000000000001,
          "yanchor": "bottom",
          "yref": "paper"
         },
         {
          "font": {
           "size": 16
          },
          "showarrow": false,
          "text": "FL",
          "x": 0.586111111111111,
          "xanchor": "center",
          "xref": "paper",
          "y": 0.8950000000000001,
          "yanchor": "bottom",
          "yref": "paper"
         },
         {
          "font": {
           "size": 16
          },
          "showarrow": false,
          "text": "GA",
          "x": 0.7583333333333333,
          "xanchor": "center",
          "xref": "paper",
          "y": 0.8950000000000001,
          "yanchor": "bottom",
          "yref": "paper"
         },
         {
          "font": {
           "size": 16
          },
          "showarrow": false,
          "text": "HI",
          "x": 0.9305555555555556,
          "xanchor": "center",
          "xref": "paper",
          "y": 0.8950000000000001,
          "yanchor": "bottom",
          "yref": "paper"
         },
         {
          "font": {
           "size": 16
          },
          "showarrow": false,
          "text": "IA",
          "x": 0.06944444444444445,
          "xanchor": "center",
          "xref": "paper",
          "y": 0.7900000000000001,
          "yanchor": "bottom",
          "yref": "paper"
         },
         {
          "font": {
           "size": 16
          },
          "showarrow": false,
          "text": "ID",
          "x": 0.24166666666666667,
          "xanchor": "center",
          "xref": "paper",
          "y": 0.7900000000000001,
          "yanchor": "bottom",
          "yref": "paper"
         },
         {
          "font": {
           "size": 16
          },
          "showarrow": false,
          "text": "IL",
          "x": 0.41388888888888886,
          "xanchor": "center",
          "xref": "paper",
          "y": 0.7900000000000001,
          "yanchor": "bottom",
          "yref": "paper"
         },
         {
          "font": {
           "size": 16
          },
          "showarrow": false,
          "text": "IN",
          "x": 0.586111111111111,
          "xanchor": "center",
          "xref": "paper",
          "y": 0.7900000000000001,
          "yanchor": "bottom",
          "yref": "paper"
         },
         {
          "font": {
           "size": 16
          },
          "showarrow": false,
          "text": "KS",
          "x": 0.7583333333333333,
          "xanchor": "center",
          "xref": "paper",
          "y": 0.7900000000000001,
          "yanchor": "bottom",
          "yref": "paper"
         },
         {
          "font": {
           "size": 16
          },
          "showarrow": false,
          "text": "KY",
          "x": 0.9305555555555556,
          "xanchor": "center",
          "xref": "paper",
          "y": 0.7900000000000001,
          "yanchor": "bottom",
          "yref": "paper"
         },
         {
          "font": {
           "size": 16
          },
          "showarrow": false,
          "text": "LA",
          "x": 0.06944444444444445,
          "xanchor": "center",
          "xref": "paper",
          "y": 0.6850000000000002,
          "yanchor": "bottom",
          "yref": "paper"
         },
         {
          "font": {
           "size": 16
          },
          "showarrow": false,
          "text": "MA",
          "x": 0.24166666666666667,
          "xanchor": "center",
          "xref": "paper",
          "y": 0.6850000000000002,
          "yanchor": "bottom",
          "yref": "paper"
         },
         {
          "font": {
           "size": 16
          },
          "showarrow": false,
          "text": "MD",
          "x": 0.41388888888888886,
          "xanchor": "center",
          "xref": "paper",
          "y": 0.6850000000000002,
          "yanchor": "bottom",
          "yref": "paper"
         },
         {
          "font": {
           "size": 16
          },
          "showarrow": false,
          "text": "ME",
          "x": 0.586111111111111,
          "xanchor": "center",
          "xref": "paper",
          "y": 0.6850000000000002,
          "yanchor": "bottom",
          "yref": "paper"
         },
         {
          "font": {
           "size": 16
          },
          "showarrow": false,
          "text": "MI",
          "x": 0.7583333333333333,
          "xanchor": "center",
          "xref": "paper",
          "y": 0.6850000000000002,
          "yanchor": "bottom",
          "yref": "paper"
         },
         {
          "font": {
           "size": 16
          },
          "showarrow": false,
          "text": "MN",
          "x": 0.9305555555555556,
          "xanchor": "center",
          "xref": "paper",
          "y": 0.6850000000000002,
          "yanchor": "bottom",
          "yref": "paper"
         },
         {
          "font": {
           "size": 16
          },
          "showarrow": false,
          "text": "MO",
          "x": 0.06944444444444445,
          "xanchor": "center",
          "xref": "paper",
          "y": 0.5800000000000001,
          "yanchor": "bottom",
          "yref": "paper"
         },
         {
          "font": {
           "size": 16
          },
          "showarrow": false,
          "text": "MS",
          "x": 0.24166666666666667,
          "xanchor": "center",
          "xref": "paper",
          "y": 0.5800000000000001,
          "yanchor": "bottom",
          "yref": "paper"
         },
         {
          "font": {
           "size": 16
          },
          "showarrow": false,
          "text": "MT",
          "x": 0.41388888888888886,
          "xanchor": "center",
          "xref": "paper",
          "y": 0.5800000000000001,
          "yanchor": "bottom",
          "yref": "paper"
         },
         {
          "font": {
           "size": 16
          },
          "showarrow": false,
          "text": "NC",
          "x": 0.586111111111111,
          "xanchor": "center",
          "xref": "paper",
          "y": 0.5800000000000001,
          "yanchor": "bottom",
          "yref": "paper"
         },
         {
          "font": {
           "size": 16
          },
          "showarrow": false,
          "text": "ND",
          "x": 0.7583333333333333,
          "xanchor": "center",
          "xref": "paper",
          "y": 0.5800000000000001,
          "yanchor": "bottom",
          "yref": "paper"
         },
         {
          "font": {
           "size": 16
          },
          "showarrow": false,
          "text": "NE",
          "x": 0.9305555555555556,
          "xanchor": "center",
          "xref": "paper",
          "y": 0.5800000000000001,
          "yanchor": "bottom",
          "yref": "paper"
         },
         {
          "font": {
           "size": 16
          },
          "showarrow": false,
          "text": "NH",
          "x": 0.06944444444444445,
          "xanchor": "center",
          "xref": "paper",
          "y": 0.47500000000000003,
          "yanchor": "bottom",
          "yref": "paper"
         },
         {
          "font": {
           "size": 16
          },
          "showarrow": false,
          "text": "NJ",
          "x": 0.24166666666666667,
          "xanchor": "center",
          "xref": "paper",
          "y": 0.47500000000000003,
          "yanchor": "bottom",
          "yref": "paper"
         },
         {
          "font": {
           "size": 16
          },
          "showarrow": false,
          "text": "NM",
          "x": 0.41388888888888886,
          "xanchor": "center",
          "xref": "paper",
          "y": 0.47500000000000003,
          "yanchor": "bottom",
          "yref": "paper"
         },
         {
          "font": {
           "size": 16
          },
          "showarrow": false,
          "text": "NV",
          "x": 0.586111111111111,
          "xanchor": "center",
          "xref": "paper",
          "y": 0.47500000000000003,
          "yanchor": "bottom",
          "yref": "paper"
         },
         {
          "font": {
           "size": 16
          },
          "showarrow": false,
          "text": "NY",
          "x": 0.7583333333333333,
          "xanchor": "center",
          "xref": "paper",
          "y": 0.47500000000000003,
          "yanchor": "bottom",
          "yref": "paper"
         },
         {
          "font": {
           "size": 16
          },
          "showarrow": false,
          "text": "OH",
          "x": 0.9305555555555556,
          "xanchor": "center",
          "xref": "paper",
          "y": 0.47500000000000003,
          "yanchor": "bottom",
          "yref": "paper"
         },
         {
          "font": {
           "size": 16
          },
          "showarrow": false,
          "text": "OK",
          "x": 0.06944444444444445,
          "xanchor": "center",
          "xref": "paper",
          "y": 0.37000000000000005,
          "yanchor": "bottom",
          "yref": "paper"
         },
         {
          "font": {
           "size": 16
          },
          "showarrow": false,
          "text": "OR",
          "x": 0.24166666666666667,
          "xanchor": "center",
          "xref": "paper",
          "y": 0.37000000000000005,
          "yanchor": "bottom",
          "yref": "paper"
         },
         {
          "font": {
           "size": 16
          },
          "showarrow": false,
          "text": "PA",
          "x": 0.41388888888888886,
          "xanchor": "center",
          "xref": "paper",
          "y": 0.37000000000000005,
          "yanchor": "bottom",
          "yref": "paper"
         },
         {
          "font": {
           "size": 16
          },
          "showarrow": false,
          "text": "RI",
          "x": 0.586111111111111,
          "xanchor": "center",
          "xref": "paper",
          "y": 0.37000000000000005,
          "yanchor": "bottom",
          "yref": "paper"
         },
         {
          "font": {
           "size": 16
          },
          "showarrow": false,
          "text": "SC",
          "x": 0.7583333333333333,
          "xanchor": "center",
          "xref": "paper",
          "y": 0.37000000000000005,
          "yanchor": "bottom",
          "yref": "paper"
         },
         {
          "font": {
           "size": 16
          },
          "showarrow": false,
          "text": "SD",
          "x": 0.9305555555555556,
          "xanchor": "center",
          "xref": "paper",
          "y": 0.37000000000000005,
          "yanchor": "bottom",
          "yref": "paper"
         },
         {
          "font": {
           "size": 16
          },
          "showarrow": false,
          "text": "TN",
          "x": 0.06944444444444445,
          "xanchor": "center",
          "xref": "paper",
          "y": 0.265,
          "yanchor": "bottom",
          "yref": "paper"
         },
         {
          "font": {
           "size": 16
          },
          "showarrow": false,
          "text": "TX",
          "x": 0.24166666666666667,
          "xanchor": "center",
          "xref": "paper",
          "y": 0.265,
          "yanchor": "bottom",
          "yref": "paper"
         },
         {
          "font": {
           "size": 16
          },
          "showarrow": false,
          "text": "UT",
          "x": 0.41388888888888886,
          "xanchor": "center",
          "xref": "paper",
          "y": 0.265,
          "yanchor": "bottom",
          "yref": "paper"
         },
         {
          "font": {
           "size": 16
          },
          "showarrow": false,
          "text": "VA",
          "x": 0.586111111111111,
          "xanchor": "center",
          "xref": "paper",
          "y": 0.265,
          "yanchor": "bottom",
          "yref": "paper"
         },
         {
          "font": {
           "size": 16
          },
          "showarrow": false,
          "text": "VT",
          "x": 0.7583333333333333,
          "xanchor": "center",
          "xref": "paper",
          "y": 0.265,
          "yanchor": "bottom",
          "yref": "paper"
         },
         {
          "font": {
           "size": 16
          },
          "showarrow": false,
          "text": "WA",
          "x": 0.9305555555555556,
          "xanchor": "center",
          "xref": "paper",
          "y": 0.265,
          "yanchor": "bottom",
          "yref": "paper"
         },
         {
          "font": {
           "size": 16
          },
          "showarrow": false,
          "text": "WI",
          "x": 0.06944444444444445,
          "xanchor": "center",
          "xref": "paper",
          "y": 0.16000000000000003,
          "yanchor": "bottom",
          "yref": "paper"
         },
         {
          "font": {
           "size": 16
          },
          "showarrow": false,
          "text": "WV",
          "x": 0.24166666666666667,
          "xanchor": "center",
          "xref": "paper",
          "y": 0.16000000000000003,
          "yanchor": "bottom",
          "yref": "paper"
         },
         {
          "font": {
           "size": 16
          },
          "showarrow": false,
          "text": "WY",
          "x": 0.41388888888888886,
          "xanchor": "center",
          "xref": "paper",
          "y": 0.16000000000000003,
          "yanchor": "bottom",
          "yref": "paper"
         }
        ],
        "height": 3000,
        "title": "i <3 subplots",
        "width": 1000,
        "xaxis1": {
         "anchor": "y1",
         "domain": [
          0,
          0.1388888888888889
         ]
        },
        "xaxis10": {
         "anchor": "y10",
         "domain": [
          0.5166666666666666,
          0.6555555555555554
         ]
        },
        "xaxis11": {
         "anchor": "y11",
         "domain": [
          0.6888888888888889,
          0.8277777777777777
         ]
        },
        "xaxis12": {
         "anchor": "y12",
         "domain": [
          0.8611111111111112,
          1
         ]
        },
        "xaxis13": {
         "anchor": "y13",
         "domain": [
          0,
          0.1388888888888889
         ]
        },
        "xaxis14": {
         "anchor": "y14",
         "domain": [
          0.17222222222222222,
          0.3111111111111111
         ]
        },
        "xaxis15": {
         "anchor": "y15",
         "domain": [
          0.34444444444444444,
          0.48333333333333334
         ]
        },
        "xaxis16": {
         "anchor": "y16",
         "domain": [
          0.5166666666666666,
          0.6555555555555554
         ]
        },
        "xaxis17": {
         "anchor": "y17",
         "domain": [
          0.6888888888888889,
          0.8277777777777777
         ]
        },
        "xaxis18": {
         "anchor": "y18",
         "domain": [
          0.8611111111111112,
          1
         ]
        },
        "xaxis19": {
         "anchor": "y19",
         "domain": [
          0,
          0.1388888888888889
         ]
        },
        "xaxis2": {
         "anchor": "y2",
         "domain": [
          0.17222222222222222,
          0.3111111111111111
         ]
        },
        "xaxis20": {
         "anchor": "y20",
         "domain": [
          0.17222222222222222,
          0.3111111111111111
         ]
        },
        "xaxis21": {
         "anchor": "y21",
         "domain": [
          0.34444444444444444,
          0.48333333333333334
         ]
        },
        "xaxis22": {
         "anchor": "y22",
         "domain": [
          0.5166666666666666,
          0.6555555555555554
         ]
        },
        "xaxis23": {
         "anchor": "y23",
         "domain": [
          0.6888888888888889,
          0.8277777777777777
         ]
        },
        "xaxis24": {
         "anchor": "y24",
         "domain": [
          0.8611111111111112,
          1
         ]
        },
        "xaxis25": {
         "anchor": "y25",
         "domain": [
          0,
          0.1388888888888889
         ]
        },
        "xaxis26": {
         "anchor": "y26",
         "domain": [
          0.17222222222222222,
          0.3111111111111111
         ]
        },
        "xaxis27": {
         "anchor": "y27",
         "domain": [
          0.34444444444444444,
          0.48333333333333334
         ]
        },
        "xaxis28": {
         "anchor": "y28",
         "domain": [
          0.5166666666666666,
          0.6555555555555554
         ]
        },
        "xaxis29": {
         "anchor": "y29",
         "domain": [
          0.6888888888888889,
          0.8277777777777777
         ]
        },
        "xaxis3": {
         "anchor": "y3",
         "domain": [
          0.34444444444444444,
          0.48333333333333334
         ]
        },
        "xaxis30": {
         "anchor": "y30",
         "domain": [
          0.8611111111111112,
          1
         ]
        },
        "xaxis31": {
         "anchor": "y31",
         "domain": [
          0,
          0.1388888888888889
         ]
        },
        "xaxis32": {
         "anchor": "y32",
         "domain": [
          0.17222222222222222,
          0.3111111111111111
         ]
        },
        "xaxis33": {
         "anchor": "y33",
         "domain": [
          0.34444444444444444,
          0.48333333333333334
         ]
        },
        "xaxis34": {
         "anchor": "y34",
         "domain": [
          0.5166666666666666,
          0.6555555555555554
         ]
        },
        "xaxis35": {
         "anchor": "y35",
         "domain": [
          0.6888888888888889,
          0.8277777777777777
         ]
        },
        "xaxis36": {
         "anchor": "y36",
         "domain": [
          0.8611111111111112,
          1
         ]
        },
        "xaxis37": {
         "anchor": "y37",
         "domain": [
          0,
          0.1388888888888889
         ]
        },
        "xaxis38": {
         "anchor": "y38",
         "domain": [
          0.17222222222222222,
          0.3111111111111111
         ]
        },
        "xaxis39": {
         "anchor": "y39",
         "domain": [
          0.34444444444444444,
          0.48333333333333334
         ]
        },
        "xaxis4": {
         "anchor": "y4",
         "domain": [
          0.5166666666666666,
          0.6555555555555554
         ]
        },
        "xaxis40": {
         "anchor": "y40",
         "domain": [
          0.5166666666666666,
          0.6555555555555554
         ]
        },
        "xaxis41": {
         "anchor": "y41",
         "domain": [
          0.6888888888888889,
          0.8277777777777777
         ]
        },
        "xaxis42": {
         "anchor": "y42",
         "domain": [
          0.8611111111111112,
          1
         ]
        },
        "xaxis43": {
         "anchor": "y43",
         "domain": [
          0,
          0.1388888888888889
         ]
        },
        "xaxis44": {
         "anchor": "y44",
         "domain": [
          0.17222222222222222,
          0.3111111111111111
         ]
        },
        "xaxis45": {
         "anchor": "y45",
         "domain": [
          0.34444444444444444,
          0.48333333333333334
         ]
        },
        "xaxis46": {
         "anchor": "y46",
         "domain": [
          0.5166666666666666,
          0.6555555555555554
         ]
        },
        "xaxis47": {
         "anchor": "y47",
         "domain": [
          0.6888888888888889,
          0.8277777777777777
         ]
        },
        "xaxis48": {
         "anchor": "y48",
         "domain": [
          0.8611111111111112,
          1
         ]
        },
        "xaxis49": {
         "anchor": "y49",
         "domain": [
          0,
          0.1388888888888889
         ]
        },
        "xaxis5": {
         "anchor": "y5",
         "domain": [
          0.6888888888888889,
          0.8277777777777777
         ]
        },
        "xaxis50": {
         "anchor": "y50",
         "domain": [
          0.17222222222222222,
          0.3111111111111111
         ]
        },
        "xaxis51": {
         "anchor": "y51",
         "domain": [
          0.34444444444444444,
          0.48333333333333334
         ]
        },
        "xaxis52": {
         "anchor": "y52",
         "domain": [
          0.5166666666666666,
          0.6555555555555554
         ]
        },
        "xaxis53": {
         "anchor": "y53",
         "domain": [
          0.6888888888888889,
          0.8277777777777777
         ]
        },
        "xaxis54": {
         "anchor": "y54",
         "domain": [
          0.8611111111111112,
          1
         ]
        },
        "xaxis55": {
         "anchor": "y55",
         "domain": [
          0,
          0.1388888888888889
         ]
        },
        "xaxis56": {
         "anchor": "y56",
         "domain": [
          0.17222222222222222,
          0.3111111111111111
         ]
        },
        "xaxis57": {
         "anchor": "y57",
         "domain": [
          0.34444444444444444,
          0.48333333333333334
         ]
        },
        "xaxis58": {
         "anchor": "y58",
         "domain": [
          0.5166666666666666,
          0.6555555555555554
         ]
        },
        "xaxis59": {
         "anchor": "y59",
         "domain": [
          0.6888888888888889,
          0.8277777777777777
         ]
        },
        "xaxis6": {
         "anchor": "y6",
         "domain": [
          0.8611111111111112,
          1
         ]
        },
        "xaxis60": {
         "anchor": "y60",
         "domain": [
          0.8611111111111112,
          1
         ]
        },
        "xaxis7": {
         "anchor": "y7",
         "domain": [
          0,
          0.1388888888888889
         ]
        },
        "xaxis8": {
         "anchor": "y8",
         "domain": [
          0.17222222222222222,
          0.3111111111111111
         ]
        },
        "xaxis9": {
         "anchor": "y9",
         "domain": [
          0.34444444444444444,
          0.48333333333333334
         ]
        },
        "yaxis1": {
         "anchor": "x1",
         "domain": [
          0.9450000000000001,
          1
         ]
        },
        "yaxis10": {
         "anchor": "x10",
         "domain": [
          0.8400000000000001,
          0.8950000000000001
         ]
        },
        "yaxis11": {
         "anchor": "x11",
         "domain": [
          0.8400000000000001,
          0.8950000000000001
         ]
        },
        "yaxis12": {
         "anchor": "x12",
         "domain": [
          0.8400000000000001,
          0.8950000000000001
         ]
        },
        "yaxis13": {
         "anchor": "x13",
         "domain": [
          0.7350000000000001,
          0.7900000000000001
         ]
        },
        "yaxis14": {
         "anchor": "x14",
         "domain": [
          0.7350000000000001,
          0.7900000000000001
         ]
        },
        "yaxis15": {
         "anchor": "x15",
         "domain": [
          0.7350000000000001,
          0.7900000000000001
         ]
        },
        "yaxis16": {
         "anchor": "x16",
         "domain": [
          0.7350000000000001,
          0.7900000000000001
         ]
        },
        "yaxis17": {
         "anchor": "x17",
         "domain": [
          0.7350000000000001,
          0.7900000000000001
         ]
        },
        "yaxis18": {
         "anchor": "x18",
         "domain": [
          0.7350000000000001,
          0.7900000000000001
         ]
        },
        "yaxis19": {
         "anchor": "x19",
         "domain": [
          0.6300000000000001,
          0.6850000000000002
         ]
        },
        "yaxis2": {
         "anchor": "x2",
         "domain": [
          0.9450000000000001,
          1
         ]
        },
        "yaxis20": {
         "anchor": "x20",
         "domain": [
          0.6300000000000001,
          0.6850000000000002
         ]
        },
        "yaxis21": {
         "anchor": "x21",
         "domain": [
          0.6300000000000001,
          0.6850000000000002
         ]
        },
        "yaxis22": {
         "anchor": "x22",
         "domain": [
          0.6300000000000001,
          0.6850000000000002
         ]
        },
        "yaxis23": {
         "anchor": "x23",
         "domain": [
          0.6300000000000001,
          0.6850000000000002
         ]
        },
        "yaxis24": {
         "anchor": "x24",
         "domain": [
          0.6300000000000001,
          0.6850000000000002
         ]
        },
        "yaxis25": {
         "anchor": "x25",
         "domain": [
          0.525,
          0.5800000000000001
         ]
        },
        "yaxis26": {
         "anchor": "x26",
         "domain": [
          0.525,
          0.5800000000000001
         ]
        },
        "yaxis27": {
         "anchor": "x27",
         "domain": [
          0.525,
          0.5800000000000001
         ]
        },
        "yaxis28": {
         "anchor": "x28",
         "domain": [
          0.525,
          0.5800000000000001
         ]
        },
        "yaxis29": {
         "anchor": "x29",
         "domain": [
          0.525,
          0.5800000000000001
         ]
        },
        "yaxis3": {
         "anchor": "x3",
         "domain": [
          0.9450000000000001,
          1
         ]
        },
        "yaxis30": {
         "anchor": "x30",
         "domain": [
          0.525,
          0.5800000000000001
         ]
        },
        "yaxis31": {
         "anchor": "x31",
         "domain": [
          0.42000000000000004,
          0.47500000000000003
         ]
        },
        "yaxis32": {
         "anchor": "x32",
         "domain": [
          0.42000000000000004,
          0.47500000000000003
         ]
        },
        "yaxis33": {
         "anchor": "x33",
         "domain": [
          0.42000000000000004,
          0.47500000000000003
         ]
        },
        "yaxis34": {
         "anchor": "x34",
         "domain": [
          0.42000000000000004,
          0.47500000000000003
         ]
        },
        "yaxis35": {
         "anchor": "x35",
         "domain": [
          0.42000000000000004,
          0.47500000000000003
         ]
        },
        "yaxis36": {
         "anchor": "x36",
         "domain": [
          0.42000000000000004,
          0.47500000000000003
         ]
        },
        "yaxis37": {
         "anchor": "x37",
         "domain": [
          0.31500000000000006,
          0.37000000000000005
         ]
        },
        "yaxis38": {
         "anchor": "x38",
         "domain": [
          0.31500000000000006,
          0.37000000000000005
         ]
        },
        "yaxis39": {
         "anchor": "x39",
         "domain": [
          0.31500000000000006,
          0.37000000000000005
         ]
        },
        "yaxis4": {
         "anchor": "x4",
         "domain": [
          0.9450000000000001,
          1
         ]
        },
        "yaxis40": {
         "anchor": "x40",
         "domain": [
          0.31500000000000006,
          0.37000000000000005
         ]
        },
        "yaxis41": {
         "anchor": "x41",
         "domain": [
          0.31500000000000006,
          0.37000000000000005
         ]
        },
        "yaxis42": {
         "anchor": "x42",
         "domain": [
          0.31500000000000006,
          0.37000000000000005
         ]
        },
        "yaxis43": {
         "anchor": "x43",
         "domain": [
          0.21000000000000002,
          0.265
         ]
        },
        "yaxis44": {
         "anchor": "x44",
         "domain": [
          0.21000000000000002,
          0.265
         ]
        },
        "yaxis45": {
         "anchor": "x45",
         "domain": [
          0.21000000000000002,
          0.265
         ]
        },
        "yaxis46": {
         "anchor": "x46",
         "domain": [
          0.21000000000000002,
          0.265
         ]
        },
        "yaxis47": {
         "anchor": "x47",
         "domain": [
          0.21000000000000002,
          0.265
         ]
        },
        "yaxis48": {
         "anchor": "x48",
         "domain": [
          0.21000000000000002,
          0.265
         ]
        },
        "yaxis49": {
         "anchor": "x49",
         "domain": [
          0.10500000000000001,
          0.16000000000000003
         ]
        },
        "yaxis5": {
         "anchor": "x5",
         "domain": [
          0.9450000000000001,
          1
         ]
        },
        "yaxis50": {
         "anchor": "x50",
         "domain": [
          0.10500000000000001,
          0.16000000000000003
         ]
        },
        "yaxis51": {
         "anchor": "x51",
         "domain": [
          0.10500000000000001,
          0.16000000000000003
         ]
        },
        "yaxis52": {
         "anchor": "x52",
         "domain": [
          0.10500000000000001,
          0.16000000000000003
         ]
        },
        "yaxis53": {
         "anchor": "x53",
         "domain": [
          0.10500000000000001,
          0.16000000000000003
         ]
        },
        "yaxis54": {
         "anchor": "x54",
         "domain": [
          0.10500000000000001,
          0.16000000000000003
         ]
        },
        "yaxis55": {
         "anchor": "x55",
         "domain": [
          0,
          0.05500000000000001
         ]
        },
        "yaxis56": {
         "anchor": "x56",
         "domain": [
          0,
          0.05500000000000001
         ]
        },
        "yaxis57": {
         "anchor": "x57",
         "domain": [
          0,
          0.05500000000000001
         ]
        },
        "yaxis58": {
         "anchor": "x58",
         "domain": [
          0,
          0.05500000000000001
         ]
        },
        "yaxis59": {
         "anchor": "x59",
         "domain": [
          0,
          0.05500000000000001
         ]
        },
        "yaxis6": {
         "anchor": "x6",
         "domain": [
          0.9450000000000001,
          1
         ]
        },
        "yaxis60": {
         "anchor": "x60",
         "domain": [
          0,
          0.05500000000000001
         ]
        },
        "yaxis7": {
         "anchor": "x7",
         "domain": [
          0.8400000000000001,
          0.8950000000000001
         ]
        },
        "yaxis8": {
         "anchor": "x8",
         "domain": [
          0.8400000000000001,
          0.8950000000000001
         ]
        },
        "yaxis9": {
         "anchor": "x9",
         "domain": [
          0.8400000000000001,
          0.8950000000000001
         ]
        }
       }
      },
      "text/html": [
       "<div id=\"d87ea807-9799-4afc-be28-e93f40f33f74\" style=\"height: 3000px; width: 1000px;\" class=\"plotly-graph-div\"></div><script type=\"text/javascript\">require([\"plotly\"], function(Plotly) { window.PLOTLYENV=window.PLOTLYENV || {};window.PLOTLYENV.BASE_URL=\"https://plot.ly\";Plotly.newPlot(\"d87ea807-9799-4afc-be28-e93f40f33f74\", [{\"type\": \"scatter\", \"x\": [1969, 1970, 1971, 1972, 1973, 1974, 1975, 1976, 1977, 1978, 1979, 1980, 1981, 1982, 1983, 1984, 1985, 1986, 1987, 1988], \"y\": [6824, 7464, 7244, 6892, 6566, 7014, 7392, 7816, 8286, 8752, 9005, 9462, 9985, 11146, 11868, 12324, 12693, 12007, 11540, 11105], \"xaxis\": \"x1\", \"yaxis\": \"y1\"}, {\"type\": \"scatter\", \"x\": [1969, 1970, 1971, 1972, 1973, 1974, 1975, 1976, 1977, 1978, 1979, 1980, 1981, 1982, 1983, 1984, 1985, 1986, 1987, 1988], \"y\": [64068, 66878, 66188, 61206, 58944, 58920, 57498, 57282, 61076, 59185, 61688, 62370, 60592, 59229, 58105, 58169, 58622, 58204, 58631, 59917], \"xaxis\": \"x2\", \"yaxis\": \"y2\"}, {\"type\": \"scatter\", \"x\": [1969, 1970, 1971, 1972, 1973, 1974, 1975, 1976, 1977, 1978, 1979, 1980, 1981, 1982, 1983, 1984, 1985, 1986, 1987, 1988], \"y\": [33400, 34746, 35040, 33040, 32764, 33856, 33628, 33292, 34702, 33822, 35406, 36338, 34716, 34325, 34261, 34331, 34514, 33877, 34023, 34139], \"xaxis\": \"x3\", \"yaxis\": \"y3\"}, {\"type\": \"scatter\", \"x\": [1969, 1970, 1971, 1972, 1973, 1974, 1975, 1976, 1977, 1978, 1979, 1980, 1981, 1982, 1983, 1984, 1985, 1986, 1987, 1988], \"y\": [34064, 37362, 38296, 37278, 37852, 39846, 39416, 40038, 41816, 43012, 46714, 50078, 51624, 52394, 53464, 54862, 59319, 60800, 63344, 65655], \"xaxis\": \"x4\", \"yaxis\": \"y4\"}, {\"type\": \"scatter\", \"x\": [1969, 1970, 1971, 1972, 1973, 1974, 1975, 1976, 1977, 1978, 1979, 1980, 1981, 1982, 1983, 1984, 1985, 1986, 1987, 1988], \"y\": [352858, 362682, 329816, 306538, 298062, 312018, 317598, 332220, 347428, 356180, 379212, 403014, 420892, 429864, 436060, 447574, 471155, 482530, 503655, 533429], \"xaxis\": \"x5\", \"yaxis\": \"y5\"}, {\"type\": \"scatter\", \"x\": [1969, 1970, 1971, 1972, 1973, 1974, 1975, 1976, 1977, 1978, 1979, 1980, 1981, 1982, 1983, 1984, 1985, 1986, 1987, 1988], \"y\": [40100, 42544, 41148, 39480, 39460, 39815, 40623, 41345, 43544, 44511, 47741, 50167, 52504, 55202, 55015, 54569, 55440, 55556, 54096, 53518], \"xaxis\": \"x6\", \"yaxis\": \"y6\"}, {\"type\": \"scatter\", \"x\": [1969, 1970, 1971, 1972, 1973, 1974, 1975, 1976, 1977, 1978, 1979, 1980, 1981, 1982, 1983, 1984, 1985, 1986, 1987, 1988], \"y\": [49184, 49852, 44856, 39142, 37014, 36360, 35626, 35398, 36302, 36996, 38445, 38523, 39761, 40141, 40954, 42064, 43815, 44767, 46986, 48152], \"xaxis\": \"x7\", \"yaxis\": \"y7\"}, {\"type\": \"scatter\", \"x\": [1969, 1970, 1971, 1972, 1973, 1974, 1975, 1976, 1977, 1978, 1979, 1980, 1981, 1982, 1983, 1984, 1985, 1986, 1987, 1988], \"y\": [27780, 28202, 25926, 22602, 20652, 19850, 19772, 19904, 20666, 19660, 20232, 20262, 19726, 19824, 19050, 19616, 19938, 19927, 20529, 21351], \"xaxis\": \"x8\", \"yaxis\": \"y8\"}, {\"type\": \"scatter\", \"x\": [1969, 1970, 1971, 1972, 1973, 1974, 1975, 1976, 1977, 1978, 1979, 1980, 1981, 1982, 1983, 1984, 1985, 1986, 1987, 1988], \"y\": [10116, 10476, 9896, 8878, 8282, 8438, 8412, 8300, 8794, 8958, 9184, 9574, 9442, 9526, 9542, 9550, 9882, 10098, 10398, 10959], \"xaxis\": \"x9\", \"yaxis\": \"y9\"}, {\"type\": \"scatter\", \"x\": [1969, 1970, 1971, 1972, 1973, 1974, 1975, 1976, 1977, 1978, 1979, 1980, 1981, 1982, 1983, 1984, 1985, 1986, 1987, 1988], \"y\": [106926, 114484, 115744, 109186, 107174, 109780, 105116, 104005, 110395, 112933, 120774, 131470, 138121, 144182, 148677, 155199, 163611, 167518, 175038, 183968], \"xaxis\": \"x10\", \"yaxis\": \"y10\"}, {\"type\": \"scatter\", \"x\": [1969, 1970, 1971, 1972, 1973, 1974, 1975, 1976, 1977, 1978, 1979, 1980, 1981, 1982, 1983, 1984, 1985, 1986, 1987, 1988], \"y\": [91622, 96918, 95050, 88472, 86464, 84676, 81444, 80864, 86306, 85996, 89582, 93976, 91738, 91984, 91682, 93768, 98033, 100151, 103881, 107023], \"xaxis\": \"x11\", \"yaxis\": \"y11\"}, {\"type\": \"scatter\", \"x\": [1969, 1970, 1971, 1972, 1973, 1974, 1975, 1976, 1977, 1978, 1979, 1980, 1981, 1982, 1983, 1984, 1985, 1986, 1987, 1988], \"y\": [15750, 16488, 15836, 15410, 15356, 15512, 15758, 16402, 16976, 16752, 17568, 18217, 18230, 18734, 19164, 18756, 18329, 18341, 18689, 19051], \"xaxis\": \"x12\", \"yaxis\": \"y12\"}, {\"type\": \"scatter\", \"x\": [1969, 1970, 1971, 1972, 1973, 1974, 1975, 1976, 1977, 1978, 1979, 1980, 1981, 1982, 1983, 1984, 1985, 1986, 1987, 1988], \"y\": [47896, 49096, 45724, 41294, 39250, 40562, 41771, 42131, 45351, 44979, 47321, 48378, 46607, 45427, 43838, 42921, 41743, 39203, 38356, 38361], \"xaxis\": \"x13\", \"yaxis\": \"y13\"}, {\"type\": \"scatter\", \"x\": [1969, 1970, 1971, 1972, 1973, 1974, 1975, 1976, 1977, 1978, 1979, 1980, 1981, 1982, 1983, 1984, 1985, 1986, 1987, 1988], \"y\": [13072, 14078, 13924, 13704, 14102, 15160, 15860, 16884, 18292, 18878, 19533, 19657, 19229, 19287, 18480, 17804, 17326, 16344, 15736, 15563], \"xaxis\": \"x14\", \"yaxis\": \"y14\"}, {\"type\": \"scatter\", \"x\": [1969, 1970, 1971, 1972, 1973, 1974, 1975, 1976, 1977, 1978, 1979, 1980, 1981, 1982, 1983, 1984, 1985, 1986, 1987, 1988], \"y\": [193136, 202388, 192694, 175588, 166700, 166532, 166882, 167679, 174441, 171710, 181153, 186773, 181856, 180227, 175648, 176088, 177447, 173430, 177473, 181679], \"xaxis\": \"x15\", \"yaxis\": \"y15\"}, {\"type\": \"scatter\", \"x\": [1969, 1970, 1971, 1972, 1973, 1974, 1975, 1976, 1977, 1978, 1979, 1980, 1981, 1982, 1983, 1984, 1985, 1986, 1987, 1988], \"y\": [94562, 100006, 96142, 87600, 84096, 83428, 82484, 80610, 85314, 83513, 87380, 88560, 84511, 84014, 80812, 80095, 80957, 79286, 78509, 81635], \"xaxis\": \"x16\", \"yaxis\": \"y16\"}, {\"type\": \"scatter\", \"x\": [1969, 1970, 1971, 1972, 1973, 1974, 1975, 1976, 1977, 1978, 1979, 1980, 1981, 1982, 1983, 1984, 1985, 1986, 1987, 1988], \"y\": [35456, 36264, 34252, 31500, 30662, 31295, 32363, 33538, 34932, 34795, 37419, 39468, 40135, 39910, 39409, 38935, 38500, 38083, 37321, 37574], \"xaxis\": \"x17\", \"yaxis\": \"y17\"}, {\"type\": \"scatter\", \"x\": [1969, 1970, 1971, 1972, 1973, 1974, 1975, 1976, 1977, 1978, 1979, 1980, 1981, 1982, 1983, 1984, 1985, 1986, 1987, 1988], \"y\": [58276, 61164, 61632, 56372, 54966, 54326, 55980, 56964, 59923, 58295, 60030, 60312, 57988, 57147, 53854, 52119, 51856, 50790, 50605, 50381], \"xaxis\": \"x18\", \"yaxis\": \"y18\"}, {\"type\": \"scatter\", \"x\": [1969, 1970, 1971, 1972, 1973, 1974, 1975, 1976, 1977, 1978, 1979, 1980, 1981, 1982, 1983, 1984, 1985, 1986, 1987, 1988], \"y\": [75092, 74920, 73398, 68714, 66766, 65982, 68136, 70002, 75571, 75029, 79365, 82208, 82206, 84637, 82453, 81496, 81649, 78093, 74312, 74236], \"xaxis\": \"x19\", \"yaxis\": \"y19\"}, {\"type\": \"scatter\", \"x\": [1969, 1970, 1971, 1972, 1973, 1974, 1975, 1976, 1977, 1978, 1979, 1980, 1981, 1982, 1983, 1984, 1985, 1986, 1987, 1988], \"y\": [94852, 96312, 89452, 79160, 74140, 71882, 69744, 67656, 69559, 70311, 72283, 74254, 75545, 77451, 77750, 79750, 83307, 83801, 86220, 89958], \"xaxis\": \"x20\", \"yaxis\": \"y20\"}, {\"type\": \"scatter\", \"x\": [1969, 1970, 1971, 1972, 1973, 1974, 1975, 1976, 1977, 1978, 1979, 1980, 1981, 1982, 1983, 1984, 1985, 1986, 1987, 1988], \"y\": [60326, 60558, 57492, 51038, 47332, 46710, 45807, 45514, 48341, 48227, 50980, 52570, 54327, 57184, 57930, 59302, 61530, 62859, 65346, 68083], \"xaxis\": \"x21\", \"yaxis\": \"y21\"}, {\"type\": \"scatter\", \"x\": [1969, 1970, 1971, 1972, 1973, 1974, 1975, 1976, 1977, 1978, 1979, 1980, 1981, 1982, 1983, 1984, 1985, 1986, 1987, 1988], \"y\": [17296, 17690, 17742, 16229, 15604, 14753, 14771, 14519, 15590, 15297, 15810, 15875, 15875, 16055, 16044, 16134, 16244, 16026, 16111, 16520], \"xaxis\": \"x22\", \"yaxis\": \"y22\"}, {\"type\": \"scatter\", \"x\": [1969, 1970, 1971, 1972, 1973, 1974, 1975, 1976, 1977, 1978, 1979, 1980, 1981, 1982, 1983, 1984, 1985, 1986, 1987, 1988], \"y\": [163940, 170754, 161144, 146026, 140370, 136421, 132783, 130259, 137143, 137900, 143237, 144077, 139412, 137128, 131836, 134871, 136757, 136193, 138917, 137965], \"xaxis\": \"x23\", \"yaxis\": \"y23\"}, {\"type\": \"scatter\", \"x\": [1969, 1970, 1971, 1972, 1973, 1974, 1975, 1976, 1977, 1978, 1979, 1980, 1981, 1982, 1983, 1984, 1985, 1986, 1987, 1988], \"y\": [65958, 68196, 62584, 56516, 53872, 55844, 56764, 56939, 60654, 62387, 65744, 68289, 68974, 68995, 65976, 67040, 67523, 65790, 64984, 66409], \"xaxis\": \"x24\", \"yaxis\": \"y24\"}, {\"type\": \"scatter\", \"x\": [1969, 1970, 1971, 1972, 1973, 1974, 1975, 1976, 1977, 1978, 1979, 1980, 1981, 1982, 1983, 1984, 1985, 1986, 1987, 1988], \"y\": [81266, 83730, 81364, 75135, 70839, 71915, 70787, 71319, 75688, 75283, 78562, 80770, 78538, 78334, 77061, 76293, 78760, 77105, 76909, 78331], \"xaxis\": \"x25\", \"yaxis\": \"y25\"}, {\"type\": \"scatter\", \"x\": [1969, 1970, 1971, 1972, 1973, 1974, 1975, 1976, 1977, 1978, 1979, 1980, 1981, 1982, 1983, 1984, 1985, 1986, 1987, 1988], \"y\": [47102, 48034, 48334, 45560, 44128, 43562, 43400, 42676, 45292, 44148, 45628, 47399, 45782, 45537, 43689, 43358, 42719, 41242, 40374, 41269], \"xaxis\": \"x26\", \"yaxis\": \"y26\"}, {\"type\": \"scatter\", \"x\": [1969, 1970, 1971, 1972, 1973, 1974, 1975, 1976, 1977, 1978, 1979, 1980, 1981, 1982, 1983, 1984, 1985, 1986, 1987, 1988], \"y\": [11620, 12444, 12234, 11314, 11232, 12084, 11815, 12360, 13055, 13243, 13804, 13874, 13999, 14236, 13739, 13866, 13217, 12431, 11924, 11393], \"xaxis\": \"x27\", \"yaxis\": \"y27\"}, {\"type\": \"scatter\", \"x\": [1969, 1970, 1971, 1972, 1973, 1974, 1975, 1976, 1977, 1978, 1979, 1980, 1981, 1982, 1983, 1984, 1985, 1986, 1987, 1988], \"y\": [93956, 98404, 95752, 89340, 85828, 84288, 80806, 80583, 84872, 82801, 84249, 85102, 84463, 86603, 84566, 86625, 89980, 90649, 93868, 97868], \"xaxis\": \"x28\", \"yaxis\": \"y28\"}, {\"type\": \"scatter\", \"x\": [1969, 1970, 1971, 1972, 1973, 1974, 1975, 1976, 1977, 1978, 1979, 1980, 1981, 1982, 1983, 1984, 1985, 1986, 1987, 1988], \"y\": [11276, 11558, 10900, 10578, 10388, 10712, 11272, 11394, 12232, 12126, 12752, 12960, 13388, 13622, 13197, 12729, 12734, 11892, 11545, 11441], \"xaxis\": \"x29\", \"yaxis\": \"y29\"}, {\"type\": \"scatter\", \"x\": [1969, 1970, 1971, 1972, 1973, 1974, 1975, 1976, 1977, 1978, 1979, 1980, 1981, 1982, 1983, 1984, 1985, 1986, 1987, 1988], \"y\": [24806, 25948, 25670, 23686, 22994, 23962, 23908, 24019, 25558, 25424, 26566, 27672, 27514, 27243, 26599, 26449, 25884, 24752, 24106, 24266], \"xaxis\": \"x30\", \"yaxis\": \"y30\"}, {\"type\": \"scatter\", \"x\": [1969, 1970, 1971, 1972, 1973, 1974, 1975, 1976, 1977, 1978, 1979, 1980, 1981, 1982, 1983, 1984, 1985, 1986, 1987, 1988], \"y\": [12288, 12870, 12578, 11387, 10959, 11428, 11073, 11087, 12130, 12357, 12819, 13718, 13714, 14147, 13680, 14075, 15308, 15628, 16685, 17053], \"xaxis\": \"x31\", \"yaxis\": \"y31\"}, {\"type\": \"scatter\", \"x\": [1969, 1970, 1971, 1972, 1973, 1974, 1975, 1976, 1977, 1978, 1979, 1980, 1981, 1982, 1983, 1984, 1985, 1986, 1987, 1988], \"y\": [113754, 116838, 109546, 97760, 92774, 91862, 89014, 87764, 91196, 90676, 93370, 93724, 93428, 95575, 96130, 98214, 102426, 105916, 110338, 114585], \"xaxis\": \"x32\", \"yaxis\": \"y32\"}, {\"type\": \"scatter\", \"x\": [1969, 1970, 1971, 1972, 1973, 1974, 1975, 1976, 1977, 1978, 1979, 1980, 1981, 1982, 1983, 1984, 1985, 1986, 1987, 1988], \"y\": [21316, 21820, 22120, 20650, 20470, 21112, 20840, 21646, 22600, 23264, 24768, 25476, 26084, 27203, 27121, 27084, 27296, 27061, 26932, 26686], \"xaxis\": \"x33\", \"yaxis\": \"y33\"}, {\"type\": \"scatter\", \"x\": [1969, 1970, 1971, 1972, 1973, 1974, 1975, 1976, 1977, 1978, 1979, 1980, 1981, 1982, 1983, 1984, 1985, 1986, 1987, 1988], \"y\": [8902, 9390, 9598, 8868, 8500, 8782, 8844, 9530, 10091, 10811, 12293, 13191, 13881, 14400, 14166, 14769, 15216, 15787, 16557, 17894], \"xaxis\": \"x34\", \"yaxis\": \"y34\"}, {\"type\": \"scatter\", \"x\": [1969, 1970, 1971, 1972, 1973, 1974, 1975, 1976, 1977, 1978, 1979, 1980, 1981, 1982, 1983, 1984, 1985, 1986, 1987, 1988], \"y\": [311984, 318968, 285780, 254946, 240315, 241011, 237683, 237034, 241450, 235024, 236975, 239993, 243252, 248145, 249381, 251862, 260287, 264805, 272835, 281569], \"xaxis\": \"x35\", \"yaxis\": \"y35\"}, {\"type\": \"scatter\", \"x\": [1969, 1970, 1971, 1972, 1973, 1974, 1975, 1976, 1977, 1978, 1979, 1980, 1981, 1982, 1983, 1984, 1985, 1986, 1987, 1988], \"y\": [189544, 199682, 190100, 169284, 160714, 160846, 158936, 155524, 161924, 161049, 167117, 169581, 167584, 165261, 159298, 159202, 161232, 158931, 158870, 161647], \"xaxis\": \"x36\", \"yaxis\": \"y36\"}, {\"type\": \"scatter\", \"x\": [1969, 1970, 1971, 1972, 1973, 1974, 1975, 1976, 1977, 1978, 1979, 1980, 1981, 1982, 1983, 1984, 1985, 1986, 1987, 1988], \"y\": [41756, 43682, 44102, 41094, 39488, 40952, 41315, 42264, 43905, 44266, 47389, 50472, 52091, 57230, 55427, 53081, 51874, 49374, 46778, 46401], \"xaxis\": \"x37\", \"yaxis\": \"y37\"}, {\"type\": \"scatter\", \"x\": [1969, 1970, 1971, 1972, 1973, 1974, 1975, 1976, 1977, 1978, 1979, 1980, 1981, 1982, 1983, 1984, 1985, 1986, 1987, 1988], \"y\": [34486, 36006, 34174, 32132, 31724, 33438, 34312, 35613, 38448, 40015, 42870, 44221, 44150, 42093, 41047, 40842, 40778, 40093, 39996, 41345], \"xaxis\": \"x38\", \"yaxis\": \"y38\"}, {\"type\": \"scatter\", \"x\": [1969, 1970, 1971, 1972, 1973, 1974, 1975, 1976, 1977, 1978, 1979, 1980, 1981, 1982, 1983, 1984, 1985, 1986, 1987, 1988], \"y\": [186692, 193412, 182012, 164094, 154398, 152534, 149900, 149296, 154714, 153304, 159073, 160244, 161800, 163198, 159416, 158548, 161951, 162059, 163696, 166771], \"xaxis\": \"x39\", \"yaxis\": \"y39\"}, {\"type\": \"scatter\", \"x\": [1969, 1970, 1971, 1972, 1973, 1974, 1975, 1976, 1977, 1978, 1979, 1980, 1981, 1982, 1983, 1984, 1985, 1986, 1987, 1988], \"y\": [15854, 16176, 15168, 13495, 12647, 11696, 10957, 11102, 11937, 11785, 12251, 12574, 12866, 13032, 13092, 13290, 13674, 14084, 14669, 14689], \"xaxis\": \"x40\", \"yaxis\": \"y40\"}, {\"type\": \"scatter\", \"x\": [1969, 1970, 1971, 1972, 1973, 1974, 1975, 1976, 1977, 1978, 1979, 1980, 1981, 1982, 1983, 1984, 1985, 1986, 1987, 1988], \"y\": [49182, 50856, 51680, 48598, 47636, 47005, 45147, 46082, 47974, 47654, 48631, 49810, 49473, 49287, 48484, 48296, 49510, 49557, 50662, 53003], \"xaxis\": \"x41\", \"yaxis\": \"y41\"}, {\"type\": \"scatter\", \"x\": [1969, 1970, 1971, 1972, 1973, 1974, 1975, 1976, 1977, 1978, 1979, 1980, 1981, 1982, 1983, 1984, 1985, 1986, 1987, 1988], \"y\": [11276, 11592, 11408, 10672, 10510, 10962, 11128, 11488, 11860, 12104, 12858, 13158, 12674, 12722, 12515, 12328, 12056, 11633, 11537, 11253], \"xaxis\": \"x42\", \"yaxis\": \"y42\"}, {\"type\": \"scatter\", \"x\": [1969, 1970, 1971, 1972, 1973, 1974, 1975, 1976, 1977, 1978, 1979, 1980, 1981, 1982, 1983, 1984, 1985, 1986, 1987, 1988], \"y\": [73248, 75740, 74998, 69492, 67802, 67986, 65752, 65653, 70019, 70248, 72148, 72909, 70753, 71089, 70159, 69713, 71506, 70784, 72675, 75595], \"xaxis\": \"x43\", \"yaxis\": \"y43\"}, {\"type\": \"scatter\", \"x\": [1969, 1970, 1971, 1972, 1973, 1974, 1975, 1976, 1977, 1978, 1979, 1980, 1981, 1982, 1983, 1984, 1985, 1986, 1987, 1988], \"y\": [226868, 237114, 236178, 222006, 218726, 221256, 224754, 227409, 234985, 242548, 260561, 279785, 288362, 303016, 299649, 303569, 312598, 311006, 305520, 307563], \"xaxis\": \"x44\", \"yaxis\": \"y44\"}, {\"type\": \"scatter\", \"x\": [1969, 1970, 1971, 1972, 1973, 1974, 1975, 1976, 1977, 1978, 1979, 1980, 1981, 1982, 1983, 1984, 1985, 1986, 1987, 1988], \"y\": [24810, 27564, 28192, 27548, 28656, 30648, 32406, 36220, 38814, 39758, 42095, 42801, 42384, 42761, 40612, 39390, 38443, 37371, 36265, 37021], \"xaxis\": \"x45\", \"yaxis\": \"y45\"}, {\"type\": \"scatter\", \"x\": [1969, 1970, 1971, 1972, 1973, 1974, 1975, 1976, 1977, 1978, 1979, 1980, 1981, 1982, 1983, 1984, 1985, 1986, 1987, 1988], \"y\": [78364, 81310, 78564, 71548, 68470, 67970, 67378, 67246, 71526, 70651, 73949, 75330, 76231, 77830, 77512, 79365, 82952, 84350, 87613, 90291], \"xaxis\": \"x46\", \"yaxis\": \"y46\"}, {\"type\": \"scatter\", \"x\": [1969, 1970, 1971, 1972, 1973, 1974, 1975, 1976, 1977, 1978, 1979, 1980, 1981, 1982, 1983, 1984, 1985, 1986, 1987, 1988], \"y\": [7778, 8182, 7770, 7137, 6519, 6550, 6438, 6444, 6746, 6910, 7292, 7690, 7636, 7766, 7741, 7805, 7825, 7898, 7888, 7871], \"xaxis\": \"x47\", \"yaxis\": \"y47\"}, {\"type\": \"scatter\", \"x\": [1969, 1970, 1971, 1972, 1973, 1974, 1975, 1976, 1977, 1978, 1979, 1980, 1981, 1982, 1983, 1984, 1985, 1986, 1987, 1988], \"y\": [59238, 60284, 54956, 47928, 47186, 49670, 50424, 52804, 57086, 58421, 63819, 67492, 69141, 68988, 68073, 68080, 69297, 68500, 69346, 71396], \"xaxis\": \"x48\", \"yaxis\": \"y48\"}, {\"type\": \"scatter\", \"x\": [1969, 1970, 1971, 1972, 1973, 1974, 1975, 1976, 1977, 1978, 1979, 1980, 1981, 1982, 1983, 1984, 1985, 1986, 1987, 1988], \"y\": [74044, 76764, 71392, 64214, 62542, 65112, 65000, 64696, 68379, 68387, 72839, 74365, 73821, 73932, 72132, 72763, 73302, 71839, 70457, 70385], \"xaxis\": \"x49\", \"yaxis\": \"y49\"}, {\"type\": \"scatter\", \"x\": [1969, 1970, 1971, 1972, 1973, 1974, 1975, 1976, 1977, 1978, 1979, 1980, 1981, 1982, 1983, 1984, 1985, 1986, 1987, 1988], \"y\": [29198, 30656, 31372, 29696, 27868, 27722, 27888, 28583, 30467, 29732, 30198, 29952, 28371, 27937, 26872, 25504, 25259, 24256, 23421, 22801], \"xaxis\": \"x50\", \"yaxis\": \"y50\"}], {\"xaxis1\": {\"domain\": [0.0, 0.1388888888888889], \"anchor\": \"y1\"}, \"yaxis1\": {\"domain\": [0.9450000000000001, 1.0], \"anchor\": \"x1\"}, \"xaxis2\": {\"domain\": [0.17222222222222222, 0.3111111111111111], \"anchor\": \"y2\"}, \"yaxis2\": {\"domain\": [0.9450000000000001, 1.0], \"anchor\": \"x2\"}, \"xaxis3\": {\"domain\": [0.34444444444444444, 0.48333333333333334], \"anchor\": \"y3\"}, \"yaxis3\": {\"domain\": [0.9450000000000001, 1.0], \"anchor\": \"x3\"}, \"xaxis4\": {\"domain\": [0.5166666666666666, 0.6555555555555554], \"anchor\": \"y4\"}, \"yaxis4\": {\"domain\": [0.9450000000000001, 1.0], \"anchor\": \"x4\"}, \"xaxis5\": {\"domain\": [0.6888888888888889, 0.8277777777777777], \"anchor\": \"y5\"}, \"yaxis5\": {\"domain\": [0.9450000000000001, 1.0], \"anchor\": \"x5\"}, \"xaxis6\": {\"domain\": [0.8611111111111112, 1.0], \"anchor\": \"y6\"}, \"yaxis6\": {\"domain\": [0.9450000000000001, 1.0], \"anchor\": \"x6\"}, \"xaxis7\": {\"domain\": [0.0, 0.1388888888888889], \"anchor\": \"y7\"}, \"yaxis7\": {\"domain\": [0.8400000000000001, 0.8950000000000001], \"anchor\": \"x7\"}, \"xaxis8\": {\"domain\": [0.17222222222222222, 0.3111111111111111], \"anchor\": \"y8\"}, \"yaxis8\": {\"domain\": [0.8400000000000001, 0.8950000000000001], \"anchor\": \"x8\"}, \"xaxis9\": {\"domain\": [0.34444444444444444, 0.48333333333333334], \"anchor\": \"y9\"}, \"yaxis9\": {\"domain\": [0.8400000000000001, 0.8950000000000001], \"anchor\": \"x9\"}, \"xaxis10\": {\"domain\": [0.5166666666666666, 0.6555555555555554], \"anchor\": \"y10\"}, \"yaxis10\": {\"domain\": [0.8400000000000001, 0.8950000000000001], \"anchor\": \"x10\"}, \"xaxis11\": {\"domain\": [0.6888888888888889, 0.8277777777777777], \"anchor\": \"y11\"}, \"yaxis11\": {\"domain\": [0.8400000000000001, 0.8950000000000001], \"anchor\": \"x11\"}, \"xaxis12\": {\"domain\": [0.8611111111111112, 1.0], \"anchor\": \"y12\"}, \"yaxis12\": {\"domain\": [0.8400000000000001, 0.8950000000000001], \"anchor\": \"x12\"}, \"xaxis13\": {\"domain\": [0.0, 0.1388888888888889], \"anchor\": \"y13\"}, \"yaxis13\": {\"domain\": [0.7350000000000001, 0.7900000000000001], \"anchor\": \"x13\"}, \"xaxis14\": {\"domain\": [0.17222222222222222, 0.3111111111111111], \"anchor\": \"y14\"}, \"yaxis14\": {\"domain\": [0.7350000000000001, 0.7900000000000001], \"anchor\": \"x14\"}, \"xaxis15\": {\"domain\": [0.34444444444444444, 0.48333333333333334], \"anchor\": \"y15\"}, \"yaxis15\": {\"domain\": [0.7350000000000001, 0.7900000000000001], \"anchor\": \"x15\"}, \"xaxis16\": {\"domain\": [0.5166666666666666, 0.6555555555555554], \"anchor\": \"y16\"}, \"yaxis16\": {\"domain\": [0.7350000000000001, 0.7900000000000001], \"anchor\": \"x16\"}, \"xaxis17\": {\"domain\": [0.6888888888888889, 0.8277777777777777], \"anchor\": \"y17\"}, \"yaxis17\": {\"domain\": [0.7350000000000001, 0.7900000000000001], \"anchor\": \"x17\"}, \"xaxis18\": {\"domain\": [0.8611111111111112, 1.0], \"anchor\": \"y18\"}, \"yaxis18\": {\"domain\": [0.7350000000000001, 0.7900000000000001], \"anchor\": \"x18\"}, \"xaxis19\": {\"domain\": [0.0, 0.1388888888888889], \"anchor\": \"y19\"}, \"yaxis19\": {\"domain\": [0.6300000000000001, 0.6850000000000002], \"anchor\": \"x19\"}, \"xaxis20\": {\"domain\": [0.17222222222222222, 0.3111111111111111], \"anchor\": \"y20\"}, \"yaxis20\": {\"domain\": [0.6300000000000001, 0.6850000000000002], \"anchor\": \"x20\"}, \"xaxis21\": {\"domain\": [0.34444444444444444, 0.48333333333333334], \"anchor\": \"y21\"}, \"yaxis21\": {\"domain\": [0.6300000000000001, 0.6850000000000002], \"anchor\": \"x21\"}, \"xaxis22\": {\"domain\": [0.5166666666666666, 0.6555555555555554], \"anchor\": \"y22\"}, \"yaxis22\": {\"domain\": [0.6300000000000001, 0.6850000000000002], \"anchor\": \"x22\"}, \"xaxis23\": {\"domain\": [0.6888888888888889, 0.8277777777777777], \"anchor\": \"y23\"}, \"yaxis23\": {\"domain\": [0.6300000000000001, 0.6850000000000002], \"anchor\": \"x23\"}, \"xaxis24\": {\"domain\": [0.8611111111111112, 1.0], \"anchor\": \"y24\"}, \"yaxis24\": {\"domain\": [0.6300000000000001, 0.6850000000000002], \"anchor\": \"x24\"}, \"xaxis25\": {\"domain\": [0.0, 0.1388888888888889], \"anchor\": \"y25\"}, \"yaxis25\": {\"domain\": [0.525, 0.5800000000000001], \"anchor\": \"x25\"}, \"xaxis26\": {\"domain\": [0.17222222222222222, 0.3111111111111111], \"anchor\": \"y26\"}, \"yaxis26\": {\"domain\": [0.525, 0.5800000000000001], \"anchor\": \"x26\"}, \"xaxis27\": {\"domain\": [0.34444444444444444, 0.48333333333333334], \"anchor\": \"y27\"}, \"yaxis27\": {\"domain\": [0.525, 0.5800000000000001], \"anchor\": \"x27\"}, \"xaxis28\": {\"domain\": [0.5166666666666666, 0.6555555555555554], \"anchor\": \"y28\"}, \"yaxis28\": {\"domain\": [0.525, 0.5800000000000001], \"anchor\": \"x28\"}, \"xaxis29\": {\"domain\": [0.6888888888888889, 0.8277777777777777], \"anchor\": \"y29\"}, \"yaxis29\": {\"domain\": [0.525, 0.5800000000000001], \"anchor\": \"x29\"}, \"xaxis30\": {\"domain\": [0.8611111111111112, 1.0], \"anchor\": \"y30\"}, \"yaxis30\": {\"domain\": [0.525, 0.5800000000000001], \"anchor\": \"x30\"}, \"xaxis31\": {\"domain\": [0.0, 0.1388888888888889], \"anchor\": \"y31\"}, \"yaxis31\": {\"domain\": [0.42000000000000004, 0.47500000000000003], \"anchor\": \"x31\"}, \"xaxis32\": {\"domain\": [0.17222222222222222, 0.3111111111111111], \"anchor\": \"y32\"}, \"yaxis32\": {\"domain\": [0.42000000000000004, 0.47500000000000003], \"anchor\": \"x32\"}, \"xaxis33\": {\"domain\": [0.34444444444444444, 0.48333333333333334], \"anchor\": \"y33\"}, \"yaxis33\": {\"domain\": [0.42000000000000004, 0.47500000000000003], \"anchor\": \"x33\"}, \"xaxis34\": {\"domain\": [0.5166666666666666, 0.6555555555555554], \"anchor\": \"y34\"}, \"yaxis34\": {\"domain\": [0.42000000000000004, 0.47500000000000003], \"anchor\": \"x34\"}, \"xaxis35\": {\"domain\": [0.6888888888888889, 0.8277777777777777], \"anchor\": \"y35\"}, \"yaxis35\": {\"domain\": [0.42000000000000004, 0.47500000000000003], \"anchor\": \"x35\"}, \"xaxis36\": {\"domain\": [0.8611111111111112, 1.0], \"anchor\": \"y36\"}, \"yaxis36\": {\"domain\": [0.42000000000000004, 0.47500000000000003], \"anchor\": \"x36\"}, \"xaxis37\": {\"domain\": [0.0, 0.1388888888888889], \"anchor\": \"y37\"}, \"yaxis37\": {\"domain\": [0.31500000000000006, 0.37000000000000005], \"anchor\": \"x37\"}, \"xaxis38\": {\"domain\": [0.17222222222222222, 0.3111111111111111], \"anchor\": \"y38\"}, \"yaxis38\": {\"domain\": [0.31500000000000006, 0.37000000000000005], \"anchor\": \"x38\"}, \"xaxis39\": {\"domain\": [0.34444444444444444, 0.48333333333333334], \"anchor\": \"y39\"}, \"yaxis39\": {\"domain\": [0.31500000000000006, 0.37000000000000005], \"anchor\": \"x39\"}, \"xaxis40\": {\"domain\": [0.5166666666666666, 0.6555555555555554], \"anchor\": \"y40\"}, \"yaxis40\": {\"domain\": [0.31500000000000006, 0.37000000000000005], \"anchor\": \"x40\"}, \"xaxis41\": {\"domain\": [0.6888888888888889, 0.8277777777777777], \"anchor\": \"y41\"}, \"yaxis41\": {\"domain\": [0.31500000000000006, 0.37000000000000005], \"anchor\": \"x41\"}, \"xaxis42\": {\"domain\": [0.8611111111111112, 1.0], \"anchor\": \"y42\"}, \"yaxis42\": {\"domain\": [0.31500000000000006, 0.37000000000000005], \"anchor\": \"x42\"}, \"xaxis43\": {\"domain\": [0.0, 0.1388888888888889], \"anchor\": \"y43\"}, \"yaxis43\": {\"domain\": [0.21000000000000002, 0.265], \"anchor\": \"x43\"}, \"xaxis44\": {\"domain\": [0.17222222222222222, 0.3111111111111111], \"anchor\": \"y44\"}, \"yaxis44\": {\"domain\": [0.21000000000000002, 0.265], \"anchor\": \"x44\"}, \"xaxis45\": {\"domain\": [0.34444444444444444, 0.48333333333333334], \"anchor\": \"y45\"}, \"yaxis45\": {\"domain\": [0.21000000000000002, 0.265], \"anchor\": \"x45\"}, \"xaxis46\": {\"domain\": [0.5166666666666666, 0.6555555555555554], \"anchor\": \"y46\"}, \"yaxis46\": {\"domain\": [0.21000000000000002, 0.265], \"anchor\": \"x46\"}, \"xaxis47\": {\"domain\": [0.6888888888888889, 0.8277777777777777], \"anchor\": \"y47\"}, \"yaxis47\": {\"domain\": [0.21000000000000002, 0.265], \"anchor\": \"x47\"}, \"xaxis48\": {\"domain\": [0.8611111111111112, 1.0], \"anchor\": \"y48\"}, \"yaxis48\": {\"domain\": [0.21000000000000002, 0.265], \"anchor\": \"x48\"}, \"xaxis49\": {\"domain\": [0.0, 0.1388888888888889], \"anchor\": \"y49\"}, \"yaxis49\": {\"domain\": [0.10500000000000001, 0.16000000000000003], \"anchor\": \"x49\"}, \"xaxis50\": {\"domain\": [0.17222222222222222, 0.3111111111111111], \"anchor\": \"y50\"}, \"yaxis50\": {\"domain\": [0.10500000000000001, 0.16000000000000003], \"anchor\": \"x50\"}, \"xaxis51\": {\"domain\": [0.34444444444444444, 0.48333333333333334], \"anchor\": \"y51\"}, \"yaxis51\": {\"domain\": [0.10500000000000001, 0.16000000000000003], \"anchor\": \"x51\"}, \"xaxis52\": {\"domain\": [0.5166666666666666, 0.6555555555555554], \"anchor\": \"y52\"}, \"yaxis52\": {\"domain\": [0.10500000000000001, 0.16000000000000003], \"anchor\": \"x52\"}, \"xaxis53\": {\"domain\": [0.6888888888888889, 0.8277777777777777], \"anchor\": \"y53\"}, \"yaxis53\": {\"domain\": [0.10500000000000001, 0.16000000000000003], \"anchor\": \"x53\"}, \"xaxis54\": {\"domain\": [0.8611111111111112, 1.0], \"anchor\": \"y54\"}, \"yaxis54\": {\"domain\": [0.10500000000000001, 0.16000000000000003], \"anchor\": \"x54\"}, \"xaxis55\": {\"domain\": [0.0, 0.1388888888888889], \"anchor\": \"y55\"}, \"yaxis55\": {\"domain\": [0.0, 0.05500000000000001], \"anchor\": \"x55\"}, \"xaxis56\": {\"domain\": [0.17222222222222222, 0.3111111111111111], \"anchor\": \"y56\"}, \"yaxis56\": {\"domain\": [0.0, 0.05500000000000001], \"anchor\": \"x56\"}, \"xaxis57\": {\"domain\": [0.34444444444444444, 0.48333333333333334], \"anchor\": \"y57\"}, \"yaxis57\": {\"domain\": [0.0, 0.05500000000000001], \"anchor\": \"x57\"}, \"xaxis58\": {\"domain\": [0.5166666666666666, 0.6555555555555554], \"anchor\": \"y58\"}, \"yaxis58\": {\"domain\": [0.0, 0.05500000000000001], \"anchor\": \"x58\"}, \"xaxis59\": {\"domain\": [0.6888888888888889, 0.8277777777777777], \"anchor\": \"y59\"}, \"yaxis59\": {\"domain\": [0.0, 0.05500000000000001], \"anchor\": \"x59\"}, \"xaxis60\": {\"domain\": [0.8611111111111112, 1.0], \"anchor\": \"y60\"}, \"yaxis60\": {\"domain\": [0.0, 0.05500000000000001], \"anchor\": \"x60\"}, \"annotations\": [{\"y\": 1.0, \"xref\": \"paper\", \"x\": 0.06944444444444445, \"yref\": \"paper\", \"text\": \"AK\", \"showarrow\": false, \"font\": {\"size\": 16}, \"xanchor\": \"center\", \"yanchor\": \"bottom\"}, {\"y\": 1.0, \"xref\": \"paper\", \"x\": 0.24166666666666667, \"yref\": \"paper\", \"text\": \"AL\", \"showarrow\": false, \"font\": {\"size\": 16}, \"xanchor\": \"center\", \"yanchor\": \"bottom\"}, {\"y\": 1.0, \"xref\": \"paper\", \"x\": 0.41388888888888886, \"yref\": \"paper\", \"text\": \"AR\", \"showarrow\": false, \"font\": {\"size\": 16}, \"xanchor\": \"center\", \"yanchor\": \"bottom\"}, {\"y\": 1.0, \"xref\": \"paper\", \"x\": 0.586111111111111, \"yref\": \"paper\", \"text\": \"AZ\", \"showarrow\": false, \"font\": {\"size\": 16}, \"xanchor\": \"center\", \"yanchor\": \"bottom\"}, {\"y\": 1.0, \"xref\": \"paper\", \"x\": 0.7583333333333333, \"yref\": \"paper\", \"text\": \"CA\", \"showarrow\": false, \"font\": {\"size\": 16}, \"xanchor\": \"center\", \"yanchor\": \"bottom\"}, {\"y\": 1.0, \"xref\": \"paper\", \"x\": 0.9305555555555556, \"yref\": \"paper\", \"text\": \"CO\", \"showarrow\": false, \"font\": {\"size\": 16}, \"xanchor\": \"center\", \"yanchor\": \"bottom\"}, {\"y\": 0.8950000000000001, \"xref\": \"paper\", \"x\": 0.06944444444444445, \"yref\": \"paper\", \"text\": \"CT\", \"showarrow\": false, \"font\": {\"size\": 16}, \"xanchor\": \"center\", \"yanchor\": \"bottom\"}, {\"y\": 0.8950000000000001, \"xref\": \"paper\", \"x\": 0.24166666666666667, \"yref\": \"paper\", \"text\": \"DC\", \"showarrow\": false, \"font\": {\"size\": 16}, \"xanchor\": \"center\", \"yanchor\": \"bottom\"}, {\"y\": 0.8950000000000001, \"xref\": \"paper\", \"x\": 0.41388888888888886, \"yref\": \"paper\", \"text\": \"DE\", \"showarrow\": false, \"font\": {\"size\": 16}, \"xanchor\": \"center\", \"yanchor\": \"bottom\"}, {\"y\": 0.8950000000000001, \"xref\": \"paper\", \"x\": 0.586111111111111, \"yref\": \"paper\", \"text\": \"FL\", \"showarrow\": false, \"font\": {\"size\": 16}, \"xanchor\": \"center\", \"yanchor\": \"bottom\"}, {\"y\": 0.8950000000000001, \"xref\": \"paper\", \"x\": 0.7583333333333333, \"yref\": \"paper\", \"text\": \"GA\", \"showarrow\": false, \"font\": {\"size\": 16}, \"xanchor\": \"center\", \"yanchor\": \"bottom\"}, {\"y\": 0.8950000000000001, \"xref\": \"paper\", \"x\": 0.9305555555555556, \"yref\": \"paper\", \"text\": \"HI\", \"showarrow\": false, \"font\": {\"size\": 16}, \"xanchor\": \"center\", \"yanchor\": \"bottom\"}, {\"y\": 0.7900000000000001, \"xref\": \"paper\", \"x\": 0.06944444444444445, \"yref\": \"paper\", \"text\": \"IA\", \"showarrow\": false, \"font\": {\"size\": 16}, \"xanchor\": \"center\", \"yanchor\": \"bottom\"}, {\"y\": 0.7900000000000001, \"xref\": \"paper\", \"x\": 0.24166666666666667, \"yref\": \"paper\", \"text\": \"ID\", \"showarrow\": false, \"font\": {\"size\": 16}, \"xanchor\": \"center\", \"yanchor\": \"bottom\"}, {\"y\": 0.7900000000000001, \"xref\": \"paper\", \"x\": 0.41388888888888886, \"yref\": \"paper\", \"text\": \"IL\", \"showarrow\": false, \"font\": {\"size\": 16}, \"xanchor\": \"center\", \"yanchor\": \"bottom\"}, {\"y\": 0.7900000000000001, \"xref\": \"paper\", \"x\": 0.586111111111111, \"yref\": \"paper\", \"text\": \"IN\", \"showarrow\": false, \"font\": {\"size\": 16}, \"xanchor\": \"center\", \"yanchor\": \"bottom\"}, {\"y\": 0.7900000000000001, \"xref\": \"paper\", \"x\": 0.7583333333333333, \"yref\": \"paper\", \"text\": \"KS\", \"showarrow\": false, \"font\": {\"size\": 16}, \"xanchor\": \"center\", \"yanchor\": \"bottom\"}, {\"y\": 0.7900000000000001, \"xref\": \"paper\", \"x\": 0.9305555555555556, \"yref\": \"paper\", \"text\": \"KY\", \"showarrow\": false, \"font\": {\"size\": 16}, \"xanchor\": \"center\", \"yanchor\": \"bottom\"}, {\"y\": 0.6850000000000002, \"xref\": \"paper\", \"x\": 0.06944444444444445, \"yref\": \"paper\", \"text\": \"LA\", \"showarrow\": false, \"font\": {\"size\": 16}, \"xanchor\": \"center\", \"yanchor\": \"bottom\"}, {\"y\": 0.6850000000000002, \"xref\": \"paper\", \"x\": 0.24166666666666667, \"yref\": \"paper\", \"text\": \"MA\", \"showarrow\": false, \"font\": {\"size\": 16}, \"xanchor\": \"center\", \"yanchor\": \"bottom\"}, {\"y\": 0.6850000000000002, \"xref\": \"paper\", \"x\": 0.41388888888888886, \"yref\": \"paper\", \"text\": \"MD\", \"showarrow\": false, \"font\": {\"size\": 16}, \"xanchor\": \"center\", \"yanchor\": \"bottom\"}, {\"y\": 0.6850000000000002, \"xref\": \"paper\", \"x\": 0.586111111111111, \"yref\": \"paper\", \"text\": \"ME\", \"showarrow\": false, \"font\": {\"size\": 16}, \"xanchor\": \"center\", \"yanchor\": \"bottom\"}, {\"y\": 0.6850000000000002, \"xref\": \"paper\", \"x\": 0.7583333333333333, \"yref\": \"paper\", \"text\": \"MI\", \"showarrow\": false, \"font\": {\"size\": 16}, \"xanchor\": \"center\", \"yanchor\": \"bottom\"}, {\"y\": 0.6850000000000002, \"xref\": \"paper\", \"x\": 0.9305555555555556, \"yref\": \"paper\", \"text\": \"MN\", \"showarrow\": false, \"font\": {\"size\": 16}, \"xanchor\": \"center\", \"yanchor\": \"bottom\"}, {\"y\": 0.5800000000000001, \"xref\": \"paper\", \"x\": 0.06944444444444445, \"yref\": \"paper\", \"text\": \"MO\", \"showarrow\": false, \"font\": {\"size\": 16}, \"xanchor\": \"center\", \"yanchor\": \"bottom\"}, {\"y\": 0.5800000000000001, \"xref\": \"paper\", \"x\": 0.24166666666666667, \"yref\": \"paper\", \"text\": \"MS\", \"showarrow\": false, \"font\": {\"size\": 16}, \"xanchor\": \"center\", \"yanchor\": \"bottom\"}, {\"y\": 0.5800000000000001, \"xref\": \"paper\", \"x\": 0.41388888888888886, \"yref\": \"paper\", \"text\": \"MT\", \"showarrow\": false, \"font\": {\"size\": 16}, \"xanchor\": \"center\", \"yanchor\": \"bottom\"}, {\"y\": 0.5800000000000001, \"xref\": \"paper\", \"x\": 0.586111111111111, \"yref\": \"paper\", \"text\": \"NC\", \"showarrow\": false, \"font\": {\"size\": 16}, \"xanchor\": \"center\", \"yanchor\": \"bottom\"}, {\"y\": 0.5800000000000001, \"xref\": \"paper\", \"x\": 0.7583333333333333, \"yref\": \"paper\", \"text\": \"ND\", \"showarrow\": false, \"font\": {\"size\": 16}, \"xanchor\": \"center\", \"yanchor\": \"bottom\"}, {\"y\": 0.5800000000000001, \"xref\": \"paper\", \"x\": 0.9305555555555556, \"yref\": \"paper\", \"text\": \"NE\", \"showarrow\": false, \"font\": {\"size\": 16}, \"xanchor\": \"center\", \"yanchor\": \"bottom\"}, {\"y\": 0.47500000000000003, \"xref\": \"paper\", \"x\": 0.06944444444444445, \"yref\": \"paper\", \"text\": \"NH\", \"showarrow\": false, \"font\": {\"size\": 16}, \"xanchor\": \"center\", \"yanchor\": \"bottom\"}, {\"y\": 0.47500000000000003, \"xref\": \"paper\", \"x\": 0.24166666666666667, \"yref\": \"paper\", \"text\": \"NJ\", \"showarrow\": false, \"font\": {\"size\": 16}, \"xanchor\": \"center\", \"yanchor\": \"bottom\"}, {\"y\": 0.47500000000000003, \"xref\": \"paper\", \"x\": 0.41388888888888886, \"yref\": \"paper\", \"text\": \"NM\", \"showarrow\": false, \"font\": {\"size\": 16}, \"xanchor\": \"center\", \"yanchor\": \"bottom\"}, {\"y\": 0.47500000000000003, \"xref\": \"paper\", \"x\": 0.586111111111111, \"yref\": \"paper\", \"text\": \"NV\", \"showarrow\": false, \"font\": {\"size\": 16}, \"xanchor\": \"center\", \"yanchor\": \"bottom\"}, {\"y\": 0.47500000000000003, \"xref\": \"paper\", \"x\": 0.7583333333333333, \"yref\": \"paper\", \"text\": \"NY\", \"showarrow\": false, \"font\": {\"size\": 16}, \"xanchor\": \"center\", \"yanchor\": \"bottom\"}, {\"y\": 0.47500000000000003, \"xref\": \"paper\", \"x\": 0.9305555555555556, \"yref\": \"paper\", \"text\": \"OH\", \"showarrow\": false, \"font\": {\"size\": 16}, \"xanchor\": \"center\", \"yanchor\": \"bottom\"}, {\"y\": 0.37000000000000005, \"xref\": \"paper\", \"x\": 0.06944444444444445, \"yref\": \"paper\", \"text\": \"OK\", \"showarrow\": false, \"font\": {\"size\": 16}, \"xanchor\": \"center\", \"yanchor\": \"bottom\"}, {\"y\": 0.37000000000000005, \"xref\": \"paper\", \"x\": 0.24166666666666667, \"yref\": \"paper\", \"text\": \"OR\", \"showarrow\": false, \"font\": {\"size\": 16}, \"xanchor\": \"center\", \"yanchor\": \"bottom\"}, {\"y\": 0.37000000000000005, \"xref\": \"paper\", \"x\": 0.41388888888888886, \"yref\": \"paper\", \"text\": \"PA\", \"showarrow\": false, \"font\": {\"size\": 16}, \"xanchor\": \"center\", \"yanchor\": \"bottom\"}, {\"y\": 0.37000000000000005, \"xref\": \"paper\", \"x\": 0.586111111111111, \"yref\": \"paper\", \"text\": \"RI\", \"showarrow\": false, \"font\": {\"size\": 16}, \"xanchor\": \"center\", \"yanchor\": \"bottom\"}, {\"y\": 0.37000000000000005, \"xref\": \"paper\", \"x\": 0.7583333333333333, \"yref\": \"paper\", \"text\": \"SC\", \"showarrow\": false, \"font\": {\"size\": 16}, \"xanchor\": \"center\", \"yanchor\": \"bottom\"}, {\"y\": 0.37000000000000005, \"xref\": \"paper\", \"x\": 0.9305555555555556, \"yref\": \"paper\", \"text\": \"SD\", \"showarrow\": false, \"font\": {\"size\": 16}, \"xanchor\": \"center\", \"yanchor\": \"bottom\"}, {\"y\": 0.265, \"xref\": \"paper\", \"x\": 0.06944444444444445, \"yref\": \"paper\", \"text\": \"TN\", \"showarrow\": false, \"font\": {\"size\": 16}, \"xanchor\": \"center\", \"yanchor\": \"bottom\"}, {\"y\": 0.265, \"xref\": \"paper\", \"x\": 0.24166666666666667, \"yref\": \"paper\", \"text\": \"TX\", \"showarrow\": false, \"font\": {\"size\": 16}, \"xanchor\": \"center\", \"yanchor\": \"bottom\"}, {\"y\": 0.265, \"xref\": \"paper\", \"x\": 0.41388888888888886, \"yref\": \"paper\", \"text\": \"UT\", \"showarrow\": false, \"font\": {\"size\": 16}, \"xanchor\": \"center\", \"yanchor\": \"bottom\"}, {\"y\": 0.265, \"xref\": \"paper\", \"x\": 0.586111111111111, \"yref\": \"paper\", \"text\": \"VA\", \"showarrow\": false, \"font\": {\"size\": 16}, \"xanchor\": \"center\", \"yanchor\": \"bottom\"}, {\"y\": 0.265, \"xref\": \"paper\", \"x\": 0.7583333333333333, \"yref\": \"paper\", \"text\": \"VT\", \"showarrow\": false, \"font\": {\"size\": 16}, \"xanchor\": \"center\", \"yanchor\": \"bottom\"}, {\"y\": 0.265, \"xref\": \"paper\", \"x\": 0.9305555555555556, \"yref\": \"paper\", \"text\": \"WA\", \"showarrow\": false, \"font\": {\"size\": 16}, \"xanchor\": \"center\", \"yanchor\": \"bottom\"}, {\"y\": 0.16000000000000003, \"xref\": \"paper\", \"x\": 0.06944444444444445, \"yref\": \"paper\", \"text\": \"WI\", \"showarrow\": false, \"font\": {\"size\": 16}, \"xanchor\": \"center\", \"yanchor\": \"bottom\"}, {\"y\": 0.16000000000000003, \"xref\": \"paper\", \"x\": 0.24166666666666667, \"yref\": \"paper\", \"text\": \"WV\", \"showarrow\": false, \"font\": {\"size\": 16}, \"xanchor\": \"center\", \"yanchor\": \"bottom\"}, {\"y\": 0.16000000000000003, \"xref\": \"paper\", \"x\": 0.41388888888888886, \"yref\": \"paper\", \"text\": \"WY\", \"showarrow\": false, \"font\": {\"size\": 16}, \"xanchor\": \"center\", \"yanchor\": \"bottom\"}], \"height\": 3000, \"width\": 1000, \"title\": \"i <3 subplots\"}, {\"showLink\": true, \"linkText\": \"Export to plot.ly\"})});</script>"
      ],
      "text/vnd.plotly.v1+html": [
       "<div id=\"d87ea807-9799-4afc-be28-e93f40f33f74\" style=\"height: 3000px; width: 1000px;\" class=\"plotly-graph-div\"></div><script type=\"text/javascript\">require([\"plotly\"], function(Plotly) { window.PLOTLYENV=window.PLOTLYENV || {};window.PLOTLYENV.BASE_URL=\"https://plot.ly\";Plotly.newPlot(\"d87ea807-9799-4afc-be28-e93f40f33f74\", [{\"type\": \"scatter\", \"x\": [1969, 1970, 1971, 1972, 1973, 1974, 1975, 1976, 1977, 1978, 1979, 1980, 1981, 1982, 1983, 1984, 1985, 1986, 1987, 1988], \"y\": [6824, 7464, 7244, 6892, 6566, 7014, 7392, 7816, 8286, 8752, 9005, 9462, 9985, 11146, 11868, 12324, 12693, 12007, 11540, 11105], \"xaxis\": \"x1\", \"yaxis\": \"y1\"}, {\"type\": \"scatter\", \"x\": [1969, 1970, 1971, 1972, 1973, 1974, 1975, 1976, 1977, 1978, 1979, 1980, 1981, 1982, 1983, 1984, 1985, 1986, 1987, 1988], \"y\": [64068, 66878, 66188, 61206, 58944, 58920, 57498, 57282, 61076, 59185, 61688, 62370, 60592, 59229, 58105, 58169, 58622, 58204, 58631, 59917], \"xaxis\": \"x2\", \"yaxis\": \"y2\"}, {\"type\": \"scatter\", \"x\": [1969, 1970, 1971, 1972, 1973, 1974, 1975, 1976, 1977, 1978, 1979, 1980, 1981, 1982, 1983, 1984, 1985, 1986, 1987, 1988], \"y\": [33400, 34746, 35040, 33040, 32764, 33856, 33628, 33292, 34702, 33822, 35406, 36338, 34716, 34325, 34261, 34331, 34514, 33877, 34023, 34139], \"xaxis\": \"x3\", \"yaxis\": \"y3\"}, {\"type\": \"scatter\", \"x\": [1969, 1970, 1971, 1972, 1973, 1974, 1975, 1976, 1977, 1978, 1979, 1980, 1981, 1982, 1983, 1984, 1985, 1986, 1987, 1988], \"y\": [34064, 37362, 38296, 37278, 37852, 39846, 39416, 40038, 41816, 43012, 46714, 50078, 51624, 52394, 53464, 54862, 59319, 60800, 63344, 65655], \"xaxis\": \"x4\", \"yaxis\": \"y4\"}, {\"type\": \"scatter\", \"x\": [1969, 1970, 1971, 1972, 1973, 1974, 1975, 1976, 1977, 1978, 1979, 1980, 1981, 1982, 1983, 1984, 1985, 1986, 1987, 1988], \"y\": [352858, 362682, 329816, 306538, 298062, 312018, 317598, 332220, 347428, 356180, 379212, 403014, 420892, 429864, 436060, 447574, 471155, 482530, 503655, 533429], \"xaxis\": \"x5\", \"yaxis\": \"y5\"}, {\"type\": \"scatter\", \"x\": [1969, 1970, 1971, 1972, 1973, 1974, 1975, 1976, 1977, 1978, 1979, 1980, 1981, 1982, 1983, 1984, 1985, 1986, 1987, 1988], \"y\": [40100, 42544, 41148, 39480, 39460, 39815, 40623, 41345, 43544, 44511, 47741, 50167, 52504, 55202, 55015, 54569, 55440, 55556, 54096, 53518], \"xaxis\": \"x6\", \"yaxis\": \"y6\"}, {\"type\": \"scatter\", \"x\": [1969, 1970, 1971, 1972, 1973, 1974, 1975, 1976, 1977, 1978, 1979, 1980, 1981, 1982, 1983, 1984, 1985, 1986, 1987, 1988], \"y\": [49184, 49852, 44856, 39142, 37014, 36360, 35626, 35398, 36302, 36996, 38445, 38523, 39761, 40141, 40954, 42064, 43815, 44767, 46986, 48152], \"xaxis\": \"x7\", \"yaxis\": \"y7\"}, {\"type\": \"scatter\", \"x\": [1969, 1970, 1971, 1972, 1973, 1974, 1975, 1976, 1977, 1978, 1979, 1980, 1981, 1982, 1983, 1984, 1985, 1986, 1987, 1988], \"y\": [27780, 28202, 25926, 22602, 20652, 19850, 19772, 19904, 20666, 19660, 20232, 20262, 19726, 19824, 19050, 19616, 19938, 19927, 20529, 21351], \"xaxis\": \"x8\", \"yaxis\": \"y8\"}, {\"type\": \"scatter\", \"x\": [1969, 1970, 1971, 1972, 1973, 1974, 1975, 1976, 1977, 1978, 1979, 1980, 1981, 1982, 1983, 1984, 1985, 1986, 1987, 1988], \"y\": [10116, 10476, 9896, 8878, 8282, 8438, 8412, 8300, 8794, 8958, 9184, 9574, 9442, 9526, 9542, 9550, 9882, 10098, 10398, 10959], \"xaxis\": \"x9\", \"yaxis\": \"y9\"}, {\"type\": \"scatter\", \"x\": [1969, 1970, 1971, 1972, 1973, 1974, 1975, 1976, 1977, 1978, 1979, 1980, 1981, 1982, 1983, 1984, 1985, 1986, 1987, 1988], \"y\": [106926, 114484, 115744, 109186, 107174, 109780, 105116, 104005, 110395, 112933, 120774, 131470, 138121, 144182, 148677, 155199, 163611, 167518, 175038, 183968], \"xaxis\": \"x10\", \"yaxis\": \"y10\"}, {\"type\": \"scatter\", \"x\": [1969, 1970, 1971, 1972, 1973, 1974, 1975, 1976, 1977, 1978, 1979, 1980, 1981, 1982, 1983, 1984, 1985, 1986, 1987, 1988], \"y\": [91622, 96918, 95050, 88472, 86464, 84676, 81444, 80864, 86306, 85996, 89582, 93976, 91738, 91984, 91682, 93768, 98033, 100151, 103881, 107023], \"xaxis\": \"x11\", \"yaxis\": \"y11\"}, {\"type\": \"scatter\", \"x\": [1969, 1970, 1971, 1972, 1973, 1974, 1975, 1976, 1977, 1978, 1979, 1980, 1981, 1982, 1983, 1984, 1985, 1986, 1987, 1988], \"y\": [15750, 16488, 15836, 15410, 15356, 15512, 15758, 16402, 16976, 16752, 17568, 18217, 18230, 18734, 19164, 18756, 18329, 18341, 18689, 19051], \"xaxis\": \"x12\", \"yaxis\": \"y12\"}, {\"type\": \"scatter\", \"x\": [1969, 1970, 1971, 1972, 1973, 1974, 1975, 1976, 1977, 1978, 1979, 1980, 1981, 1982, 1983, 1984, 1985, 1986, 1987, 1988], \"y\": [47896, 49096, 45724, 41294, 39250, 40562, 41771, 42131, 45351, 44979, 47321, 48378, 46607, 45427, 43838, 42921, 41743, 39203, 38356, 38361], \"xaxis\": \"x13\", \"yaxis\": \"y13\"}, {\"type\": \"scatter\", \"x\": [1969, 1970, 1971, 1972, 1973, 1974, 1975, 1976, 1977, 1978, 1979, 1980, 1981, 1982, 1983, 1984, 1985, 1986, 1987, 1988], \"y\": [13072, 14078, 13924, 13704, 14102, 15160, 15860, 16884, 18292, 18878, 19533, 19657, 19229, 19287, 18480, 17804, 17326, 16344, 15736, 15563], \"xaxis\": \"x14\", \"yaxis\": \"y14\"}, {\"type\": \"scatter\", \"x\": [1969, 1970, 1971, 1972, 1973, 1974, 1975, 1976, 1977, 1978, 1979, 1980, 1981, 1982, 1983, 1984, 1985, 1986, 1987, 1988], \"y\": [193136, 202388, 192694, 175588, 166700, 166532, 166882, 167679, 174441, 171710, 181153, 186773, 181856, 180227, 175648, 176088, 177447, 173430, 177473, 181679], \"xaxis\": \"x15\", \"yaxis\": \"y15\"}, {\"type\": \"scatter\", \"x\": [1969, 1970, 1971, 1972, 1973, 1974, 1975, 1976, 1977, 1978, 1979, 1980, 1981, 1982, 1983, 1984, 1985, 1986, 1987, 1988], \"y\": [94562, 100006, 96142, 87600, 84096, 83428, 82484, 80610, 85314, 83513, 87380, 88560, 84511, 84014, 80812, 80095, 80957, 79286, 78509, 81635], \"xaxis\": \"x16\", \"yaxis\": \"y16\"}, {\"type\": \"scatter\", \"x\": [1969, 1970, 1971, 1972, 1973, 1974, 1975, 1976, 1977, 1978, 1979, 1980, 1981, 1982, 1983, 1984, 1985, 1986, 1987, 1988], \"y\": [35456, 36264, 34252, 31500, 30662, 31295, 32363, 33538, 34932, 34795, 37419, 39468, 40135, 39910, 39409, 38935, 38500, 38083, 37321, 37574], \"xaxis\": \"x17\", \"yaxis\": \"y17\"}, {\"type\": \"scatter\", \"x\": [1969, 1970, 1971, 1972, 1973, 1974, 1975, 1976, 1977, 1978, 1979, 1980, 1981, 1982, 1983, 1984, 1985, 1986, 1987, 1988], \"y\": [58276, 61164, 61632, 56372, 54966, 54326, 55980, 56964, 59923, 58295, 60030, 60312, 57988, 57147, 53854, 52119, 51856, 50790, 50605, 50381], \"xaxis\": \"x18\", \"yaxis\": \"y18\"}, {\"type\": \"scatter\", \"x\": [1969, 1970, 1971, 1972, 1973, 1974, 1975, 1976, 1977, 1978, 1979, 1980, 1981, 1982, 1983, 1984, 1985, 1986, 1987, 1988], \"y\": [75092, 74920, 73398, 68714, 66766, 65982, 68136, 70002, 75571, 75029, 79365, 82208, 82206, 84637, 82453, 81496, 81649, 78093, 74312, 74236], \"xaxis\": \"x19\", \"yaxis\": \"y19\"}, {\"type\": \"scatter\", \"x\": [1969, 1970, 1971, 1972, 1973, 1974, 1975, 1976, 1977, 1978, 1979, 1980, 1981, 1982, 1983, 1984, 1985, 1986, 1987, 1988], \"y\": [94852, 96312, 89452, 79160, 74140, 71882, 69744, 67656, 69559, 70311, 72283, 74254, 75545, 77451, 77750, 79750, 83307, 83801, 86220, 89958], \"xaxis\": \"x20\", \"yaxis\": \"y20\"}, {\"type\": \"scatter\", \"x\": [1969, 1970, 1971, 1972, 1973, 1974, 1975, 1976, 1977, 1978, 1979, 1980, 1981, 1982, 1983, 1984, 1985, 1986, 1987, 1988], \"y\": [60326, 60558, 57492, 51038, 47332, 46710, 45807, 45514, 48341, 48227, 50980, 52570, 54327, 57184, 57930, 59302, 61530, 62859, 65346, 68083], \"xaxis\": \"x21\", \"yaxis\": \"y21\"}, {\"type\": \"scatter\", \"x\": [1969, 1970, 1971, 1972, 1973, 1974, 1975, 1976, 1977, 1978, 1979, 1980, 1981, 1982, 1983, 1984, 1985, 1986, 1987, 1988], \"y\": [17296, 17690, 17742, 16229, 15604, 14753, 14771, 14519, 15590, 15297, 15810, 15875, 15875, 16055, 16044, 16134, 16244, 16026, 16111, 16520], \"xaxis\": \"x22\", \"yaxis\": \"y22\"}, {\"type\": \"scatter\", \"x\": [1969, 1970, 1971, 1972, 1973, 1974, 1975, 1976, 1977, 1978, 1979, 1980, 1981, 1982, 1983, 1984, 1985, 1986, 1987, 1988], \"y\": [163940, 170754, 161144, 146026, 140370, 136421, 132783, 130259, 137143, 137900, 143237, 144077, 139412, 137128, 131836, 134871, 136757, 136193, 138917, 137965], \"xaxis\": \"x23\", \"yaxis\": \"y23\"}, {\"type\": \"scatter\", \"x\": [1969, 1970, 1971, 1972, 1973, 1974, 1975, 1976, 1977, 1978, 1979, 1980, 1981, 1982, 1983, 1984, 1985, 1986, 1987, 1988], \"y\": [65958, 68196, 62584, 56516, 53872, 55844, 56764, 56939, 60654, 62387, 65744, 68289, 68974, 68995, 65976, 67040, 67523, 65790, 64984, 66409], \"xaxis\": \"x24\", \"yaxis\": \"y24\"}, {\"type\": \"scatter\", \"x\": [1969, 1970, 1971, 1972, 1973, 1974, 1975, 1976, 1977, 1978, 1979, 1980, 1981, 1982, 1983, 1984, 1985, 1986, 1987, 1988], \"y\": [81266, 83730, 81364, 75135, 70839, 71915, 70787, 71319, 75688, 75283, 78562, 80770, 78538, 78334, 77061, 76293, 78760, 77105, 76909, 78331], \"xaxis\": \"x25\", \"yaxis\": \"y25\"}, {\"type\": \"scatter\", \"x\": [1969, 1970, 1971, 1972, 1973, 1974, 1975, 1976, 1977, 1978, 1979, 1980, 1981, 1982, 1983, 1984, 1985, 1986, 1987, 1988], \"y\": [47102, 48034, 48334, 45560, 44128, 43562, 43400, 42676, 45292, 44148, 45628, 47399, 45782, 45537, 43689, 43358, 42719, 41242, 40374, 41269], \"xaxis\": \"x26\", \"yaxis\": \"y26\"}, {\"type\": \"scatter\", \"x\": [1969, 1970, 1971, 1972, 1973, 1974, 1975, 1976, 1977, 1978, 1979, 1980, 1981, 1982, 1983, 1984, 1985, 1986, 1987, 1988], \"y\": [11620, 12444, 12234, 11314, 11232, 12084, 11815, 12360, 13055, 13243, 13804, 13874, 13999, 14236, 13739, 13866, 13217, 12431, 11924, 11393], \"xaxis\": \"x27\", \"yaxis\": \"y27\"}, {\"type\": \"scatter\", \"x\": [1969, 1970, 1971, 1972, 1973, 1974, 1975, 1976, 1977, 1978, 1979, 1980, 1981, 1982, 1983, 1984, 1985, 1986, 1987, 1988], \"y\": [93956, 98404, 95752, 89340, 85828, 84288, 80806, 80583, 84872, 82801, 84249, 85102, 84463, 86603, 84566, 86625, 89980, 90649, 93868, 97868], \"xaxis\": \"x28\", \"yaxis\": \"y28\"}, {\"type\": \"scatter\", \"x\": [1969, 1970, 1971, 1972, 1973, 1974, 1975, 1976, 1977, 1978, 1979, 1980, 1981, 1982, 1983, 1984, 1985, 1986, 1987, 1988], \"y\": [11276, 11558, 10900, 10578, 10388, 10712, 11272, 11394, 12232, 12126, 12752, 12960, 13388, 13622, 13197, 12729, 12734, 11892, 11545, 11441], \"xaxis\": \"x29\", \"yaxis\": \"y29\"}, {\"type\": \"scatter\", \"x\": [1969, 1970, 1971, 1972, 1973, 1974, 1975, 1976, 1977, 1978, 1979, 1980, 1981, 1982, 1983, 1984, 1985, 1986, 1987, 1988], \"y\": [24806, 25948, 25670, 23686, 22994, 23962, 23908, 24019, 25558, 25424, 26566, 27672, 27514, 27243, 26599, 26449, 25884, 24752, 24106, 24266], \"xaxis\": \"x30\", \"yaxis\": \"y30\"}, {\"type\": \"scatter\", \"x\": [1969, 1970, 1971, 1972, 1973, 1974, 1975, 1976, 1977, 1978, 1979, 1980, 1981, 1982, 1983, 1984, 1985, 1986, 1987, 1988], \"y\": [12288, 12870, 12578, 11387, 10959, 11428, 11073, 11087, 12130, 12357, 12819, 13718, 13714, 14147, 13680, 14075, 15308, 15628, 16685, 17053], \"xaxis\": \"x31\", \"yaxis\": \"y31\"}, {\"type\": \"scatter\", \"x\": [1969, 1970, 1971, 1972, 1973, 1974, 1975, 1976, 1977, 1978, 1979, 1980, 1981, 1982, 1983, 1984, 1985, 1986, 1987, 1988], \"y\": [113754, 116838, 109546, 97760, 92774, 91862, 89014, 87764, 91196, 90676, 93370, 93724, 93428, 95575, 96130, 98214, 102426, 105916, 110338, 114585], \"xaxis\": \"x32\", \"yaxis\": \"y32\"}, {\"type\": \"scatter\", \"x\": [1969, 1970, 1971, 1972, 1973, 1974, 1975, 1976, 1977, 1978, 1979, 1980, 1981, 1982, 1983, 1984, 1985, 1986, 1987, 1988], \"y\": [21316, 21820, 22120, 20650, 20470, 21112, 20840, 21646, 22600, 23264, 24768, 25476, 26084, 27203, 27121, 27084, 27296, 27061, 26932, 26686], \"xaxis\": \"x33\", \"yaxis\": \"y33\"}, {\"type\": \"scatter\", \"x\": [1969, 1970, 1971, 1972, 1973, 1974, 1975, 1976, 1977, 1978, 1979, 1980, 1981, 1982, 1983, 1984, 1985, 1986, 1987, 1988], \"y\": [8902, 9390, 9598, 8868, 8500, 8782, 8844, 9530, 10091, 10811, 12293, 13191, 13881, 14400, 14166, 14769, 15216, 15787, 16557, 17894], \"xaxis\": \"x34\", \"yaxis\": \"y34\"}, {\"type\": \"scatter\", \"x\": [1969, 1970, 1971, 1972, 1973, 1974, 1975, 1976, 1977, 1978, 1979, 1980, 1981, 1982, 1983, 1984, 1985, 1986, 1987, 1988], \"y\": [311984, 318968, 285780, 254946, 240315, 241011, 237683, 237034, 241450, 235024, 236975, 239993, 243252, 248145, 249381, 251862, 260287, 264805, 272835, 281569], \"xaxis\": \"x35\", \"yaxis\": \"y35\"}, {\"type\": \"scatter\", \"x\": [1969, 1970, 1971, 1972, 1973, 1974, 1975, 1976, 1977, 1978, 1979, 1980, 1981, 1982, 1983, 1984, 1985, 1986, 1987, 1988], \"y\": [189544, 199682, 190100, 169284, 160714, 160846, 158936, 155524, 161924, 161049, 167117, 169581, 167584, 165261, 159298, 159202, 161232, 158931, 158870, 161647], \"xaxis\": \"x36\", \"yaxis\": \"y36\"}, {\"type\": \"scatter\", \"x\": [1969, 1970, 1971, 1972, 1973, 1974, 1975, 1976, 1977, 1978, 1979, 1980, 1981, 1982, 1983, 1984, 1985, 1986, 1987, 1988], \"y\": [41756, 43682, 44102, 41094, 39488, 40952, 41315, 42264, 43905, 44266, 47389, 50472, 52091, 57230, 55427, 53081, 51874, 49374, 46778, 46401], \"xaxis\": \"x37\", \"yaxis\": \"y37\"}, {\"type\": \"scatter\", \"x\": [1969, 1970, 1971, 1972, 1973, 1974, 1975, 1976, 1977, 1978, 1979, 1980, 1981, 1982, 1983, 1984, 1985, 1986, 1987, 1988], \"y\": [34486, 36006, 34174, 32132, 31724, 33438, 34312, 35613, 38448, 40015, 42870, 44221, 44150, 42093, 41047, 40842, 40778, 40093, 39996, 41345], \"xaxis\": \"x38\", \"yaxis\": \"y38\"}, {\"type\": \"scatter\", \"x\": [1969, 1970, 1971, 1972, 1973, 1974, 1975, 1976, 1977, 1978, 1979, 1980, 1981, 1982, 1983, 1984, 1985, 1986, 1987, 1988], \"y\": [186692, 193412, 182012, 164094, 154398, 152534, 149900, 149296, 154714, 153304, 159073, 160244, 161800, 163198, 159416, 158548, 161951, 162059, 163696, 166771], \"xaxis\": \"x39\", \"yaxis\": \"y39\"}, {\"type\": \"scatter\", \"x\": [1969, 1970, 1971, 1972, 1973, 1974, 1975, 1976, 1977, 1978, 1979, 1980, 1981, 1982, 1983, 1984, 1985, 1986, 1987, 1988], \"y\": [15854, 16176, 15168, 13495, 12647, 11696, 10957, 11102, 11937, 11785, 12251, 12574, 12866, 13032, 13092, 13290, 13674, 14084, 14669, 14689], \"xaxis\": \"x40\", \"yaxis\": \"y40\"}, {\"type\": \"scatter\", \"x\": [1969, 1970, 1971, 1972, 1973, 1974, 1975, 1976, 1977, 1978, 1979, 1980, 1981, 1982, 1983, 1984, 1985, 1986, 1987, 1988], \"y\": [49182, 50856, 51680, 48598, 47636, 47005, 45147, 46082, 47974, 47654, 48631, 49810, 49473, 49287, 48484, 48296, 49510, 49557, 50662, 53003], \"xaxis\": \"x41\", \"yaxis\": \"y41\"}, {\"type\": \"scatter\", \"x\": [1969, 1970, 1971, 1972, 1973, 1974, 1975, 1976, 1977, 1978, 1979, 1980, 1981, 1982, 1983, 1984, 1985, 1986, 1987, 1988], \"y\": [11276, 11592, 11408, 10672, 10510, 10962, 11128, 11488, 11860, 12104, 12858, 13158, 12674, 12722, 12515, 12328, 12056, 11633, 11537, 11253], \"xaxis\": \"x42\", \"yaxis\": \"y42\"}, {\"type\": \"scatter\", \"x\": [1969, 1970, 1971, 1972, 1973, 1974, 1975, 1976, 1977, 1978, 1979, 1980, 1981, 1982, 1983, 1984, 1985, 1986, 1987, 1988], \"y\": [73248, 75740, 74998, 69492, 67802, 67986, 65752, 65653, 70019, 70248, 72148, 72909, 70753, 71089, 70159, 69713, 71506, 70784, 72675, 75595], \"xaxis\": \"x43\", \"yaxis\": \"y43\"}, {\"type\": \"scatter\", \"x\": [1969, 1970, 1971, 1972, 1973, 1974, 1975, 1976, 1977, 1978, 1979, 1980, 1981, 1982, 1983, 1984, 1985, 1986, 1987, 1988], \"y\": [226868, 237114, 236178, 222006, 218726, 221256, 224754, 227409, 234985, 242548, 260561, 279785, 288362, 303016, 299649, 303569, 312598, 311006, 305520, 307563], \"xaxis\": \"x44\", \"yaxis\": \"y44\"}, {\"type\": \"scatter\", \"x\": [1969, 1970, 1971, 1972, 1973, 1974, 1975, 1976, 1977, 1978, 1979, 1980, 1981, 1982, 1983, 1984, 1985, 1986, 1987, 1988], \"y\": [24810, 27564, 28192, 27548, 28656, 30648, 32406, 36220, 38814, 39758, 42095, 42801, 42384, 42761, 40612, 39390, 38443, 37371, 36265, 37021], \"xaxis\": \"x45\", \"yaxis\": \"y45\"}, {\"type\": \"scatter\", \"x\": [1969, 1970, 1971, 1972, 1973, 1974, 1975, 1976, 1977, 1978, 1979, 1980, 1981, 1982, 1983, 1984, 1985, 1986, 1987, 1988], \"y\": [78364, 81310, 78564, 71548, 68470, 67970, 67378, 67246, 71526, 70651, 73949, 75330, 76231, 77830, 77512, 79365, 82952, 84350, 87613, 90291], \"xaxis\": \"x46\", \"yaxis\": \"y46\"}, {\"type\": \"scatter\", \"x\": [1969, 1970, 1971, 1972, 1973, 1974, 1975, 1976, 1977, 1978, 1979, 1980, 1981, 1982, 1983, 1984, 1985, 1986, 1987, 1988], \"y\": [7778, 8182, 7770, 7137, 6519, 6550, 6438, 6444, 6746, 6910, 7292, 7690, 7636, 7766, 7741, 7805, 7825, 7898, 7888, 7871], \"xaxis\": \"x47\", \"yaxis\": \"y47\"}, {\"type\": \"scatter\", \"x\": [1969, 1970, 1971, 1972, 1973, 1974, 1975, 1976, 1977, 1978, 1979, 1980, 1981, 1982, 1983, 1984, 1985, 1986, 1987, 1988], \"y\": [59238, 60284, 54956, 47928, 47186, 49670, 50424, 52804, 57086, 58421, 63819, 67492, 69141, 68988, 68073, 68080, 69297, 68500, 69346, 71396], \"xaxis\": \"x48\", \"yaxis\": \"y48\"}, {\"type\": \"scatter\", \"x\": [1969, 1970, 1971, 1972, 1973, 1974, 1975, 1976, 1977, 1978, 1979, 1980, 1981, 1982, 1983, 1984, 1985, 1986, 1987, 1988], \"y\": [74044, 76764, 71392, 64214, 62542, 65112, 65000, 64696, 68379, 68387, 72839, 74365, 73821, 73932, 72132, 72763, 73302, 71839, 70457, 70385], \"xaxis\": \"x49\", \"yaxis\": \"y49\"}, {\"type\": \"scatter\", \"x\": [1969, 1970, 1971, 1972, 1973, 1974, 1975, 1976, 1977, 1978, 1979, 1980, 1981, 1982, 1983, 1984, 1985, 1986, 1987, 1988], \"y\": [29198, 30656, 31372, 29696, 27868, 27722, 27888, 28583, 30467, 29732, 30198, 29952, 28371, 27937, 26872, 25504, 25259, 24256, 23421, 22801], \"xaxis\": \"x50\", \"yaxis\": \"y50\"}], {\"xaxis1\": {\"domain\": [0.0, 0.1388888888888889], \"anchor\": \"y1\"}, \"yaxis1\": {\"domain\": [0.9450000000000001, 1.0], \"anchor\": \"x1\"}, \"xaxis2\": {\"domain\": [0.17222222222222222, 0.3111111111111111], \"anchor\": \"y2\"}, \"yaxis2\": {\"domain\": [0.9450000000000001, 1.0], \"anchor\": \"x2\"}, \"xaxis3\": {\"domain\": [0.34444444444444444, 0.48333333333333334], \"anchor\": \"y3\"}, \"yaxis3\": {\"domain\": [0.9450000000000001, 1.0], \"anchor\": \"x3\"}, \"xaxis4\": {\"domain\": [0.5166666666666666, 0.6555555555555554], \"anchor\": \"y4\"}, \"yaxis4\": {\"domain\": [0.9450000000000001, 1.0], \"anchor\": \"x4\"}, \"xaxis5\": {\"domain\": [0.6888888888888889, 0.8277777777777777], \"anchor\": \"y5\"}, \"yaxis5\": {\"domain\": [0.9450000000000001, 1.0], \"anchor\": \"x5\"}, \"xaxis6\": {\"domain\": [0.8611111111111112, 1.0], \"anchor\": \"y6\"}, \"yaxis6\": {\"domain\": [0.9450000000000001, 1.0], \"anchor\": \"x6\"}, \"xaxis7\": {\"domain\": [0.0, 0.1388888888888889], \"anchor\": \"y7\"}, \"yaxis7\": {\"domain\": [0.8400000000000001, 0.8950000000000001], \"anchor\": \"x7\"}, \"xaxis8\": {\"domain\": [0.17222222222222222, 0.3111111111111111], \"anchor\": \"y8\"}, \"yaxis8\": {\"domain\": [0.8400000000000001, 0.8950000000000001], \"anchor\": \"x8\"}, \"xaxis9\": {\"domain\": [0.34444444444444444, 0.48333333333333334], \"anchor\": \"y9\"}, \"yaxis9\": {\"domain\": [0.8400000000000001, 0.8950000000000001], \"anchor\": \"x9\"}, \"xaxis10\": {\"domain\": [0.5166666666666666, 0.6555555555555554], \"anchor\": \"y10\"}, \"yaxis10\": {\"domain\": [0.8400000000000001, 0.8950000000000001], \"anchor\": \"x10\"}, \"xaxis11\": {\"domain\": [0.6888888888888889, 0.8277777777777777], \"anchor\": \"y11\"}, \"yaxis11\": {\"domain\": [0.8400000000000001, 0.8950000000000001], \"anchor\": \"x11\"}, \"xaxis12\": {\"domain\": [0.8611111111111112, 1.0], \"anchor\": \"y12\"}, \"yaxis12\": {\"domain\": [0.8400000000000001, 0.8950000000000001], \"anchor\": \"x12\"}, \"xaxis13\": {\"domain\": [0.0, 0.1388888888888889], \"anchor\": \"y13\"}, \"yaxis13\": {\"domain\": [0.7350000000000001, 0.7900000000000001], \"anchor\": \"x13\"}, \"xaxis14\": {\"domain\": [0.17222222222222222, 0.3111111111111111], \"anchor\": \"y14\"}, \"yaxis14\": {\"domain\": [0.7350000000000001, 0.7900000000000001], \"anchor\": \"x14\"}, \"xaxis15\": {\"domain\": [0.34444444444444444, 0.48333333333333334], \"anchor\": \"y15\"}, \"yaxis15\": {\"domain\": [0.7350000000000001, 0.7900000000000001], \"anchor\": \"x15\"}, \"xaxis16\": {\"domain\": [0.5166666666666666, 0.6555555555555554], \"anchor\": \"y16\"}, \"yaxis16\": {\"domain\": [0.7350000000000001, 0.7900000000000001], \"anchor\": \"x16\"}, \"xaxis17\": {\"domain\": [0.6888888888888889, 0.8277777777777777], \"anchor\": \"y17\"}, \"yaxis17\": {\"domain\": [0.7350000000000001, 0.7900000000000001], \"anchor\": \"x17\"}, \"xaxis18\": {\"domain\": [0.8611111111111112, 1.0], \"anchor\": \"y18\"}, \"yaxis18\": {\"domain\": [0.7350000000000001, 0.7900000000000001], \"anchor\": \"x18\"}, \"xaxis19\": {\"domain\": [0.0, 0.1388888888888889], \"anchor\": \"y19\"}, \"yaxis19\": {\"domain\": [0.6300000000000001, 0.6850000000000002], \"anchor\": \"x19\"}, \"xaxis20\": {\"domain\": [0.17222222222222222, 0.3111111111111111], \"anchor\": \"y20\"}, \"yaxis20\": {\"domain\": [0.6300000000000001, 0.6850000000000002], \"anchor\": \"x20\"}, \"xaxis21\": {\"domain\": [0.34444444444444444, 0.48333333333333334], \"anchor\": \"y21\"}, \"yaxis21\": {\"domain\": [0.6300000000000001, 0.6850000000000002], \"anchor\": \"x21\"}, \"xaxis22\": {\"domain\": [0.5166666666666666, 0.6555555555555554], \"anchor\": \"y22\"}, \"yaxis22\": {\"domain\": [0.6300000000000001, 0.6850000000000002], \"anchor\": \"x22\"}, \"xaxis23\": {\"domain\": [0.6888888888888889, 0.8277777777777777], \"anchor\": \"y23\"}, \"yaxis23\": {\"domain\": [0.6300000000000001, 0.6850000000000002], \"anchor\": \"x23\"}, \"xaxis24\": {\"domain\": [0.8611111111111112, 1.0], \"anchor\": \"y24\"}, \"yaxis24\": {\"domain\": [0.6300000000000001, 0.6850000000000002], \"anchor\": \"x24\"}, \"xaxis25\": {\"domain\": [0.0, 0.1388888888888889], \"anchor\": \"y25\"}, \"yaxis25\": {\"domain\": [0.525, 0.5800000000000001], \"anchor\": \"x25\"}, \"xaxis26\": {\"domain\": [0.17222222222222222, 0.3111111111111111], \"anchor\": \"y26\"}, \"yaxis26\": {\"domain\": [0.525, 0.5800000000000001], \"anchor\": \"x26\"}, \"xaxis27\": {\"domain\": [0.34444444444444444, 0.48333333333333334], \"anchor\": \"y27\"}, \"yaxis27\": {\"domain\": [0.525, 0.5800000000000001], \"anchor\": \"x27\"}, \"xaxis28\": {\"domain\": [0.5166666666666666, 0.6555555555555554], \"anchor\": \"y28\"}, \"yaxis28\": {\"domain\": [0.525, 0.5800000000000001], \"anchor\": \"x28\"}, \"xaxis29\": {\"domain\": [0.6888888888888889, 0.8277777777777777], \"anchor\": \"y29\"}, \"yaxis29\": {\"domain\": [0.525, 0.5800000000000001], \"anchor\": \"x29\"}, \"xaxis30\": {\"domain\": [0.8611111111111112, 1.0], \"anchor\": \"y30\"}, \"yaxis30\": {\"domain\": [0.525, 0.5800000000000001], \"anchor\": \"x30\"}, \"xaxis31\": {\"domain\": [0.0, 0.1388888888888889], \"anchor\": \"y31\"}, \"yaxis31\": {\"domain\": [0.42000000000000004, 0.47500000000000003], \"anchor\": \"x31\"}, \"xaxis32\": {\"domain\": [0.17222222222222222, 0.3111111111111111], \"anchor\": \"y32\"}, \"yaxis32\": {\"domain\": [0.42000000000000004, 0.47500000000000003], \"anchor\": \"x32\"}, \"xaxis33\": {\"domain\": [0.34444444444444444, 0.48333333333333334], \"anchor\": \"y33\"}, \"yaxis33\": {\"domain\": [0.42000000000000004, 0.47500000000000003], \"anchor\": \"x33\"}, \"xaxis34\": {\"domain\": [0.5166666666666666, 0.6555555555555554], \"anchor\": \"y34\"}, \"yaxis34\": {\"domain\": [0.42000000000000004, 0.47500000000000003], \"anchor\": \"x34\"}, \"xaxis35\": {\"domain\": [0.6888888888888889, 0.8277777777777777], \"anchor\": \"y35\"}, \"yaxis35\": {\"domain\": [0.42000000000000004, 0.47500000000000003], \"anchor\": \"x35\"}, \"xaxis36\": {\"domain\": [0.8611111111111112, 1.0], \"anchor\": \"y36\"}, \"yaxis36\": {\"domain\": [0.42000000000000004, 0.47500000000000003], \"anchor\": \"x36\"}, \"xaxis37\": {\"domain\": [0.0, 0.1388888888888889], \"anchor\": \"y37\"}, \"yaxis37\": {\"domain\": [0.31500000000000006, 0.37000000000000005], \"anchor\": \"x37\"}, \"xaxis38\": {\"domain\": [0.17222222222222222, 0.3111111111111111], \"anchor\": \"y38\"}, \"yaxis38\": {\"domain\": [0.31500000000000006, 0.37000000000000005], \"anchor\": \"x38\"}, \"xaxis39\": {\"domain\": [0.34444444444444444, 0.48333333333333334], \"anchor\": \"y39\"}, \"yaxis39\": {\"domain\": [0.31500000000000006, 0.37000000000000005], \"anchor\": \"x39\"}, \"xaxis40\": {\"domain\": [0.5166666666666666, 0.6555555555555554], \"anchor\": \"y40\"}, \"yaxis40\": {\"domain\": [0.31500000000000006, 0.37000000000000005], \"anchor\": \"x40\"}, \"xaxis41\": {\"domain\": [0.6888888888888889, 0.8277777777777777], \"anchor\": \"y41\"}, \"yaxis41\": {\"domain\": [0.31500000000000006, 0.37000000000000005], \"anchor\": \"x41\"}, \"xaxis42\": {\"domain\": [0.8611111111111112, 1.0], \"anchor\": \"y42\"}, \"yaxis42\": {\"domain\": [0.31500000000000006, 0.37000000000000005], \"anchor\": \"x42\"}, \"xaxis43\": {\"domain\": [0.0, 0.1388888888888889], \"anchor\": \"y43\"}, \"yaxis43\": {\"domain\": [0.21000000000000002, 0.265], \"anchor\": \"x43\"}, \"xaxis44\": {\"domain\": [0.17222222222222222, 0.3111111111111111], \"anchor\": \"y44\"}, \"yaxis44\": {\"domain\": [0.21000000000000002, 0.265], \"anchor\": \"x44\"}, \"xaxis45\": {\"domain\": [0.34444444444444444, 0.48333333333333334], \"anchor\": \"y45\"}, \"yaxis45\": {\"domain\": [0.21000000000000002, 0.265], \"anchor\": \"x45\"}, \"xaxis46\": {\"domain\": [0.5166666666666666, 0.6555555555555554], \"anchor\": \"y46\"}, \"yaxis46\": {\"domain\": [0.21000000000000002, 0.265], \"anchor\": \"x46\"}, \"xaxis47\": {\"domain\": [0.6888888888888889, 0.8277777777777777], \"anchor\": \"y47\"}, \"yaxis47\": {\"domain\": [0.21000000000000002, 0.265], \"anchor\": \"x47\"}, \"xaxis48\": {\"domain\": [0.8611111111111112, 1.0], \"anchor\": \"y48\"}, \"yaxis48\": {\"domain\": [0.21000000000000002, 0.265], \"anchor\": \"x48\"}, \"xaxis49\": {\"domain\": [0.0, 0.1388888888888889], \"anchor\": \"y49\"}, \"yaxis49\": {\"domain\": [0.10500000000000001, 0.16000000000000003], \"anchor\": \"x49\"}, \"xaxis50\": {\"domain\": [0.17222222222222222, 0.3111111111111111], \"anchor\": \"y50\"}, \"yaxis50\": {\"domain\": [0.10500000000000001, 0.16000000000000003], \"anchor\": \"x50\"}, \"xaxis51\": {\"domain\": [0.34444444444444444, 0.48333333333333334], \"anchor\": \"y51\"}, \"yaxis51\": {\"domain\": [0.10500000000000001, 0.16000000000000003], \"anchor\": \"x51\"}, \"xaxis52\": {\"domain\": [0.5166666666666666, 0.6555555555555554], \"anchor\": \"y52\"}, \"yaxis52\": {\"domain\": [0.10500000000000001, 0.16000000000000003], \"anchor\": \"x52\"}, \"xaxis53\": {\"domain\": [0.6888888888888889, 0.8277777777777777], \"anchor\": \"y53\"}, \"yaxis53\": {\"domain\": [0.10500000000000001, 0.16000000000000003], \"anchor\": \"x53\"}, \"xaxis54\": {\"domain\": [0.8611111111111112, 1.0], \"anchor\": \"y54\"}, \"yaxis54\": {\"domain\": [0.10500000000000001, 0.16000000000000003], \"anchor\": \"x54\"}, \"xaxis55\": {\"domain\": [0.0, 0.1388888888888889], \"anchor\": \"y55\"}, \"yaxis55\": {\"domain\": [0.0, 0.05500000000000001], \"anchor\": \"x55\"}, \"xaxis56\": {\"domain\": [0.17222222222222222, 0.3111111111111111], \"anchor\": \"y56\"}, \"yaxis56\": {\"domain\": [0.0, 0.05500000000000001], \"anchor\": \"x56\"}, \"xaxis57\": {\"domain\": [0.34444444444444444, 0.48333333333333334], \"anchor\": \"y57\"}, \"yaxis57\": {\"domain\": [0.0, 0.05500000000000001], \"anchor\": \"x57\"}, \"xaxis58\": {\"domain\": [0.5166666666666666, 0.6555555555555554], \"anchor\": \"y58\"}, \"yaxis58\": {\"domain\": [0.0, 0.05500000000000001], \"anchor\": \"x58\"}, \"xaxis59\": {\"domain\": [0.6888888888888889, 0.8277777777777777], \"anchor\": \"y59\"}, \"yaxis59\": {\"domain\": [0.0, 0.05500000000000001], \"anchor\": \"x59\"}, \"xaxis60\": {\"domain\": [0.8611111111111112, 1.0], \"anchor\": \"y60\"}, \"yaxis60\": {\"domain\": [0.0, 0.05500000000000001], \"anchor\": \"x60\"}, \"annotations\": [{\"y\": 1.0, \"xref\": \"paper\", \"x\": 0.06944444444444445, \"yref\": \"paper\", \"text\": \"AK\", \"showarrow\": false, \"font\": {\"size\": 16}, \"xanchor\": \"center\", \"yanchor\": \"bottom\"}, {\"y\": 1.0, \"xref\": \"paper\", \"x\": 0.24166666666666667, \"yref\": \"paper\", \"text\": \"AL\", \"showarrow\": false, \"font\": {\"size\": 16}, \"xanchor\": \"center\", \"yanchor\": \"bottom\"}, {\"y\": 1.0, \"xref\": \"paper\", \"x\": 0.41388888888888886, \"yref\": \"paper\", \"text\": \"AR\", \"showarrow\": false, \"font\": {\"size\": 16}, \"xanchor\": \"center\", \"yanchor\": \"bottom\"}, {\"y\": 1.0, \"xref\": \"paper\", \"x\": 0.586111111111111, \"yref\": \"paper\", \"text\": \"AZ\", \"showarrow\": false, \"font\": {\"size\": 16}, \"xanchor\": \"center\", \"yanchor\": \"bottom\"}, {\"y\": 1.0, \"xref\": \"paper\", \"x\": 0.7583333333333333, \"yref\": \"paper\", \"text\": \"CA\", \"showarrow\": false, \"font\": {\"size\": 16}, \"xanchor\": \"center\", \"yanchor\": \"bottom\"}, {\"y\": 1.0, \"xref\": \"paper\", \"x\": 0.9305555555555556, \"yref\": \"paper\", \"text\": \"CO\", \"showarrow\": false, \"font\": {\"size\": 16}, \"xanchor\": \"center\", \"yanchor\": \"bottom\"}, {\"y\": 0.8950000000000001, \"xref\": \"paper\", \"x\": 0.06944444444444445, \"yref\": \"paper\", \"text\": \"CT\", \"showarrow\": false, \"font\": {\"size\": 16}, \"xanchor\": \"center\", \"yanchor\": \"bottom\"}, {\"y\": 0.8950000000000001, \"xref\": \"paper\", \"x\": 0.24166666666666667, \"yref\": \"paper\", \"text\": \"DC\", \"showarrow\": false, \"font\": {\"size\": 16}, \"xanchor\": \"center\", \"yanchor\": \"bottom\"}, {\"y\": 0.8950000000000001, \"xref\": \"paper\", \"x\": 0.41388888888888886, \"yref\": \"paper\", \"text\": \"DE\", \"showarrow\": false, \"font\": {\"size\": 16}, \"xanchor\": \"center\", \"yanchor\": \"bottom\"}, {\"y\": 0.8950000000000001, \"xref\": \"paper\", \"x\": 0.586111111111111, \"yref\": \"paper\", \"text\": \"FL\", \"showarrow\": false, \"font\": {\"size\": 16}, \"xanchor\": \"center\", \"yanchor\": \"bottom\"}, {\"y\": 0.8950000000000001, \"xref\": \"paper\", \"x\": 0.7583333333333333, \"yref\": \"paper\", \"text\": \"GA\", \"showarrow\": false, \"font\": {\"size\": 16}, \"xanchor\": \"center\", \"yanchor\": \"bottom\"}, {\"y\": 0.8950000000000001, \"xref\": \"paper\", \"x\": 0.9305555555555556, \"yref\": \"paper\", \"text\": \"HI\", \"showarrow\": false, \"font\": {\"size\": 16}, \"xanchor\": \"center\", \"yanchor\": \"bottom\"}, {\"y\": 0.7900000000000001, \"xref\": \"paper\", \"x\": 0.06944444444444445, \"yref\": \"paper\", \"text\": \"IA\", \"showarrow\": false, \"font\": {\"size\": 16}, \"xanchor\": \"center\", \"yanchor\": \"bottom\"}, {\"y\": 0.7900000000000001, \"xref\": \"paper\", \"x\": 0.24166666666666667, \"yref\": \"paper\", \"text\": \"ID\", \"showarrow\": false, \"font\": {\"size\": 16}, \"xanchor\": \"center\", \"yanchor\": \"bottom\"}, {\"y\": 0.7900000000000001, \"xref\": \"paper\", \"x\": 0.41388888888888886, \"yref\": \"paper\", \"text\": \"IL\", \"showarrow\": false, \"font\": {\"size\": 16}, \"xanchor\": \"center\", \"yanchor\": \"bottom\"}, {\"y\": 0.7900000000000001, \"xref\": \"paper\", \"x\": 0.586111111111111, \"yref\": \"paper\", \"text\": \"IN\", \"showarrow\": false, \"font\": {\"size\": 16}, \"xanchor\": \"center\", \"yanchor\": \"bottom\"}, {\"y\": 0.7900000000000001, \"xref\": \"paper\", \"x\": 0.7583333333333333, \"yref\": \"paper\", \"text\": \"KS\", \"showarrow\": false, \"font\": {\"size\": 16}, \"xanchor\": \"center\", \"yanchor\": \"bottom\"}, {\"y\": 0.7900000000000001, \"xref\": \"paper\", \"x\": 0.9305555555555556, \"yref\": \"paper\", \"text\": \"KY\", \"showarrow\": false, \"font\": {\"size\": 16}, \"xanchor\": \"center\", \"yanchor\": \"bottom\"}, {\"y\": 0.6850000000000002, \"xref\": \"paper\", \"x\": 0.06944444444444445, \"yref\": \"paper\", \"text\": \"LA\", \"showarrow\": false, \"font\": {\"size\": 16}, \"xanchor\": \"center\", \"yanchor\": \"bottom\"}, {\"y\": 0.6850000000000002, \"xref\": \"paper\", \"x\": 0.24166666666666667, \"yref\": \"paper\", \"text\": \"MA\", \"showarrow\": false, \"font\": {\"size\": 16}, \"xanchor\": \"center\", \"yanchor\": \"bottom\"}, {\"y\": 0.6850000000000002, \"xref\": \"paper\", \"x\": 0.41388888888888886, \"yref\": \"paper\", \"text\": \"MD\", \"showarrow\": false, \"font\": {\"size\": 16}, \"xanchor\": \"center\", \"yanchor\": \"bottom\"}, {\"y\": 0.6850000000000002, \"xref\": \"paper\", \"x\": 0.586111111111111, \"yref\": \"paper\", \"text\": \"ME\", \"showarrow\": false, \"font\": {\"size\": 16}, \"xanchor\": \"center\", \"yanchor\": \"bottom\"}, {\"y\": 0.6850000000000002, \"xref\": \"paper\", \"x\": 0.7583333333333333, \"yref\": \"paper\", \"text\": \"MI\", \"showarrow\": false, \"font\": {\"size\": 16}, \"xanchor\": \"center\", \"yanchor\": \"bottom\"}, {\"y\": 0.6850000000000002, \"xref\": \"paper\", \"x\": 0.9305555555555556, \"yref\": \"paper\", \"text\": \"MN\", \"showarrow\": false, \"font\": {\"size\": 16}, \"xanchor\": \"center\", \"yanchor\": \"bottom\"}, {\"y\": 0.5800000000000001, \"xref\": \"paper\", \"x\": 0.06944444444444445, \"yref\": \"paper\", \"text\": \"MO\", \"showarrow\": false, \"font\": {\"size\": 16}, \"xanchor\": \"center\", \"yanchor\": \"bottom\"}, {\"y\": 0.5800000000000001, \"xref\": \"paper\", \"x\": 0.24166666666666667, \"yref\": \"paper\", \"text\": \"MS\", \"showarrow\": false, \"font\": {\"size\": 16}, \"xanchor\": \"center\", \"yanchor\": \"bottom\"}, {\"y\": 0.5800000000000001, \"xref\": \"paper\", \"x\": 0.41388888888888886, \"yref\": \"paper\", \"text\": \"MT\", \"showarrow\": false, \"font\": {\"size\": 16}, \"xanchor\": \"center\", \"yanchor\": \"bottom\"}, {\"y\": 0.5800000000000001, \"xref\": \"paper\", \"x\": 0.586111111111111, \"yref\": \"paper\", \"text\": \"NC\", \"showarrow\": false, \"font\": {\"size\": 16}, \"xanchor\": \"center\", \"yanchor\": \"bottom\"}, {\"y\": 0.5800000000000001, \"xref\": \"paper\", \"x\": 0.7583333333333333, \"yref\": \"paper\", \"text\": \"ND\", \"showarrow\": false, \"font\": {\"size\": 16}, \"xanchor\": \"center\", \"yanchor\": \"bottom\"}, {\"y\": 0.5800000000000001, \"xref\": \"paper\", \"x\": 0.9305555555555556, \"yref\": \"paper\", \"text\": \"NE\", \"showarrow\": false, \"font\": {\"size\": 16}, \"xanchor\": \"center\", \"yanchor\": \"bottom\"}, {\"y\": 0.47500000000000003, \"xref\": \"paper\", \"x\": 0.06944444444444445, \"yref\": \"paper\", \"text\": \"NH\", \"showarrow\": false, \"font\": {\"size\": 16}, \"xanchor\": \"center\", \"yanchor\": \"bottom\"}, {\"y\": 0.47500000000000003, \"xref\": \"paper\", \"x\": 0.24166666666666667, \"yref\": \"paper\", \"text\": \"NJ\", \"showarrow\": false, \"font\": {\"size\": 16}, \"xanchor\": \"center\", \"yanchor\": \"bottom\"}, {\"y\": 0.47500000000000003, \"xref\": \"paper\", \"x\": 0.41388888888888886, \"yref\": \"paper\", \"text\": \"NM\", \"showarrow\": false, \"font\": {\"size\": 16}, \"xanchor\": \"center\", \"yanchor\": \"bottom\"}, {\"y\": 0.47500000000000003, \"xref\": \"paper\", \"x\": 0.586111111111111, \"yref\": \"paper\", \"text\": \"NV\", \"showarrow\": false, \"font\": {\"size\": 16}, \"xanchor\": \"center\", \"yanchor\": \"bottom\"}, {\"y\": 0.47500000000000003, \"xref\": \"paper\", \"x\": 0.7583333333333333, \"yref\": \"paper\", \"text\": \"NY\", \"showarrow\": false, \"font\": {\"size\": 16}, \"xanchor\": \"center\", \"yanchor\": \"bottom\"}, {\"y\": 0.47500000000000003, \"xref\": \"paper\", \"x\": 0.9305555555555556, \"yref\": \"paper\", \"text\": \"OH\", \"showarrow\": false, \"font\": {\"size\": 16}, \"xanchor\": \"center\", \"yanchor\": \"bottom\"}, {\"y\": 0.37000000000000005, \"xref\": \"paper\", \"x\": 0.06944444444444445, \"yref\": \"paper\", \"text\": \"OK\", \"showarrow\": false, \"font\": {\"size\": 16}, \"xanchor\": \"center\", \"yanchor\": \"bottom\"}, {\"y\": 0.37000000000000005, \"xref\": \"paper\", \"x\": 0.24166666666666667, \"yref\": \"paper\", \"text\": \"OR\", \"showarrow\": false, \"font\": {\"size\": 16}, \"xanchor\": \"center\", \"yanchor\": \"bottom\"}, {\"y\": 0.37000000000000005, \"xref\": \"paper\", \"x\": 0.41388888888888886, \"yref\": \"paper\", \"text\": \"PA\", \"showarrow\": false, \"font\": {\"size\": 16}, \"xanchor\": \"center\", \"yanchor\": \"bottom\"}, {\"y\": 0.37000000000000005, \"xref\": \"paper\", \"x\": 0.586111111111111, \"yref\": \"paper\", \"text\": \"RI\", \"showarrow\": false, \"font\": {\"size\": 16}, \"xanchor\": \"center\", \"yanchor\": \"bottom\"}, {\"y\": 0.37000000000000005, \"xref\": \"paper\", \"x\": 0.7583333333333333, \"yref\": \"paper\", \"text\": \"SC\", \"showarrow\": false, \"font\": {\"size\": 16}, \"xanchor\": \"center\", \"yanchor\": \"bottom\"}, {\"y\": 0.37000000000000005, \"xref\": \"paper\", \"x\": 0.9305555555555556, \"yref\": \"paper\", \"text\": \"SD\", \"showarrow\": false, \"font\": {\"size\": 16}, \"xanchor\": \"center\", \"yanchor\": \"bottom\"}, {\"y\": 0.265, \"xref\": \"paper\", \"x\": 0.06944444444444445, \"yref\": \"paper\", \"text\": \"TN\", \"showarrow\": false, \"font\": {\"size\": 16}, \"xanchor\": \"center\", \"yanchor\": \"bottom\"}, {\"y\": 0.265, \"xref\": \"paper\", \"x\": 0.24166666666666667, \"yref\": \"paper\", \"text\": \"TX\", \"showarrow\": false, \"font\": {\"size\": 16}, \"xanchor\": \"center\", \"yanchor\": \"bottom\"}, {\"y\": 0.265, \"xref\": \"paper\", \"x\": 0.41388888888888886, \"yref\": \"paper\", \"text\": \"UT\", \"showarrow\": false, \"font\": {\"size\": 16}, \"xanchor\": \"center\", \"yanchor\": \"bottom\"}, {\"y\": 0.265, \"xref\": \"paper\", \"x\": 0.586111111111111, \"yref\": \"paper\", \"text\": \"VA\", \"showarrow\": false, \"font\": {\"size\": 16}, \"xanchor\": \"center\", \"yanchor\": \"bottom\"}, {\"y\": 0.265, \"xref\": \"paper\", \"x\": 0.7583333333333333, \"yref\": \"paper\", \"text\": \"VT\", \"showarrow\": false, \"font\": {\"size\": 16}, \"xanchor\": \"center\", \"yanchor\": \"bottom\"}, {\"y\": 0.265, \"xref\": \"paper\", \"x\": 0.9305555555555556, \"yref\": \"paper\", \"text\": \"WA\", \"showarrow\": false, \"font\": {\"size\": 16}, \"xanchor\": \"center\", \"yanchor\": \"bottom\"}, {\"y\": 0.16000000000000003, \"xref\": \"paper\", \"x\": 0.06944444444444445, \"yref\": \"paper\", \"text\": \"WI\", \"showarrow\": false, \"font\": {\"size\": 16}, \"xanchor\": \"center\", \"yanchor\": \"bottom\"}, {\"y\": 0.16000000000000003, \"xref\": \"paper\", \"x\": 0.24166666666666667, \"yref\": \"paper\", \"text\": \"WV\", \"showarrow\": false, \"font\": {\"size\": 16}, \"xanchor\": \"center\", \"yanchor\": \"bottom\"}, {\"y\": 0.16000000000000003, \"xref\": \"paper\", \"x\": 0.41388888888888886, \"yref\": \"paper\", \"text\": \"WY\", \"showarrow\": false, \"font\": {\"size\": 16}, \"xanchor\": \"center\", \"yanchor\": \"bottom\"}], \"height\": 3000, \"width\": 1000, \"title\": \"i <3 subplots\"}, {\"showLink\": true, \"linkText\": \"Export to plot.ly\"})});</script>"
      ]
     },
     "metadata": {},
     "output_type": "display_data"
    }
   ],
   "source": [
    "fig = tools.make_subplots(rows=10, cols=6,subplot_titles=list(df['state'].unique()))\n",
    "\n",
    "for i in range(50):\n",
    "    fig.append_trace([dct.get(key) for key in dct.keys()][i], 1+i//6, 1+i%6)\n",
    "\n",
    "fig['layout'].update(height=3000, width=1000, title='i <3 subplots')\n",
    "iplot(fig, filename='simple-subplot')"
   ]
  },
  {
   "cell_type": "code",
   "execution_count": null,
   "metadata": {
    "collapsed": true
   },
   "outputs": [],
   "source": [
    "fig = tools.make_subplots(rows=10, cols=5)"
   ]
  },
  {
   "cell_type": "code",
   "execution_count": 573,
   "metadata": {
    "collapsed": true
   },
   "outputs": [],
   "source": [
    "subplot_titles=('Plot 1', 'Plot 2','Plot 3', 'Plot 4')"
   ]
  },
  {
   "cell_type": "code",
   "execution_count": 578,
   "metadata": {},
   "outputs": [],
   "source": [
    "titles=list(df['state'].unique())"
   ]
  },
  {
   "cell_type": "code",
   "execution_count": null,
   "metadata": {
    "collapsed": true
   },
   "outputs": [],
   "source": []
  },
  {
   "cell_type": "code",
   "execution_count": null,
   "metadata": {
    "collapsed": true
   },
   "outputs": [],
   "source": []
  },
  {
   "cell_type": "code",
   "execution_count": null,
   "metadata": {
    "collapsed": true
   },
   "outputs": [],
   "source": []
  },
  {
   "cell_type": "code",
   "execution_count": null,
   "metadata": {
    "collapsed": true
   },
   "outputs": [],
   "source": []
  },
  {
   "cell_type": "code",
   "execution_count": 585,
   "metadata": {},
   "outputs": [
    {
     "data": {
      "text/plain": [
       "154019"
      ]
     },
     "execution_count": 585,
     "metadata": {},
     "output_type": "execute_result"
    }
   ],
   "source": [
    "df[df['state']=='WY'].births.sum()"
   ]
  },
  {
   "cell_type": "code",
   "execution_count": null,
   "metadata": {
    "collapsed": true
   },
   "outputs": [],
   "source": []
  },
  {
   "cell_type": "code",
   "execution_count": null,
   "metadata": {
    "collapsed": true
   },
   "outputs": [],
   "source": []
  }
 ],
 "metadata": {
  "kernelspec": {
   "display_name": "Python 3",
   "language": "python",
   "name": "python3"
  },
  "language_info": {
   "codemirror_mode": {
    "name": "ipython",
    "version": 3
   },
   "file_extension": ".py",
   "mimetype": "text/x-python",
   "name": "python",
   "nbconvert_exporter": "python",
   "pygments_lexer": "ipython3",
   "version": "3.6.1"
  }
 },
 "nbformat": 4,
 "nbformat_minor": 2
}
